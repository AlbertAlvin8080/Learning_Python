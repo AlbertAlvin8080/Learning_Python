{
  "cells": [
    {
      "cell_type": "markdown",
      "metadata": {},
      "source": [
        "# Initializing"
      ]
    },
    {
      "cell_type": "code",
      "execution_count": 1,
      "metadata": {
        "id": "h3RrzOk284H7"
      },
      "outputs": [
        {
          "name": "stderr",
          "output_type": "stream",
          "text": [
            "2024-10-28 23:42:55.084421: E external/local_xla/xla/stream_executor/cuda/cuda_fft.cc:477] Unable to register cuFFT factory: Attempting to register factory for plugin cuFFT when one has already been registered\n",
            "WARNING: All log messages before absl::InitializeLog() is called are written to STDERR\n",
            "E0000 00:00:1730169775.368265   28418 cuda_dnn.cc:8310] Unable to register cuDNN factory: Attempting to register factory for plugin cuDNN when one has already been registered\n",
            "E0000 00:00:1730169775.468322   28418 cuda_blas.cc:1418] Unable to register cuBLAS factory: Attempting to register factory for plugin cuBLAS when one has already been registered\n",
            "2024-10-28 23:42:56.049991: I tensorflow/core/platform/cpu_feature_guard.cc:210] This TensorFlow binary is optimized to use available CPU instructions in performance-critical operations.\n",
            "To enable the following instructions: AVX2 FMA, in other operations, rebuild TensorFlow with the appropriate compiler flags.\n"
          ]
        }
      ],
      "source": [
        "# https://www.tensorflow.org/datasets/api_docs/python/tfds/load\n",
        "# https://www.tensorflow.org/datasets/catalog/malaria?hl=pt-br\n",
        "\n",
        "import cv2 as cv\n",
        "import tensorflow as tf\n",
        "import tensorflow_datasets as tfds\n",
        "from tensorflow.keras.layers import Conv2D, MaxPool2D, Dense, Flatten, Input, BatchNormalization, Layer, Dropout, Resizing, Rescaling, RandomFlip, RandomRotation\n",
        "from tensorflow.keras.losses import BinaryCrossentropy\n",
        "from tensorflow.keras.optimizers import Adam\n",
        "from tensorflow.keras.models import Model\n",
        "from tensorflow.keras.metrics import BinaryAccuracy, FalsePositives, FalseNegatives, TruePositives, Accuracy,TrueNegatives, AUC, Precision, Recall\n",
        "from tensorflow.keras.callbacks import Callback, CSVLogger, EarlyStopping, LearningRateScheduler, ModelCheckpoint, ReduceLROnPlateau\n",
        "from tensorflow.keras.regularizers import L2, L1\n",
        "import tensorflow_probability as tfp\n",
        "\n",
        "import math\n",
        "import numpy as np\n",
        "import matplotlib.pyplot as plt\n",
        "import seaborn as sns\n",
        "import sklearn\n",
        "from sklearn.metrics import confusion_matrix, roc_curve"
      ]
    },
    {
      "cell_type": "code",
      "execution_count": 2,
      "metadata": {},
      "outputs": [
        {
          "name": "stdout",
          "output_type": "stream",
          "text": [
            "[PhysicalDevice(name='/physical_device:GPU:0', device_type='GPU')]\n"
          ]
        }
      ],
      "source": [
        "print(tf.config.list_physical_devices('GPU'))"
      ]
    },
    {
      "cell_type": "code",
      "execution_count": 3,
      "metadata": {
        "colab": {
          "base_uri": "https://localhost:8080/",
          "height": 150,
          "referenced_widgets": [
            "06a011066554490fb1e7160331b2e355",
            "88ca6ef8707344e7b905cb8d39f0e4f1",
            "be82b9e262fd4ea08f009d68cc66e61c",
            "21da1f79109a4225a722fde8eae09536",
            "3f06732c95354caf95d29913d2f61556",
            "49d762663abb4ebd966dab3c30079c93",
            "a9a59398363b42009fec97c8fb73ad19",
            "016b5ad7a7204dbdbf7481844b7a117f",
            "7385604dac0c45faa39684bd00a9dc7d",
            "5fbf5218ffd44c82a14f32eed8ab5b5b",
            "a60d096ba5a04a369d728fe5002e5e78",
            "93c9d117dac44aa0a4b07125e5988433",
            "5060256c2f4446a594b0df1806f61f82",
            "44dcc166c9244555ac9ea509f38da4f8",
            "c83d48b3b24a42efb6fdbcecce9e1c20",
            "e8af7d0162e14a5aa7c1585441a23a7b",
            "394c1a3d724c4638975356f460cfd2c7",
            "80035271d1d24a008a59577d2b1eee97",
            "b1882799b4794d08ae7e95d64c28ccc7",
            "606eb475e20c4d6ea9aa03374bfcf763",
            "3b6ddf55b8cf4bf68ddf5569af054757",
            "794414b41ed144dca6e120eb7adb924e",
            "db391c6fa2394d05945cf1e2aa112930",
            "ea4101d4eb50478487cd2c8c72b07e0e",
            "394c42a48b3d4bdd9a60245973eca116",
            "b16560e1622945e08b3e8ad8f774d926",
            "fcff762bfb534aeea6792b038b0b93a1",
            "37d3dc3c808d429283548b07a66b4022",
            "7e6a0ccee6184fdbb0bdc7b255fc3133",
            "90025f4e93674a07b620a7f8af0d96e6",
            "a0f50910d4d14c25a2734149c3e686e1",
            "50c8c573bd8047b3bd971e5ed54c4375",
            "87a6f327290042c3b6e50d0a30723f3a"
          ]
        },
        "id": "uahzbtki_RWk",
        "outputId": "aafc0154-1710-49e5-bf90-e32b3dfba53c"
      },
      "outputs": [
        {
          "name": "stderr",
          "output_type": "stream",
          "text": [
            "I0000 00:00:1730169789.460411   28418 gpu_device.cc:2022] Created device /job:localhost/replica:0/task:0/device:GPU:0 with 2865 MB memory:  -> device: 0, name: NVIDIA GeForce GTX 1050, pci bus id: 0000:01:00.0, compute capability: 6.1\n"
          ]
        },
        {
          "name": "stdout",
          "output_type": "stream",
          "text": [
            "[<_PrefetchDataset element_spec=(TensorSpec(shape=(None, None, 3), dtype=tf.uint8, name=None), TensorSpec(shape=(), dtype=tf.int64, name=None))>]\n"
          ]
        }
      ],
      "source": [
        "dataset, dataset_info = tfds.load(\n",
        "    \"malaria\",\n",
        "    with_info=True,\n",
        "    as_supervised=True,\n",
        "    shuffle_files=True,\n",
        "    split=[\"train\"]\n",
        "    # This dataset in particular has not been splitted previously for us.\n",
        "    # split=[\"train\", \"test\"]\n",
        ")\n",
        "print(dataset)\n",
        "# print(dataset_info)"
      ]
    },
    {
      "cell_type": "code",
      "execution_count": 4,
      "metadata": {},
      "outputs": [],
      "source": [
        "def split_dataset(dataset: tf.data.Dataset, train_ratio: float, val_ratio: float, test_ratio: float) -> tuple[tf.data.Dataset, tf.data.Dataset, tf.data.Dataset]:\n",
        "  size = len(dataset)\n",
        "  train_dataset = dataset.take(int(size * train_ratio))\n",
        "  val_dataset = dataset.skip(int(size * train_ratio)).take(int(size * val_ratio))\n",
        "  test_dataset = dataset.skip(int(size * (train_ratio + val_ratio)))\n",
        "\n",
        "  return train_dataset, val_dataset, test_dataset\n",
        "\n",
        "\n",
        "def plot_img(dataset: tf.data.Dataset):\n",
        "  rows = 4\n",
        "  cols = 4\n",
        "  plt.figure(figsize=[5,6])\n",
        "  for i, (image, label) in enumerate(dataset):\n",
        "    # print(image[112,112])\n",
        "    if len(image.shape) <= 3:\n",
        "      plt.subplot(rows, cols, i+1)\n",
        "      plt.imshow(image)\n",
        "      plt.axis(\"off\")\n",
        "      plt.title(dataset_info.features[\"label\"].int2str(label))\n",
        "    else:\n",
        "      for j in range(image.shape[0]):\n",
        "        if j > rows * cols - 1: break\n",
        "        plt.subplot(rows, cols, j + 1)\n",
        "        plt.imshow(image[j])\n",
        "        plt.axis(\"off\")\n",
        "        plt.title(dataset_info.features[\"label\"].int2str(label[j].numpy()))\n",
        "  plt.show()\n",
        "\n",
        "\n",
        "IMG_SIZE = 224\n",
        "# passing the label because tf.data.Dataset.map() passes it as well.\n",
        "@tf.function\n",
        "def resize_and_normalize(image, label):\n",
        "  # divinding by 255.0 element wise.\n",
        "  new_img = tf.image.resize(image, (IMG_SIZE, IMG_SIZE)) / 255.0\n",
        "  return new_img, label"
      ]
    },
    {
      "cell_type": "code",
      "execution_count": 5,
      "metadata": {},
      "outputs": [],
      "source": [
        "train_dataset, val_dataset, test_dataset = split_dataset(dataset[0], 0.8, 0.1, 0.1)\n",
        "\n",
        "train_dataset = train_dataset.map(resize_and_normalize).shuffle(buffer_size=8, reshuffle_each_iteration=True).batch(32).prefetch(tf.data.AUTOTUNE)\n",
        "\n",
        "val_dataset = val_dataset.map(resize_and_normalize).shuffle(buffer_size=8, reshuffle_each_iteration=True).batch(32).prefetch(tf.data.AUTOTUNE)\n",
        "\n",
        "# It's useless to shuffle and prefetch the test_dataset because it's not used for training.\n",
        "# It's still necessary to batch it since the model expects the inputs to be in batches though.\n",
        "test_dataset = test_dataset.map(resize_and_normalize).batch(1)"
      ]
    },
    {
      "cell_type": "markdown",
      "metadata": {
        "id": "g08xy9BxDacI"
      },
      "source": [
        "# Familiarizing"
      ]
    },
    {
      "cell_type": "code",
      "execution_count": null,
      "metadata": {
        "colab": {
          "base_uri": "https://localhost:8080/"
        },
        "id": "4vmUUoVfY8Uv",
        "outputId": "8bbc7151-d7c2-4f06-a9dd-d76c7aab46b7"
      },
      "outputs": [],
      "source": [
        "# from_logits = False -> assumes the input values are between 0 and 1\n",
        "bce = BinaryCrossentropy(from_logits = False)\n",
        "test_true = tf.constant([1, 0, 0, 1])\n",
        "# test_pred = tf.constant([1, 0, 0, 1])\n",
        "test_pred = tf.constant([1, 0, 1, 0])\n",
        "\n",
        "# The closer test_pred is to test_true, the lower the output of BCE.\n",
        "# If they're equal, the value is a very small value (closes to zero, like 1.192093e-07)\n",
        "bce(test_true, test_pred)"
      ]
    },
    {
      "cell_type": "code",
      "execution_count": null,
      "metadata": {
        "colab": {
          "base_uri": "https://localhost:8080/"
        },
        "id": "lpzuW8YK_qKq",
        "outputId": "93ba2561-f34e-4cf6-9a68-d6b27d0f355a"
      },
      "outputs": [],
      "source": [
        "# It's list\n",
        "len(dataset), dataset"
      ]
    },
    {
      "cell_type": "code",
      "execution_count": null,
      "metadata": {
        "colab": {
          "base_uri": "https://localhost:8080/"
        },
        "id": "NKPxCzg8CfSl",
        "outputId": "777aa096-a18b-4c3a-e009-ac9933b34526"
      },
      "outputs": [],
      "source": [
        "for data in dataset[0].take(1):\n",
        "  # 'data' is a tuple! The first parameter is the image, the second is the label in numeric format (0 or 1 for this case)\n",
        "  print(data)"
      ]
    },
    {
      "cell_type": "code",
      "execution_count": null,
      "metadata": {
        "colab": {
          "base_uri": "https://localhost:8080/",
          "height": 257
        },
        "id": "SgzLz7CfA6rL",
        "outputId": "b91ea404-2a38-4946-e5f7-6a693638df78"
      },
      "outputs": [],
      "source": [
        "plt.figure(figsize=[20,5])\n",
        "\n",
        "# Taking N number of elements (images) from the dataset.\n",
        "n = 6\n",
        "for i, data in enumerate(dataset[0].take(n)):\n",
        "  plt.subplot(100 + n * 10 + (i+1))\n",
        "  plt.imshow(data[0])\n",
        "\n",
        "plt.show()"
      ]
    },
    {
      "cell_type": "code",
      "execution_count": null,
      "metadata": {
        "colab": {
          "base_uri": "https://localhost:8080/"
        },
        "id": "Xwy-K8BVFY7E",
        "outputId": "69851958-e700-4ced-e0f0-bcee61f89353"
      },
      "outputs": [],
      "source": [
        "testset = tf.data.Dataset.range(10)\n",
        "testset = testset.skip(5)\n",
        "print(list(testset.as_numpy_iterator()))"
      ]
    },
    {
      "cell_type": "code",
      "execution_count": null,
      "metadata": {
        "colab": {
          "base_uri": "https://localhost:8080/"
        },
        "id": "jnMMsYdwIhCy",
        "outputId": "05368bb0-5c11-4c03-f753-793590337943"
      },
      "outputs": [],
      "source": [
        "testset = tf.data.Dataset.range(10)\n",
        "train, val, test = split_dataset(testset, 0.6, 0.2, 0.2)\n",
        "\n",
        "print(list(train.as_numpy_iterator()))\n",
        "print(list(val.as_numpy_iterator()))\n",
        "print(list(test.as_numpy_iterator()))\n",
        "\n",
        "print(\"-\"*30)\n",
        "train, val, test = split_dataset(testset, 0.6, 0, 0.2)\n",
        "\n",
        "print(list(train.as_numpy_iterator()))\n",
        "print(list(val.as_numpy_iterator()))\n",
        "print(list(test.as_numpy_iterator()))"
      ]
    },
    {
      "cell_type": "code",
      "execution_count": null,
      "metadata": {
        "id": "eVXWIiU3iCIM"
      },
      "outputs": [],
      "source": [
        "# the output changes based on if you passed through resize_and_normalize or not.\n",
        "# WARNING: the dataset must NOT be inside batches.\n",
        "# NOTE: it actually may be inside batches now\n",
        "plot_img(train_dataset.take(1))"
      ]
    },
    {
      "cell_type": "markdown",
      "metadata": {
        "id": "8F_kssvrN5bG"
      },
      "source": [
        "# Sequential API"
      ]
    },
    {
      "cell_type": "code",
      "execution_count": null,
      "metadata": {
        "colab": {
          "base_uri": "https://localhost:8080/",
          "height": 597
        },
        "id": "6fWUPLo2legv",
        "outputId": "ee69dec4-aa9b-4848-cf42-93551911622c"
      },
      "outputs": [],
      "source": [
        "# Conv2D -> Extracts features.\n",
        "# MaxPool2D -> Extracts the most important features using max() in the elements of a cell of size pool_size * pool_size.\n",
        "# Using relu as activation instead of sigmoid may increase the performance (computational cost) while training.\n",
        "# BatchNormalization -> When inputs to a layer are normalized, it becomes easier for the model to learn the important features in a more stable manner.\n",
        "\n",
        "model = tf.keras.Sequential([\n",
        "    Input(shape=(IMG_SIZE, IMG_SIZE, 3)),\n",
        "\n",
        "    Conv2D(filters=6, kernel_size=5, strides=1, padding=\"valid\", activation=\"relu\"),\n",
        "    BatchNormalization(),\n",
        "    MaxPool2D(pool_size=2, strides=2),\n",
        "\n",
        "    # In this model, the number of filters (6 and then 16) represents the number of feature maps the convolutional\n",
        "    # layers will learn. By starting with fewer filters (6) in the first layer, we're keeping the initial computation\n",
        "    # lower and focusing on learning simpler, broad features from the input image, such as edges and basic shapes.\n",
        "    # As we go deeper in the network, increasing the filters to 16 allows the model to learn more complex features\n",
        "    # since the image resolution has been reduced by the pooling layers, and there’s less spatial information to process.\n",
        "    Conv2D(filters=16, kernel_size=5, strides=1, padding=\"valid\", activation=\"relu\"),\n",
        "    BatchNormalization(),\n",
        "    MaxPool2D(pool_size=2, strides=2),\n",
        "    Flatten(),\n",
        "\n",
        "    Dense(100, activation=\"relu\"),\n",
        "    BatchNormalization(),\n",
        "    Dense(10, activation=\"relu\"),\n",
        "    BatchNormalization(),\n",
        "    # 1 because even if it's 'uninfected' or 'parasitized', we just want 0 OR 1 as output.\n",
        "    Dense(1, activation=\"sigmoid\")\n",
        "])\n",
        "\n",
        "model.summary()"
      ]
    },
    {
      "cell_type": "code",
      "execution_count": null,
      "metadata": {
        "id": "cgNCrkvIcE5f"
      },
      "outputs": [],
      "source": [
        "model.compile(\n",
        "    optimizer = Adam(learning_rate=0.1),\n",
        "    loss = BinaryCrossentropy(),\n",
        "    metrics = [\"accuracy\"]\n",
        ")"
      ]
    },
    {
      "cell_type": "code",
      "execution_count": null,
      "metadata": {
        "colab": {
          "base_uri": "https://localhost:8080/"
        },
        "id": "f7R-F2yFe1zW",
        "outputId": "ad5a583c-e87e-4a10-9b52-ac24567ad9de"
      },
      "outputs": [],
      "source": [
        "history = model.fit(train_dataset, validation_data=val_dataset, epochs=5, verbose=1)"
      ]
    },
    {
      "cell_type": "code",
      "execution_count": null,
      "metadata": {
        "colab": {
          "base_uri": "https://localhost:8080/",
          "height": 492
        },
        "id": "bBTZT28jmSCP",
        "outputId": "550c4fd7-5a34-4274-9ee9-4ee420080a76"
      },
      "outputs": [],
      "source": [
        "plt.figure()\n",
        "plt.plot(history.history[\"loss\"])\n",
        "plt.plot(history.history[\"val_loss\"])\n",
        "plt.ylabel(\"loss\")\n",
        "plt.xlabel(\"epoch\")\n",
        "plt.legend([\"train dataset loss\", \"validation dataset loss\"])\n",
        "plt.title(\"Model Loss\")\n",
        "plt.show()"
      ]
    },
    {
      "cell_type": "code",
      "execution_count": null,
      "metadata": {
        "colab": {
          "base_uri": "https://localhost:8080/",
          "height": 492
        },
        "id": "7lUnqv7tml3X",
        "outputId": "d5bccc27-d491-4cf6-8338-ea37ec8b7ce8"
      },
      "outputs": [],
      "source": [
        "plt.figure()\n",
        "plt.plot(history.history[\"accuracy\"])\n",
        "plt.plot(history.history[\"val_accuracy\"])\n",
        "plt.title(\"Model Accurary\")\n",
        "plt.legend([\"train dataset accuracy\", \"validation dataset accuracy\"])\n",
        "plt.ylabel(\"accuracy\")\n",
        "plt.xlabel(\"epoch\")\n",
        "plt.show()"
      ]
    },
    {
      "cell_type": "code",
      "execution_count": null,
      "metadata": {
        "colab": {
          "base_uri": "https://localhost:8080/"
        },
        "id": "NAlKgVdRCFde",
        "outputId": "6a3cbd60-6536-4c16-805e-142513c475ca"
      },
      "outputs": [],
      "source": [
        "model.evaluate(test_dataset.take(1))"
      ]
    },
    {
      "cell_type": "code",
      "execution_count": null,
      "metadata": {
        "colab": {
          "base_uri": "https://localhost:8080/"
        },
        "id": "-YqTgFg_CBAt",
        "outputId": "e44ba21d-9711-4433-a14c-5f86af2a7700"
      },
      "outputs": [],
      "source": [
        "model.predict(test_dataset.take(1))"
      ]
    },
    {
      "cell_type": "code",
      "execution_count": null,
      "metadata": {
        "colab": {
          "base_uri": "https://localhost:8080/",
          "height": 604
        },
        "id": "nql4mDW-BZEG",
        "outputId": "1e886739-da93-42d5-baf0-7023fae9799e"
      },
      "outputs": [],
      "source": [
        "def parasited_or_not(x):\n",
        "  if x < 0.5:\n",
        "    return \"P\"\n",
        "  else:\n",
        "    return \"U\"\n",
        "\n",
        "width = 3\n",
        "height = 3\n",
        "\n",
        "plt.figure()\n",
        "for i, (image, label) in enumerate(test_dataset.take(width*height)):\n",
        "  plt.subplot(width, height, i+1)\n",
        "  plt.imshow(image[0])\n",
        "  plt.axis(\"off\")\n",
        "  pred = model.predict(image)[0][0]\n",
        "  plt.title(str(parasited_or_not(label.numpy()[0])) + \":\" + str(parasited_or_not(pred)))\n",
        "\n",
        "plt.show()"
      ]
    },
    {
      "cell_type": "code",
      "execution_count": null,
      "metadata": {
        "colab": {
          "base_uri": "https://localhost:8080/"
        },
        "id": "ZdD-1DdpO9_v",
        "outputId": "47a226bc-7a43-4e63-fdb4-d1ddf7bf4072"
      },
      "outputs": [],
      "source": [
        "model.save(\"mymodel.keras\")\n",
        "model.save(\"mymodel.h5\")"
      ]
    },
    {
      "cell_type": "markdown",
      "metadata": {
        "id": "8X4mYLs-Qlj9"
      },
      "source": [
        "# Functional API"
      ]
    },
    {
      "cell_type": "code",
      "execution_count": null,
      "metadata": {
        "colab": {
          "base_uri": "https://localhost:8080/",
          "height": 629
        },
        "id": "4KVF8O-6QnVd",
        "outputId": "bc7c4ce5-32de-42bb-a756-b85cc390d834"
      },
      "outputs": [],
      "source": [
        "input = Input(shape=(IMG_SIZE, IMG_SIZE, 3), name = \"Input_Image\")\n",
        "\n",
        "# You could put all these togheter inside tf.keras.Sequential and feed it to Flatten()(sequential)\n",
        "x = Conv2D(filters=6, kernel_size=5, strides=1, padding=\"valid\", activation=\"relu\")(input)\n",
        "x = BatchNormalization()(x)\n",
        "x = MaxPool2D(pool_size=2, strides=2)(x)\n",
        "x = Conv2D(filters=16, kernel_size=5, strides=1, padding=\"valid\", activation=\"relu\")(x)\n",
        "x = BatchNormalization()(x)\n",
        "x = MaxPool2D(pool_size=2, strides=2)(x)\n",
        "\n",
        "x = Flatten()(x)\n",
        "\n",
        "x = Dense(100, activation=\"relu\")(x)\n",
        "x = BatchNormalization()(x)\n",
        "x = Dense(10, activation=\"relu\")(x)\n",
        "x = BatchNormalization()(x)\n",
        "output = Dense(1, activation=\"sigmoid\")(x)\n",
        "\n",
        "fun_model = Model(input, output, name=\"Linet_Model\")\n",
        "fun_model.summary()"
      ]
    },
    {
      "cell_type": "code",
      "execution_count": 11,
      "metadata": {
        "id": "QL6WaIAj5l-z"
      },
      "outputs": [],
      "source": [
        "fun_model.compile(\n",
        "    optimizer = Adam(learning_rate=0.1),\n",
        "    loss = BinaryCrossentropy(),\n",
        "    metrics = [\"accuracy\"]\n",
        ")"
      ]
    },
    {
      "cell_type": "code",
      "execution_count": null,
      "metadata": {
        "colab": {
          "base_uri": "https://localhost:8080/"
        },
        "id": "O6ztQwTP5rpy",
        "outputId": "38b08a6b-9f42-4394-9f2e-ba4508f4d73a"
      },
      "outputs": [],
      "source": [
        "# with tf.device(\"GPU:0\"):\n",
        "history = fun_model.fit(train_dataset, validation_data=val_dataset, epochs=5, verbose=1)"
      ]
    },
    {
      "cell_type": "code",
      "execution_count": null,
      "metadata": {
        "colab": {
          "base_uri": "https://localhost:8080/",
          "height": 492
        },
        "id": "1W8Pfh9W5xUk",
        "outputId": "6b9020e8-6640-4831-dbb5-bbc389c25cfd"
      },
      "outputs": [],
      "source": [
        "plt.figure()\n",
        "plt.plot(history.history[\"loss\"])\n",
        "plt.plot(history.history[\"val_loss\"])\n",
        "plt.ylabel(\"loss\")\n",
        "plt.xlabel(\"epoch\")\n",
        "plt.legend([\"train dataset loss\", \"validation dataset loss\"])\n",
        "plt.title(\"Model Loss\")\n",
        "plt.show()"
      ]
    },
    {
      "cell_type": "markdown",
      "metadata": {
        "id": "3sivPkrsuU5T"
      },
      "source": [
        "# Subclassing"
      ]
    },
    {
      "cell_type": "code",
      "execution_count": null,
      "metadata": {
        "id": "-HI3VOzhusX8"
      },
      "outputs": [],
      "source": [
        "class FeatureExtractor(Layer):\n",
        "  def __init__(self, filters=8, kernel_size=3, k_strides=1, padding=\"valid\", activation=\"relu\", pool_size=2, pool_strides=2):\n",
        "    super(FeatureExtractor, self).__init__()\n",
        "\n",
        "    self.conv_1 = Conv2D(filters = filters, kernel_size=kernel_size, strides=k_strides, padding=padding, activation=activation)\n",
        "    self.batchn_1 = BatchNormalization()\n",
        "    self.pool_1 = MaxPool2D(pool_size=pool_size, strides=2*pool_strides)\n",
        "    \n",
        "    # self.conv_2 = Conv2D(filters = math.ceil(filters*2.5), kernel_size=kernel_size, strides=k_strides, padding=padding, activation=activation)\n",
        "    self.conv_2 = Conv2D(filters = filters*2, kernel_size=kernel_size, strides=k_strides, padding=padding, activation=activation)\n",
        "    self.batchn_2 = BatchNormalization()\n",
        "    self.pool_2 = MaxPool2D(pool_size=pool_size, strides=2*pool_strides)\n",
        "\n",
        "  # No, it's NOT the dunder call (__call__).\n",
        "  def call(self, x_in, training = None):\n",
        "    x = self.conv_1(x_in)\n",
        "    x = self.batchn_1(x)\n",
        "    x = self.pool_1(x)\n",
        "    \n",
        "    x = self.conv_2(x)\n",
        "    x = self.batchn_2(x)\n",
        "    x_out = self.pool_2(x)\n",
        "    \n",
        "    return x_out\n",
        "\n",
        "class FeatureClassification(Layer):\n",
        "  def __init__(self, units = 100, activation = \"relu\"):\n",
        "    super(FeatureClassification, self).__init__()\n",
        "    self.dense_1 = Dense(units = units, activation = activation)\n",
        "    self.batchn_1 = BatchNormalization()\n",
        "    # self.dense_2 = Dense(units = math.ceil(units / 10), activation = activation)\n",
        "    self.dense_2 = Dense(units = 10, activation = activation)\n",
        "    self.batchn_2 = BatchNormalization()\n",
        "    self.dense_out = Dense(units = 1, activation = \"sigmoid\")\n",
        "\n",
        "  def call(self, x_in, training = None):\n",
        "    x = self.dense_1(x_in)\n",
        "    x = self.batchn_1(x)\n",
        "    x = self.dense_2(x)\n",
        "    x = self.batchn_2(x)\n",
        "    x_out = self.dense_out(x)\n",
        "    return x_out\n",
        "\n",
        "class LenetModel(Model):\n",
        "  def __init__(self):\n",
        "    super(LenetModel, self).__init__()\n",
        "    # self.feature_extractor = FeatureExtractor(8, 3, 1, \"valid\", \"relu\", 2)\n",
        "    self.feat_ext = FeatureExtractor()\n",
        "    self.flatten = Flatten()\n",
        "    self.feat_classf = FeatureClassification()\n",
        "    \n",
        "  # WARNING: apparently, if you miss this 'training' parameter here,\n",
        "  # your model doesnt perform as it should.\n",
        "  def call(self, x, training = None):\n",
        "    x = self.feat_ext(x)\n",
        "    x = self.flatten(x)\n",
        "    x = self.feat_classf(x)\n",
        "    return x\n",
        "\n",
        "subc_model = LenetModel()\n",
        "subc_model(tf.zeros([1,224,224,3]))\n",
        "subc_model.summary()\n",
        "\n",
        "subc_model.compile(\n",
        "    optimizer = Adam(learning_rate=0.1),\n",
        "    loss = BinaryCrossentropy(),\n",
        "    metrics = [\"accuracy\"]\n",
        ")"
      ]
    },
    {
      "cell_type": "code",
      "execution_count": null,
      "metadata": {
        "colab": {
          "base_uri": "https://localhost:8080/",
          "height": 324
        },
        "id": "dufwt7383Xac",
        "outputId": "d3efb729-b5b7-4225-ecb2-61ae716c2a32"
      },
      "outputs": [],
      "source": [
        "history = subc_model.fit(train_dataset, validation_data=val_dataset, epochs=5, verbose=1)"
      ]
    },
    {
      "cell_type": "code",
      "execution_count": null,
      "metadata": {
        "colab": {
          "base_uri": "https://localhost:8080/",
          "height": 492
        },
        "id": "zrJvd2x25VHi",
        "outputId": "ca776f01-fe93-43a0-937e-ce466fb7bea6"
      },
      "outputs": [],
      "source": [
        "plt.figure()\n",
        "plt.plot(history.history[\"loss\"])\n",
        "plt.plot(history.history[\"val_loss\"])\n",
        "plt.ylabel(\"loss\")\n",
        "plt.xlabel(\"epoch\")\n",
        "plt.legend([\"train dataset loss\", \"validation dataset loss\"])\n",
        "plt.title(\"Model Loss\")\n",
        "plt.show()"
      ]
    },
    {
      "cell_type": "markdown",
      "metadata": {},
      "source": [
        "# Custom Layers"
      ]
    },
    {
      "cell_type": "code",
      "execution_count": 15,
      "metadata": {},
      "outputs": [],
      "source": [
        "class CustomDenseLayer(Layer):\n",
        "    def __init__(self, units, activation):\n",
        "        super(CustomDenseLayer, self).__init__()\n",
        "        \"\"\"\n",
        "        units => specifies the number of neurons (or output units) in the layer. \n",
        "        It defines the size of the output vector produced by the layer when it \n",
        "        processes the input features.\n",
        "        \"\"\"\n",
        "        self.c_units = units\n",
        "        self.c_activation = activation\n",
        "\n",
        "    def build(self, input_features_shape):\n",
        "        # self.add_weight(...) comes from the superclass.\n",
        "        \n",
        "        # input_features (passed to call()) will have a shape of:\n",
        "        # - (batch, cols)\n",
        "        # so we need this c_weights to have shape of: \n",
        "        # - (cols, c_units)\n",
        "        self.c_weight = self.add_weight(shape = (input_features_shape[-1], self.c_units), initializer = \"random_normal\", trainable = True)\n",
        "        self.c_bias  = self.add_weight(shape = (self.c_units,), initializer = \"zeros\", trainable = True)\n",
        "    \n",
        "    def call(self, input_features):\n",
        "        pre_output = tf.matmul(input_features, self.c_weight) + self.c_bias\n",
        "\n",
        "        if self.c_activation == \"relu\":\n",
        "            return tf.nn.relu(pre_output)\n",
        "        \n",
        "        if self.c_activation == \"sigmoid\":\n",
        "            return tf.math.sigmoid(pre_output)\n",
        "        \n",
        "        return pre_output"
      ]
    },
    {
      "cell_type": "code",
      "execution_count": null,
      "metadata": {},
      "outputs": [],
      "source": [
        "custom_layer_model = tf.keras.Sequential([\n",
        "    Input(shape = (IMG_SIZE, IMG_SIZE, 3)),\n",
        "    \n",
        "    Conv2D(filters=6, kernel_size=5, strides=1, padding=\"valid\", activation=\"relu\"),\n",
        "    BatchNormalization(),\n",
        "    MaxPool2D(pool_size=2, strides=2),\n",
        "\n",
        "    Conv2D(filters=16, kernel_size=5, strides=1, padding=\"valid\", activation=\"relu\"),\n",
        "    BatchNormalization(),\n",
        "    MaxPool2D(pool_size=2, strides=2),\n",
        "    \n",
        "    Flatten(),\n",
        "\n",
        "    CustomDenseLayer(100, activation=\"relu\"),\n",
        "    BatchNormalization(),\n",
        "    CustomDenseLayer(10, activation=\"relu\"),\n",
        "    BatchNormalization(),\n",
        "    CustomDenseLayer(1, activation=\"sigmoid\")\n",
        "])\n",
        "\n",
        "custom_layer_model.summary()\n",
        "custom_layer_model.compile(\n",
        "    optimizer=Adam(learning_rate=0.1),\n",
        "    loss = BinaryCrossentropy(from_logits=False),\n",
        "    metrics = [BinaryAccuracy()]\n",
        ")"
      ]
    },
    {
      "cell_type": "code",
      "execution_count": null,
      "metadata": {},
      "outputs": [],
      "source": [
        "history = custom_layer_model.fit(train_dataset, validation_data=val_dataset, epochs=5, verbose=1)"
      ]
    },
    {
      "cell_type": "code",
      "execution_count": null,
      "metadata": {},
      "outputs": [],
      "source": [
        "plt.figure()\n",
        "plt.plot(history.history[\"loss\"])\n",
        "plt.plot(history.history[\"val_loss\"])\n",
        "plt.ylabel(\"loss\")\n",
        "plt.xlabel(\"epoch\")\n",
        "plt.legend([\"train dataset loss\", \"validation dataset loss\"])\n",
        "plt.title(\"Model Loss\")\n",
        "plt.show()"
      ]
    },
    {
      "cell_type": "markdown",
      "metadata": {},
      "source": [
        "# Receiver Operating Characteristics (ROC)"
      ]
    },
    {
      "cell_type": "code",
      "execution_count": 35,
      "metadata": {},
      "outputs": [],
      "source": [
        "model = tf.keras.Sequential(\n",
        "    [\n",
        "        Input(shape=(IMG_SIZE, IMG_SIZE, 3)),\n",
        "        Conv2D(filters=6, kernel_size=3, strides=1, padding=\"valid\", activation=\"relu\"),\n",
        "        BatchNormalization(),\n",
        "        MaxPool2D(pool_size=2, strides=2),\n",
        "        Conv2D(\n",
        "            filters=16, kernel_size=3, strides=1, padding=\"valid\", activation=\"relu\"\n",
        "        ),\n",
        "        BatchNormalization(),\n",
        "        MaxPool2D(pool_size=2, strides=2),\n",
        "        Flatten(),\n",
        "        Dense(100, activation=\"relu\"),\n",
        "        BatchNormalization(),\n",
        "        Dense(10, activation=\"relu\"),\n",
        "        BatchNormalization(),\n",
        "        Dense(1, activation=\"sigmoid\"),\n",
        "    ]\n",
        ")\n",
        "\n",
        "metrics = [\n",
        "    # Accuracy(name=\"accuracy\"),\n",
        "    BinaryAccuracy(name=\"accuracy\"),\n",
        "    FalsePositives(name=\"fp\"),\n",
        "    FalseNegatives(name=\"fn\"),\n",
        "    TruePositives(name=\"tp\"),\n",
        "    TrueNegatives(name=\"tn\"),\n",
        "    AUC(name=\"auc\"), # Area Under Curve\n",
        "    Precision(name=\"precision\"),\n",
        "    Recall(name=\"recall\"),\n",
        "]\n",
        "\n",
        "model.compile(\n",
        "    optimizer=Adam(learning_rate=0.01),\n",
        "    loss=BinaryCrossentropy(from_logits=False),\n",
        "    metrics=metrics,\n",
        ")"
      ]
    },
    {
      "cell_type": "code",
      "execution_count": null,
      "metadata": {},
      "outputs": [],
      "source": [
        "# This here would have all features, but it's a really, REALLY bad idea to do it because it loads all features into memory at once.\n",
        "# Use this instead => x_test = test_dataset.map(lambda image, label : image)\n",
        "# inp = []\n",
        "labels = []\n",
        "\n",
        "# Don't use inp[] if your GPU doesn't have enough memory.\n",
        "with tf.device(\"/CPU:0\"):\n",
        "    for image, label in test_dataset.as_numpy_iterator():\n",
        "        labels.append(label)\n",
        "        # inp.append(image)\n",
        "\n",
        "# print(np.array(inp).shape)\n",
        "# print(np.array(inp)[:, 0, ...].shape)\n",
        "\n",
        "print(np.array(labels).shape)\n",
        "# [:, 0] -> used to remove unnecessary ranks (dimensions). You could probably tf.squeeze instead.\n",
        "print(np.array(labels)[:, 0].shape)\n",
        "print(np.array(labels)[:, 0])\n",
        "\n",
        "labels = np.array(labels)[:, 0]\n"
      ]
    },
    {
      "cell_type": "code",
      "execution_count": null,
      "metadata": {},
      "outputs": [],
      "source": [
        "# history = model.fit(train_dataset, validation_ data=val_dataset, epochs=5, verbose=1)\n",
        "history = model.fit(train_dataset, epochs=15, verbose=1)"
      ]
    },
    {
      "cell_type": "code",
      "execution_count": null,
      "metadata": {},
      "outputs": [],
      "source": [
        "model.evaluate(test_dataset, verbose=1)"
      ]
    },
    {
      "cell_type": "code",
      "execution_count": null,
      "metadata": {},
      "outputs": [],
      "source": [
        "# Extracting only the features\n",
        "x_test = test_dataset.map(lambda x, y: x)\n",
        "# predicted -> contains the probability of being or not parasited.\n",
        "predicted = model.predict(x_test)"
      ]
    },
    {
      "cell_type": "code",
      "execution_count": null,
      "metadata": {},
      "outputs": [],
      "source": [
        "print(predicted.shape)\n",
        "print(predicted[:, 0])"
      ]
    },
    {
      "cell_type": "code",
      "execution_count": null,
      "metadata": {},
      "outputs": [],
      "source": [
        "epoch_threshold = 0.5\n",
        "\n",
        "# values above threshold are uninfected and below or equal are parasitized.\n",
        "# confusion_matrix(...) is capable of finding FP and FN as well because it compares the results\n",
        "# of predicted < threshold with the label values.\n",
        "cm = confusion_matrix(labels, predicted < epoch_threshold)\n",
        "print(cm)\n",
        "\n",
        "plt.figure(figsize=[8,8])\n",
        "sns.heatmap(cm, annot=True, fmt=\"d\")\n",
        "plt.title(f\"Confusion Matrix - {epoch_threshold}\")\n",
        "plt.ylabel(\"Actual\")\n",
        "plt.xlabel(\"Predicted\")\n",
        "plt.show()"
      ]
    },
    {
      "cell_type": "code",
      "execution_count": null,
      "metadata": {},
      "outputs": [],
      "source": [
        "fp, tp, thresholds = roc_curve(labels, predicted)\n",
        "print([len(fp), len(tp), len(thresholds)])\n",
        "\n",
        "plt.plot(fp, tp)\n",
        "plt.xlabel(\"False Positive Rate\")\n",
        "plt.ylabel(\"True Positive Rate\")\n",
        "plt.grid()\n",
        "\n",
        "# Skiping elements because we cannot read all thresholds at the same time, it's a mess.\n",
        "for i in range(0, len(thresholds), 100):\n",
        "    plt.text(fp[i], tp[i], thresholds[i])\n",
        "\n",
        "plt.show()"
      ]
    },
    {
      "cell_type": "markdown",
      "metadata": {},
      "source": [
        "# Callbacks"
      ]
    },
    {
      "cell_type": "code",
      "execution_count": 10,
      "metadata": {},
      "outputs": [],
      "source": [
        "class PrintLossCallback(Callback):\n",
        "    def on_epoch_end(self, epoch, logs):\n",
        "        print(f\"\\nEpoch {epoch+1} :: loss {logs['loss']}\")\n",
        "        \n",
        "    def on_batch_end(self, batch, logs):\n",
        "        print(f\"\\nBatch {batch+1} :: loss {logs}\")"
      ]
    },
    {
      "cell_type": "code",
      "execution_count": 7,
      "metadata": {},
      "outputs": [],
      "source": [
        "model = tf.keras.Sequential(\n",
        "    [\n",
        "        Input(shape=(IMG_SIZE, IMG_SIZE, 3)),\n",
        "        Conv2D(filters=6, kernel_size=3, strides=1, padding=\"valid\", activation=\"relu\"),\n",
        "        BatchNormalization(),\n",
        "        MaxPool2D(pool_size=2, strides=2),\n",
        "        Conv2D(\n",
        "            filters=16, kernel_size=3, strides=1, padding=\"valid\", activation=\"relu\"\n",
        "        ),\n",
        "        BatchNormalization(),\n",
        "        MaxPool2D(pool_size=2, strides=2),\n",
        "        Flatten(),\n",
        "        Dense(100, activation=\"relu\"),\n",
        "        BatchNormalization(),\n",
        "        Dense(10, activation=\"relu\"),\n",
        "        BatchNormalization(),\n",
        "        Dense(1, activation=\"sigmoid\"),\n",
        "    ]\n",
        ")\n",
        "\n",
        "metrics = [\n",
        "    BinaryAccuracy(name=\"accuracy\"),\n",
        "    FalsePositives(name=\"fp\"),\n",
        "    FalseNegatives(name=\"fn\"),\n",
        "    TruePositives(name=\"tp\"),\n",
        "    TrueNegatives(name=\"tn\"),\n",
        "    AUC(name=\"auc\"), # Area Under Curve\n",
        "    Precision(name=\"precision\"),\n",
        "    Recall(name=\"recall\"),\n",
        "]\n",
        "\n",
        "model.compile(\n",
        "    optimizer=Adam(learning_rate=0.01),\n",
        "    loss=BinaryCrossentropy(from_logits=False),\n",
        "    # metrics=metrics,\n",
        ")"
      ]
    },
    {
      "cell_type": "code",
      "execution_count": 8,
      "metadata": {},
      "outputs": [],
      "source": [
        "csv_logger = CSVLogger(\"logs.csv\", separator=\",\", append=False)\n",
        "\"\"\"\n",
        "monitor -> name of the metric to monitor.\n",
        "patience -> number of epochs without improvment which can be tolerated.\n",
        "mode -> min (decreasing metric, like loss), max (increasing metric, like accuracy) and auto (inferred automatically)\n",
        "\"\"\"\n",
        "early_stopping = EarlyStopping(\n",
        "    monitor=\"loss\", patience=1, verbose=1, mode=\"auto\", restore_best_weights=False\n",
        ")\n",
        "\n",
        "\n",
        "def scheduler(epoch, lr):\n",
        "    epoch_threshold = 2\n",
        "    if epoch < epoch_threshold:\n",
        "        return lr\n",
        "    else:\n",
        "        # Exponentially decreasing the learning rate.\n",
        "        return float(\n",
        "            lr * tf.math.exp(-0.1)\n",
        "        )  # casting due to tensorflow not recognizing the output tf.Tensor as float\n",
        "\n",
        "\n",
        "learning_rate_scheduler = LearningRateScheduler(scheduler, verbose=1)\n",
        "\n",
        "model_checkpoint = ModelCheckpoint(\n",
        "    filepath=\"checkpoint.keras\",\n",
        "    monitor=\"loss\",\n",
        "    verbose=1,\n",
        "    save_best_only=True,  # filepath must end in .keras if True\n",
        "    save_weights_only=False,  # filepath must end in .hd5 if True\n",
        "    mode=\"auto\",\n",
        "    save_freq=\"epoch\",\n",
        "    initial_value_threshold=None,\n",
        ")\n",
        "\n",
        "reduce_lr_on_plateau = ReduceLROnPlateau(\n",
        "    monitor=\"val_loss\",\n",
        "    factor=0.01,  # Factor by which the learning rate will be reduced. new_lr = lr * factor.\n",
        "    patience=3,  # Number of epochs with no improvement after which learning rate will be reduced.\n",
        "    verbose=1,\n",
        "    mode=\"auto\",\n",
        "    min_delta=0.0001,  # Threshold for measuring the new optimum, to only focus on significant changes.\n",
        "    cooldown=0,  # Number of epochs to wait before resuming normal operation after the learning rate has been reduced.\n",
        "    min_lr=0.0,  # Lower bound on the learning rate.\n",
        ")"
      ]
    },
    {
      "cell_type": "code",
      "execution_count": null,
      "metadata": {},
      "outputs": [],
      "source": [
        "history = model.fit(\n",
        "    train_dataset,\n",
        "    validation_data=val_dataset,\n",
        "    epochs=5,\n",
        "    verbose=1,\n",
        "    # callbacks=[PrintLossCallback(), csv_logger],\n",
        "    # callbacks=[csv_logger],\n",
        "    # callbacks=[early_stopping],\n",
        "    # callbacks=[learning_rate_scheduler],\n",
        "    # callbacks=[model_checkpoint],\n",
        "    callbacks=[reduce_lr_on_plateau],\n",
        ")"
      ]
    },
    {
      "cell_type": "markdown",
      "metadata": {},
      "source": [
        "# Dropout and Regularization"
      ]
    },
    {
      "cell_type": "code",
      "execution_count": 9,
      "metadata": {},
      "outputs": [],
      "source": [
        "dropout_rate = 0.2\n",
        "regularization_rate = 0.01\n",
        "\n",
        "model = tf.keras.Sequential(\n",
        "    [\n",
        "        Input(shape=(IMG_SIZE, IMG_SIZE, 3)),\n",
        "        Conv2D(\n",
        "            filters=6,\n",
        "            kernel_size=3,\n",
        "            strides=1,\n",
        "            padding=\"valid\",\n",
        "            activation=\"relu\",\n",
        "            kernel_regularizer=L2(regularization_rate),\n",
        "        ),\n",
        "        BatchNormalization(),\n",
        "        MaxPool2D(pool_size=2, strides=2),\n",
        "        # The purpose of a Dropout layer is to help prevent overfitting in neural networks. \n",
        "        # It does this by randomly setting a fraction of the input units (neurons) to zero \n",
        "        # during each training iteration.\n",
        "        Dropout(rate=dropout_rate),\n",
        "        Conv2D(\n",
        "            filters=16,\n",
        "            kernel_size=3,\n",
        "            strides=1,\n",
        "            padding=\"valid\",\n",
        "            activation=\"relu\",\n",
        "            kernel_regularizer=L2(regularization_rate),\n",
        "        ),\n",
        "        BatchNormalization(),\n",
        "        MaxPool2D(pool_size=2, strides=2),\n",
        "        Flatten(),\n",
        "        Dense(\n",
        "            100,\n",
        "            activation=\"relu\",\n",
        "            kernel_regularizer=L2(regularization_rate),\n",
        "        ),\n",
        "        BatchNormalization(),\n",
        "        Dropout(rate=dropout_rate),\n",
        "        Dense(\n",
        "            10,\n",
        "            activation=\"relu\",\n",
        "            kernel_regularizer=L2(regularization_rate),\n",
        "        ),\n",
        "        BatchNormalization(),\n",
        "        Dense(1, activation=\"sigmoid\"),\n",
        "    ]\n",
        ")\n",
        "\n",
        "metrics = [\n",
        "    BinaryAccuracy(name=\"accuracy\"),\n",
        "    FalsePositives(name=\"fp\"),\n",
        "    FalseNegatives(name=\"fn\"),\n",
        "    TruePositives(name=\"tp\"),\n",
        "    TrueNegatives(name=\"tn\"),\n",
        "    AUC(name=\"auc\"),  # Area Under Curve\n",
        "    Precision(name=\"precision\"),\n",
        "    Recall(name=\"recall\"),\n",
        "]\n",
        "\n",
        "model.compile(\n",
        "    optimizer=Adam(learning_rate=0.01),\n",
        "    loss=BinaryCrossentropy(from_logits=False),\n",
        "    metrics=metrics,\n",
        ")"
      ]
    },
    {
      "cell_type": "code",
      "execution_count": null,
      "metadata": {},
      "outputs": [],
      "source": [
        "history = model.fit(train_dataset, validation_data=val_dataset, epochs=50, verbose=1)"
      ]
    },
    {
      "cell_type": "code",
      "execution_count": 45,
      "metadata": {},
      "outputs": [],
      "source": [
        "CONFIGURATION = {\n",
        "    \"LEARNING_RATE\": 0.001,\n",
        "    \"N_EPOCHS\": 5,\n",
        "    \"BATCH_SIZE\": 128,\n",
        "    \"DROPOUT_RATE\": 0.0,\n",
        "    \"IM_SIZE\": 224,\n",
        "    \"REGULARIZATION_RATE\": 0.0,\n",
        "    \"N_FILTERS\": 6,\n",
        "    \"KERNEL_SIZE\": 3,\n",
        "    \"N_STRIDES\": 1,\n",
        "    \"POOL_SIZE\": 2,\n",
        "    \"N_DENSE_1\": 100,\n",
        "    \"N_DENSE_2\": 10,\n",
        "}\n",
        "\n",
        "IM_SIZE = CONFIGURATION[\"IM_SIZE\"]\n",
        "DROPOUT_RATE = CONFIGURATION[\"DROPOUT_RATE\"]\n",
        "REGULARIZATION_RATE = CONFIGURATION[\"REGULARIZATION_RATE\"]\n",
        "N_FILTERS = CONFIGURATION[\"N_FILTERS\"]\n",
        "KERNEL_SIZE = CONFIGURATION[\"KERNEL_SIZE\"]\n",
        "POOL_SIZE = CONFIGURATION[\"POOL_SIZE\"]\n",
        "N_STRIDES = CONFIGURATION[\"N_STRIDES\"]\n",
        "\n",
        "lenet_model = tf.keras.Sequential(\n",
        "    [\n",
        "        Input(shape=(IM_SIZE, IM_SIZE, 3)),\n",
        "        Conv2D(\n",
        "            filters=N_FILTERS,\n",
        "            kernel_size=KERNEL_SIZE,\n",
        "            strides=N_STRIDES,\n",
        "            padding=\"valid\",\n",
        "            activation=\"relu\",\n",
        "            kernel_regularizer=L2(REGULARIZATION_RATE),\n",
        "        ),\n",
        "        BatchNormalization(),\n",
        "        MaxPool2D(pool_size=POOL_SIZE, strides=N_STRIDES * 2),\n",
        "        Dropout(rate=DROPOUT_RATE),\n",
        "        Conv2D(\n",
        "            filters=N_FILTERS * 2 + 4,\n",
        "            kernel_size=KERNEL_SIZE,\n",
        "            strides=N_STRIDES,\n",
        "            padding=\"valid\",\n",
        "            activation=\"relu\",\n",
        "            kernel_regularizer=L2(REGULARIZATION_RATE),\n",
        "        ),\n",
        "        BatchNormalization(),\n",
        "        MaxPool2D(pool_size=POOL_SIZE, strides=N_STRIDES * 2),\n",
        "        Flatten(),\n",
        "        Dense(\n",
        "            CONFIGURATION[\"N_DENSE_1\"],\n",
        "            activation=\"relu\",\n",
        "            kernel_regularizer=L2(REGULARIZATION_RATE),\n",
        "        ),\n",
        "        BatchNormalization(),\n",
        "        Dropout(rate=DROPOUT_RATE),\n",
        "        Dense(\n",
        "            CONFIGURATION[\"N_DENSE_2\"],\n",
        "            activation=\"relu\",\n",
        "            kernel_regularizer=L2(REGULARIZATION_RATE),\n",
        "        ),\n",
        "        BatchNormalization(),\n",
        "        Dense(1, activation=\"sigmoid\"),\n",
        "    ]\n",
        ")\n",
        "\n",
        "metrics = [\n",
        "    BinaryAccuracy(name=\"accuracy\"),\n",
        "    FalsePositives(name=\"fp\"),\n",
        "    FalseNegatives(name=\"fn\"),\n",
        "    TruePositives(name=\"tp\"),\n",
        "    TrueNegatives(name=\"tn\"),\n",
        "    AUC(name=\"auc\"),  # Area Under Curve\n",
        "    Precision(name=\"precision\"),\n",
        "    Recall(name=\"recall\"),\n",
        "]\n",
        "\n",
        "lenet_model.compile(\n",
        "    optimizer=Adam(learning_rate=0.01),\n",
        "    loss=BinaryCrossentropy(from_logits=False),\n",
        "    metrics=metrics,\n",
        ")"
      ]
    },
    {
      "cell_type": "code",
      "execution_count": null,
      "metadata": {},
      "outputs": [],
      "source": [
        "history = lenet_model.fit(train_dataset, validation_data=val_dataset, epochs=5, verbose=1)\n",
        "x_test = test_dataset.map(lambda x, y: x)\n",
        "predicted = lenet_model.predict(x_test)"
      ]
    },
    {
      "cell_type": "markdown",
      "metadata": {},
      "source": [
        "# Data Augmentation"
      ]
    },
    {
      "cell_type": "code",
      "execution_count": null,
      "metadata": {},
      "outputs": [],
      "source": [
        "def show_augument(original, augmented):\n",
        "    plt.figure()\n",
        "    plt.subplot(1, 2, 1)\n",
        "    plt.axis(\"off\")\n",
        "    plt.imshow(original)\n",
        "    plt.subplot(1, 2, 2)\n",
        "    plt.axis(\"off\")\n",
        "    plt.imshow(augmented)\n",
        "    plt.show()\n",
        "\n",
        "def augment_img(original):\n",
        "    image = tf.image.flip_left_right(original)\n",
        "    image = tf.image.flip_up_down(image)\n",
        "    # image = tf.image.rot90(image)\n",
        "    return image\n",
        "\n",
        "# Well, iterators really are something.\n",
        "original, label = next(iter(train_dataset))\n",
        "original = original[0, ...] # extracting one from 32 batch size\n",
        "print(original.shape)\n",
        "\n",
        "augmented = augment_img(original)\n",
        "show_augument(original, augmented)\n",
        "\n",
        "# This here would lead to an error because x is actually a batch(32) of images,\n",
        "# so you would need to modify the method to individually augment each image.\n",
        "# test_dataset2 = test_dataset.map(lambda x, y : augment_img(x), y)"
      ]
    },
    {
      "cell_type": "code",
      "execution_count": 14,
      "metadata": {},
      "outputs": [],
      "source": [
        "augment_layer = tf.keras.Sequential([\n",
        "    RandomFlip(mode=\"horizontal\", seed=None),\n",
        "    # If 2Pi is 100%, 0.25 is 25% anticlockwise. -0.25 would be clockwise.\n",
        "    # Pi = 180\n",
        "    # (lower_bound, upper_bound)\n",
        "    RandomRotation((0.25, 0.2501))\n",
        "])\n",
        "\n",
        "# WARNING: if you use this layer, you cannot use train_dataset.batch(?>1) \n",
        "# because the images are still with different sizes at this point.\n",
        "#\n",
        "# Equivalent to (but less flexible):\n",
        "# -> tf.image.resize(image, (IMG_SIZE, IMG_SIZE)) / 255.0\n",
        "resize_rescale_layer = tf.keras.Sequential([\n",
        "    Resizing(IMG_SIZE, IMG_SIZE),\n",
        "    Rescaling(1.0/255.0)\n",
        "])"
      ]
    },
    {
      "cell_type": "code",
      "execution_count": 23,
      "metadata": {},
      "outputs": [],
      "source": [
        "train_dataset, val_dataset, test_dataset = split_dataset(dataset[0], 0.8, 0.1, 0.1)\n",
        "\n",
        "# WARNING: if you use this layer, you cannot use train_dataset.batch(?>1) \n",
        "# because the images are still with different sizes at this point.\n",
        "train_dataset = train_dataset.shuffle(buffer_size=8, reshuffle_each_iteration=True).batch(1).prefetch(tf.data.AUTOTUNE)\n",
        "\n",
        "val_dataset = val_dataset.shuffle(buffer_size=8, reshuffle_each_iteration=True).batch(1).prefetch(tf.data.AUTOTUNE)\n",
        "\n",
        "# It's useless to shuffle and prefetch the test_dataset because it's not used for training.\n",
        "# It's still necessary to batch it since the model expects the inputs to be in batches though.\n",
        "test_dataset = test_dataset.batch(1)"
      ]
    },
    {
      "cell_type": "code",
      "execution_count": null,
      "metadata": {},
      "outputs": [],
      "source": [
        "# This made the training even slower, I still prefer to save the augmentation in the hardware.\n",
        "class CustomAugmentationLayer(Layer):\n",
        "    def __init__(\n",
        "        self,\n",
        "    ):\n",
        "        super().__init__()\n",
        "\n",
        "    def call(self, image):\n",
        "        image = tf.image.resize(image, (IMG_SIZE, IMG_SIZE)) / 255.0\n",
        "        \n",
        "        seed = (\n",
        "            tf.random.uniform([], maxval=10000, dtype=tf.int32),\n",
        "            tf.random.uniform([], maxval=10000, dtype=tf.int32),\n",
        "        )\n",
        "        # stateless -> deterministic with seed\n",
        "        image = tf.image.stateless_random_flip_left_right(image, seed=seed)\n",
        "        # image = tf.image.stateless_random_flip_up_down(image)\n",
        "        \n",
        "        image = tf.image.rot90(\n",
        "            image, (tf.random.uniform(shape=(), minval=0, maxval=2, dtype=tf.int32))\n",
        "        )\n",
        "        \n",
        "        return image\n",
        "\n",
        "    def compute_output_shape(self, input_shape):\n",
        "        return (input_shape[0], IMG_SIZE, IMG_SIZE, input_shape[3])\n",
        "\n",
        "\n",
        "test = CustomAugmentationLayer()(\n",
        "    tf.random.uniform(shape=(1, 150, 200, 3), minval=0, maxval=9)\n",
        ")\n",
        "test.shape\n",
        "# plt.imshow(test[0, ...])"
      ]
    },
    {
      "cell_type": "code",
      "execution_count": 53,
      "metadata": {},
      "outputs": [],
      "source": [
        "model = tf.keras.Sequential(\n",
        "    [\n",
        "        # `None` because now we don't now the shape of the images before passing\n",
        "        # it to the model.\n",
        "        Input(shape=(None, None, 3)),\n",
        "        \n",
        "        # This is possible because tf.keras.Sequential is just another Layer.\n",
        "        # resize_rescale_layer,\n",
        "        # augment_layer,\n",
        "        CustomAugmentationLayer(),\n",
        "        \n",
        "        Conv2D(filters=6, kernel_size=3, strides=1, padding=\"valid\", activation=\"relu\"),\n",
        "        BatchNormalization(),\n",
        "        MaxPool2D(pool_size=2, strides=2),\n",
        "        Conv2D(\n",
        "            filters=16, kernel_size=3, strides=1, padding=\"valid\", activation=\"relu\"\n",
        "        ),\n",
        "        BatchNormalization(),\n",
        "        MaxPool2D(pool_size=2, strides=2),\n",
        "        Flatten(),\n",
        "        Dense(100, activation=\"relu\"),\n",
        "        BatchNormalization(),\n",
        "        Dense(10, activation=\"relu\"),\n",
        "        BatchNormalization(),\n",
        "        Dense(1, activation=\"sigmoid\"),\n",
        "    ]\n",
        ")\n",
        "\n",
        "metrics = [\n",
        "    # Accuracy(name=\"accuracy\"),\n",
        "    BinaryAccuracy(name=\"accuracy\"),\n",
        "    FalsePositives(name=\"fp\"),\n",
        "    FalseNegatives(name=\"fn\"),\n",
        "    TruePositives(name=\"tp\"),\n",
        "    TrueNegatives(name=\"tn\"),\n",
        "    AUC(name=\"auc\"), # Area Under Curve\n",
        "    Precision(name=\"precision\"),\n",
        "    Recall(name=\"recall\"),\n",
        "]\n",
        "\n",
        "model.compile(\n",
        "    optimizer=Adam(learning_rate=0.01),\n",
        "    loss=BinaryCrossentropy(from_logits=False),\n",
        "    # metrics=metrics,\n",
        "    # Use run_eagerly=True for debbuging purposes only, because it also\n",
        "    # causes performance losses comapred to graph mode.\n",
        "    # run_eagerly=True,\n",
        ")"
      ]
    },
    {
      "cell_type": "code",
      "execution_count": null,
      "metadata": {},
      "outputs": [],
      "source": [
        "history = model.fit(train_dataset, validation_data=None, epochs=1, verbose=1)"
      ]
    },
    {
      "cell_type": "code",
      "execution_count": 27,
      "metadata": {},
      "outputs": [],
      "source": [
        "def save_image(image):\n",
        "    # not necessary (depends on WHICH `train_dataset` you're using).\n",
        "    # image = np.clip(image * 255, 0, 255)\n",
        "    image = cv.cvtColor(image, cv.COLOR_RGB2BGR)\n",
        "    cv.imwrite(\"cell.jpg\", image)\n",
        "\n",
        "\n",
        "def save_image_v2(image):\n",
        "    # image = tf.clip_by_value(image * 255, 0, 255)\n",
        "    # image = tf.cast(image, tf.uint8)\n",
        "    encoded_image = tf.image.encode_jpeg(image)\n",
        "    tf.io.write_file(\"cell2.jpg\", encoded_image)\n",
        "\n",
        "\n",
        "image, label = next(iter(test_dataset))\n",
        "image = image[0, ...]  # remember, it's batched\n",
        "\n",
        "save_image(image.numpy())\n",
        "save_image_v2(image)\n",
        "# show_augument(image, image)"
      ]
    },
    {
      "cell_type": "code",
      "execution_count": null,
      "metadata": {},
      "outputs": [],
      "source": [
        "image = cv.imread(\"cell.jpg\")[:, :, ::-1]\n",
        "# show_augument(image, image)\n",
        "model.predict(tf.expand_dims(image, axis=0))"
      ]
    },
    {
      "cell_type": "markdown",
      "metadata": {},
      "source": [
        "## Mixup Augmentation "
      ]
    },
    {
      "cell_type": "code",
      "execution_count": 6,
      "metadata": {},
      "outputs": [],
      "source": [
        "train_dataset, val_dataset, test_dataset = split_dataset(dataset[0], 0.8, 0.1, 0.1)\n",
        "\n",
        "val_dataset = (\n",
        "    val_dataset.map(resize_and_normalize)\n",
        "    .shuffle(buffer_size=8, reshuffle_each_iteration=True)\n",
        "    .batch(32)\n",
        "    .prefetch(tf.data.AUTOTUNE)\n",
        ")\n",
        "\n",
        "test_dataset = test_dataset.map(resize_and_normalize)"
      ]
    },
    {
      "cell_type": "code",
      "execution_count": 7,
      "metadata": {},
      "outputs": [],
      "source": [
        "def mixup_fun(dataset_1, dataset_2):\n",
        "    (image_1, label_1), (image_2, label_2) = dataset_1, dataset_2\n",
        "    _lambda = tfp.distributions.Beta(0.5, 0.5)\n",
        "    _lambda = _lambda.sample(1)[0]\n",
        "\n",
        "    label_1 = tf.cast(label_1, dtype=tf.float32)\n",
        "    label_2 = tf.cast(label_2, dtype=tf.float32)\n",
        "\n",
        "    image = _lambda * image_1 + (1 - _lambda) * image_2\n",
        "    label = _lambda * label_1 + (1 - _lambda) * label_2\n",
        "\n",
        "    return image, label"
      ]
    },
    {
      "cell_type": "code",
      "execution_count": 42,
      "metadata": {},
      "outputs": [],
      "source": [
        "train_dataset_1 = train_dataset.shuffle(\n",
        "    buffer_size=8, reshuffle_each_iteration=True\n",
        ").map(resize_and_normalize)\n",
        "train_dataset_2 = train_dataset.shuffle(\n",
        "    buffer_size=8, reshuffle_each_iteration=True\n",
        ").map(resize_and_normalize)\n",
        "\n",
        "# create a new tf.data.Dataset containing a pair of (image_1, label_1), (image_2, label_2)\n",
        "mixup_dataset = tf.data.Dataset.zip((train_dataset_1, train_dataset_2))\n",
        "\n",
        "train_mixup_dataset = (\n",
        "    mixup_dataset\n",
        "    .shuffle(buffer_size=8, reshuffle_each_iteration=True)\n",
        "    .map(mixup_fun)\n",
        "    # .batch(32) # not a good idea to use batch(32) when using next(iter(`dataset`))\n",
        "    .batch(1)\n",
        "    .prefetch(tf.data.AUTOTUNE)\n",
        ")"
      ]
    },
    {
      "cell_type": "code",
      "execution_count": 47,
      "metadata": {},
      "outputs": [
        {
          "data": {
            "image/png": "[encoded data removed]",
            "text/plain": [
              "<Figure size 640x480 with 1 Axes>"
            ]
          },
          "metadata": {},
          "output_type": "display_data"
        }
      ],
      "source": [
        "image, label = next(iter(train_mixup_dataset))\n",
        "image = image[0, ...]\n",
        "\n",
        "plt.figure()\n",
        "plt.axis(\"off\")\n",
        "plt.imshow(image)\n",
        "plt.show()"
      ]
    },
    {
      "cell_type": "code",
      "execution_count": null,
      "metadata": {},
      "outputs": [],
      "source": []
    }
  ],
  "metadata": {
    "accelerator": "GPU",
    "colab": {
      "collapsed_sections": [
        "g08xy9BxDacI",
        "8F_kssvrN5bG"
      ],
      "gpuType": "T4",
      "provenance": []
    },
    "kernelspec": {
      "display_name": "Python 3",
      "language": "python",
      "name": "python3"
    },
    "language_info": {
      "codemirror_mode": {
        "name": "ipython",
        "version": 3
      },
      "file_extension": ".py",
      "mimetype": "text/x-python",
      "name": "python",
      "nbconvert_exporter": "python",
      "pygments_lexer": "ipython3",
      "version": "3.10.12"
    },
    "widgets": {
      "application/vnd.jupyter.widget-state+json": {
        "016b5ad7a7204dbdbf7481844b7a117f": {
          "model_module": "@jupyter-widgets/base",
          "model_module_version": "1.2.0",
          "model_name": "LayoutModel",
          "state": {
            "_model_module": "@jupyter-widgets/base",
            "_model_module_version": "1.2.0",
            "_model_name": "LayoutModel",
            "_view_count": null,
            "_view_module": "@jupyter-widgets/base",
            "_view_module_version": "1.2.0",
            "_view_name": "LayoutView",
            "align_content": null,
            "align_items": null,
            "align_self": null,
            "border": null,
            "bottom": null,
            "display": null,
            "flex": null,
            "flex_flow": null,
            "grid_area": null,
            "grid_auto_columns": null,
            "grid_auto_flow": null,
            "grid_auto_rows": null,
            "grid_column": null,
            "grid_gap": null,
            "grid_row": null,
            "grid_template_areas": null,
            "grid_template_columns": null,
            "grid_template_rows": null,
            "height": null,
            "justify_content": null,
            "justify_items": null,
            "left": null,
            "margin": null,
            "max_height": null,
            "max_width": null,
            "min_height": null,
            "min_width": null,
            "object_fit": null,
            "object_position": null,
            "order": null,
            "overflow": null,
            "overflow_x": null,
            "overflow_y": null,
            "padding": null,
            "right": null,
            "top": null,
            "visibility": null,
            "width": "20px"
          }
        },
        "06a011066554490fb1e7160331b2e355": {
          "model_module": "@jupyter-widgets/controls",
          "model_module_version": "1.5.0",
          "model_name": "HBoxModel",
          "state": {
            "_dom_classes": [],
            "_model_module": "@jupyter-widgets/controls",
            "_model_module_version": "1.5.0",
            "_model_name": "HBoxModel",
            "_view_count": null,
            "_view_module": "@jupyter-widgets/controls",
            "_view_module_version": "1.5.0",
            "_view_name": "HBoxView",
            "box_style": "",
            "children": [
              "IPY_MODEL_88ca6ef8707344e7b905cb8d39f0e4f1",
              "IPY_MODEL_be82b9e262fd4ea08f009d68cc66e61c",
              "IPY_MODEL_21da1f79109a4225a722fde8eae09536"
            ],
            "layout": "IPY_MODEL_3f06732c95354caf95d29913d2f61556"
          }
        },
        "21da1f79109a4225a722fde8eae09536": {
          "model_module": "@jupyter-widgets/controls",
          "model_module_version": "1.5.0",
          "model_name": "HTMLModel",
          "state": {
            "_dom_classes": [],
            "_model_module": "@jupyter-widgets/controls",
            "_model_module_version": "1.5.0",
            "_model_name": "HTMLModel",
            "_view_count": null,
            "_view_module": "@jupyter-widgets/controls",
            "_view_module_version": "1.5.0",
            "_view_name": "HTMLView",
            "description": "",
            "description_tooltip": null,
            "layout": "IPY_MODEL_5fbf5218ffd44c82a14f32eed8ab5b5b",
            "placeholder": "​",
            "style": "IPY_MODEL_a60d096ba5a04a369d728fe5002e5e78",
            "value": " 1/1 [02:32&lt;00:00, 18.27s/ url]"
          }
        },
        "37d3dc3c808d429283548b07a66b4022": {
          "model_module": "@jupyter-widgets/base",
          "model_module_version": "1.2.0",
          "model_name": "LayoutModel",
          "state": {
            "_model_module": "@jupyter-widgets/base",
            "_model_module_version": "1.2.0",
            "_model_name": "LayoutModel",
            "_view_count": null,
            "_view_module": "@jupyter-widgets/base",
            "_view_module_version": "1.2.0",
            "_view_name": "LayoutView",
            "align_content": null,
            "align_items": null,
            "align_self": null,
            "border": null,
            "bottom": null,
            "display": null,
            "flex": null,
            "flex_flow": null,
            "grid_area": null,
            "grid_auto_columns": null,
            "grid_auto_flow": null,
            "grid_auto_rows": null,
            "grid_column": null,
            "grid_gap": null,
            "grid_row": null,
            "grid_template_areas": null,
            "grid_template_columns": null,
            "grid_template_rows": null,
            "height": null,
            "justify_content": null,
            "justify_items": null,
            "left": null,
            "margin": null,
            "max_height": null,
            "max_width": null,
            "min_height": null,
            "min_width": null,
            "object_fit": null,
            "object_position": null,
            "order": null,
            "overflow": null,
            "overflow_x": null,
            "overflow_y": null,
            "padding": null,
            "right": null,
            "top": null,
            "visibility": null,
            "width": null
          }
        },
        "394c1a3d724c4638975356f460cfd2c7": {
          "model_module": "@jupyter-widgets/base",
          "model_module_version": "1.2.0",
          "model_name": "LayoutModel",
          "state": {
            "_model_module": "@jupyter-widgets/base",
            "_model_module_version": "1.2.0",
            "_model_name": "LayoutModel",
            "_view_count": null,
            "_view_module": "@jupyter-widgets/base",
            "_view_module_version": "1.2.0",
            "_view_name": "LayoutView",
            "align_content": null,
            "align_items": null,
            "align_self": null,
            "border": null,
            "bottom": null,
            "display": null,
            "flex": null,
            "flex_flow": null,
            "grid_area": null,
            "grid_auto_columns": null,
            "grid_auto_flow": null,
            "grid_auto_rows": null,
            "grid_column": null,
            "grid_gap": null,
            "grid_row": null,
            "grid_template_areas": null,
            "grid_template_columns": null,
            "grid_template_rows": null,
            "height": null,
            "justify_content": null,
            "justify_items": null,
            "left": null,
            "margin": null,
            "max_height": null,
            "max_width": null,
            "min_height": null,
            "min_width": null,
            "object_fit": null,
            "object_position": null,
            "order": null,
            "overflow": null,
            "overflow_x": null,
            "overflow_y": null,
            "padding": null,
            "right": null,
            "top": null,
            "visibility": null,
            "width": null
          }
        },
        "394c42a48b3d4bdd9a60245973eca116": {
          "model_module": "@jupyter-widgets/controls",
          "model_module_version": "1.5.0",
          "model_name": "FloatProgressModel",
          "state": {
            "_dom_classes": [],
            "_model_module": "@jupyter-widgets/controls",
            "_model_module_version": "1.5.0",
            "_model_name": "FloatProgressModel",
            "_view_count": null,
            "_view_module": "@jupyter-widgets/controls",
            "_view_module_version": "1.5.0",
            "_view_name": "ProgressView",
            "bar_style": "info",
            "description": "",
            "description_tooltip": null,
            "layout": "IPY_MODEL_90025f4e93674a07b620a7f8af0d96e6",
            "max": 1,
            "min": 0,
            "orientation": "horizontal",
            "style": "IPY_MODEL_a0f50910d4d14c25a2734149c3e686e1",
            "value": 0
          }
        },
        "3b6ddf55b8cf4bf68ddf5569af054757": {
          "model_module": "@jupyter-widgets/base",
          "model_module_version": "1.2.0",
          "model_name": "LayoutModel",
          "state": {
            "_model_module": "@jupyter-widgets/base",
            "_model_module_version": "1.2.0",
            "_model_name": "LayoutModel",
            "_view_count": null,
            "_view_module": "@jupyter-widgets/base",
            "_view_module_version": "1.2.0",
            "_view_name": "LayoutView",
            "align_content": null,
            "align_items": null,
            "align_self": null,
            "border": null,
            "bottom": null,
            "display": null,
            "flex": null,
            "flex_flow": null,
            "grid_area": null,
            "grid_auto_columns": null,
            "grid_auto_flow": null,
            "grid_auto_rows": null,
            "grid_column": null,
            "grid_gap": null,
            "grid_row": null,
            "grid_template_areas": null,
            "grid_template_columns": null,
            "grid_template_rows": null,
            "height": null,
            "justify_content": null,
            "justify_items": null,
            "left": null,
            "margin": null,
            "max_height": null,
            "max_width": null,
            "min_height": null,
            "min_width": null,
            "object_fit": null,
            "object_position": null,
            "order": null,
            "overflow": null,
            "overflow_x": null,
            "overflow_y": null,
            "padding": null,
            "right": null,
            "top": null,
            "visibility": null,
            "width": null
          }
        },
        "3f06732c95354caf95d29913d2f61556": {
          "model_module": "@jupyter-widgets/base",
          "model_module_version": "1.2.0",
          "model_name": "LayoutModel",
          "state": {
            "_model_module": "@jupyter-widgets/base",
            "_model_module_version": "1.2.0",
            "_model_name": "LayoutModel",
            "_view_count": null,
            "_view_module": "@jupyter-widgets/base",
            "_view_module_version": "1.2.0",
            "_view_name": "LayoutView",
            "align_content": null,
            "align_items": null,
            "align_self": null,
            "border": null,
            "bottom": null,
            "display": null,
            "flex": null,
            "flex_flow": null,
            "grid_area": null,
            "grid_auto_columns": null,
            "grid_auto_flow": null,
            "grid_auto_rows": null,
            "grid_column": null,
            "grid_gap": null,
            "grid_row": null,
            "grid_template_areas": null,
            "grid_template_columns": null,
            "grid_template_rows": null,
            "height": null,
            "justify_content": null,
            "justify_items": null,
            "left": null,
            "margin": null,
            "max_height": null,
            "max_width": null,
            "min_height": null,
            "min_width": null,
            "object_fit": null,
            "object_position": null,
            "order": null,
            "overflow": null,
            "overflow_x": null,
            "overflow_y": null,
            "padding": null,
            "right": null,
            "top": null,
            "visibility": null,
            "width": null
          }
        },
        "44dcc166c9244555ac9ea509f38da4f8": {
          "model_module": "@jupyter-widgets/controls",
          "model_module_version": "1.5.0",
          "model_name": "FloatProgressModel",
          "state": {
            "_dom_classes": [],
            "_model_module": "@jupyter-widgets/controls",
            "_model_module_version": "1.5.0",
            "_model_name": "FloatProgressModel",
            "_view_count": null,
            "_view_module": "@jupyter-widgets/controls",
            "_view_module_version": "1.5.0",
            "_view_name": "ProgressView",
            "bar_style": "info",
            "description": "",
            "description_tooltip": null,
            "layout": "IPY_MODEL_b1882799b4794d08ae7e95d64c28ccc7",
            "max": 1,
            "min": 0,
            "orientation": "horizontal",
            "style": "IPY_MODEL_606eb475e20c4d6ea9aa03374bfcf763",
            "value": 1
          }
        },
        "49d762663abb4ebd966dab3c30079c93": {
          "model_module": "@jupyter-widgets/base",
          "model_module_version": "1.2.0",
          "model_name": "LayoutModel",
          "state": {
            "_model_module": "@jupyter-widgets/base",
            "_model_module_version": "1.2.0",
            "_model_name": "LayoutModel",
            "_view_count": null,
            "_view_module": "@jupyter-widgets/base",
            "_view_module_version": "1.2.0",
            "_view_name": "LayoutView",
            "align_content": null,
            "align_items": null,
            "align_self": null,
            "border": null,
            "bottom": null,
            "display": null,
            "flex": null,
            "flex_flow": null,
            "grid_area": null,
            "grid_auto_columns": null,
            "grid_auto_flow": null,
            "grid_auto_rows": null,
            "grid_column": null,
            "grid_gap": null,
            "grid_row": null,
            "grid_template_areas": null,
            "grid_template_columns": null,
            "grid_template_rows": null,
            "height": null,
            "justify_content": null,
            "justify_items": null,
            "left": null,
            "margin": null,
            "max_height": null,
            "max_width": null,
            "min_height": null,
            "min_width": null,
            "object_fit": null,
            "object_position": null,
            "order": null,
            "overflow": null,
            "overflow_x": null,
            "overflow_y": null,
            "padding": null,
            "right": null,
            "top": null,
            "visibility": null,
            "width": null
          }
        },
        "5060256c2f4446a594b0df1806f61f82": {
          "model_module": "@jupyter-widgets/controls",
          "model_module_version": "1.5.0",
          "model_name": "HTMLModel",
          "state": {
            "_dom_classes": [],
            "_model_module": "@jupyter-widgets/controls",
            "_model_module_version": "1.5.0",
            "_model_name": "HTMLModel",
            "_view_count": null,
            "_view_module": "@jupyter-widgets/controls",
            "_view_module_version": "1.5.0",
            "_view_name": "HTMLView",
            "description": "",
            "description_tooltip": null,
            "layout": "IPY_MODEL_394c1a3d724c4638975356f460cfd2c7",
            "placeholder": "​",
            "style": "IPY_MODEL_80035271d1d24a008a59577d2b1eee97",
            "value": "Dl Size...: 100%"
          }
        },
        "50c8c573bd8047b3bd971e5ed54c4375": {
          "model_module": "@jupyter-widgets/base",
          "model_module_version": "1.2.0",
          "model_name": "LayoutModel",
          "state": {
            "_model_module": "@jupyter-widgets/base",
            "_model_module_version": "1.2.0",
            "_model_name": "LayoutModel",
            "_view_count": null,
            "_view_module": "@jupyter-widgets/base",
            "_view_module_version": "1.2.0",
            "_view_name": "LayoutView",
            "align_content": null,
            "align_items": null,
            "align_self": null,
            "border": null,
            "bottom": null,
            "display": null,
            "flex": null,
            "flex_flow": null,
            "grid_area": null,
            "grid_auto_columns": null,
            "grid_auto_flow": null,
            "grid_auto_rows": null,
            "grid_column": null,
            "grid_gap": null,
            "grid_row": null,
            "grid_template_areas": null,
            "grid_template_columns": null,
            "grid_template_rows": null,
            "height": null,
            "justify_content": null,
            "justify_items": null,
            "left": null,
            "margin": null,
            "max_height": null,
            "max_width": null,
            "min_height": null,
            "min_width": null,
            "object_fit": null,
            "object_position": null,
            "order": null,
            "overflow": null,
            "overflow_x": null,
            "overflow_y": null,
            "padding": null,
            "right": null,
            "top": null,
            "visibility": null,
            "width": null
          }
        },
        "5fbf5218ffd44c82a14f32eed8ab5b5b": {
          "model_module": "@jupyter-widgets/base",
          "model_module_version": "1.2.0",
          "model_name": "LayoutModel",
          "state": {
            "_model_module": "@jupyter-widgets/base",
            "_model_module_version": "1.2.0",
            "_model_name": "LayoutModel",
            "_view_count": null,
            "_view_module": "@jupyter-widgets/base",
            "_view_module_version": "1.2.0",
            "_view_name": "LayoutView",
            "align_content": null,
            "align_items": null,
            "align_self": null,
            "border": null,
            "bottom": null,
            "display": null,
            "flex": null,
            "flex_flow": null,
            "grid_area": null,
            "grid_auto_columns": null,
            "grid_auto_flow": null,
            "grid_auto_rows": null,
            "grid_column": null,
            "grid_gap": null,
            "grid_row": null,
            "grid_template_areas": null,
            "grid_template_columns": null,
            "grid_template_rows": null,
            "height": null,
            "justify_content": null,
            "justify_items": null,
            "left": null,
            "margin": null,
            "max_height": null,
            "max_width": null,
            "min_height": null,
            "min_width": null,
            "object_fit": null,
            "object_position": null,
            "order": null,
            "overflow": null,
            "overflow_x": null,
            "overflow_y": null,
            "padding": null,
            "right": null,
            "top": null,
            "visibility": null,
            "width": null
          }
        },
        "606eb475e20c4d6ea9aa03374bfcf763": {
          "model_module": "@jupyter-widgets/controls",
          "model_module_version": "1.5.0",
          "model_name": "ProgressStyleModel",
          "state": {
            "_model_module": "@jupyter-widgets/controls",
            "_model_module_version": "1.5.0",
            "_model_name": "ProgressStyleModel",
            "_view_count": null,
            "_view_module": "@jupyter-widgets/base",
            "_view_module_version": "1.2.0",
            "_view_name": "StyleView",
            "bar_color": null,
            "description_width": ""
          }
        },
        "7385604dac0c45faa39684bd00a9dc7d": {
          "model_module": "@jupyter-widgets/controls",
          "model_module_version": "1.5.0",
          "model_name": "ProgressStyleModel",
          "state": {
            "_model_module": "@jupyter-widgets/controls",
            "_model_module_version": "1.5.0",
            "_model_name": "ProgressStyleModel",
            "_view_count": null,
            "_view_module": "@jupyter-widgets/base",
            "_view_module_version": "1.2.0",
            "_view_name": "StyleView",
            "bar_color": null,
            "description_width": ""
          }
        },
        "794414b41ed144dca6e120eb7adb924e": {
          "model_module": "@jupyter-widgets/controls",
          "model_module_version": "1.5.0",
          "model_name": "DescriptionStyleModel",
          "state": {
            "_model_module": "@jupyter-widgets/controls",
            "_model_module_version": "1.5.0",
            "_model_name": "DescriptionStyleModel",
            "_view_count": null,
            "_view_module": "@jupyter-widgets/base",
            "_view_module_version": "1.2.0",
            "_view_name": "StyleView",
            "description_width": ""
          }
        },
        "7e6a0ccee6184fdbb0bdc7b255fc3133": {
          "model_module": "@jupyter-widgets/controls",
          "model_module_version": "1.5.0",
          "model_name": "DescriptionStyleModel",
          "state": {
            "_model_module": "@jupyter-widgets/controls",
            "_model_module_version": "1.5.0",
            "_model_name": "DescriptionStyleModel",
            "_view_count": null,
            "_view_module": "@jupyter-widgets/base",
            "_view_module_version": "1.2.0",
            "_view_name": "StyleView",
            "description_width": ""
          }
        },
        "80035271d1d24a008a59577d2b1eee97": {
          "model_module": "@jupyter-widgets/controls",
          "model_module_version": "1.5.0",
          "model_name": "DescriptionStyleModel",
          "state": {
            "_model_module": "@jupyter-widgets/controls",
            "_model_module_version": "1.5.0",
            "_model_name": "DescriptionStyleModel",
            "_view_count": null,
            "_view_module": "@jupyter-widgets/base",
            "_view_module_version": "1.2.0",
            "_view_name": "StyleView",
            "description_width": ""
          }
        },
        "87a6f327290042c3b6e50d0a30723f3a": {
          "model_module": "@jupyter-widgets/controls",
          "model_module_version": "1.5.0",
          "model_name": "DescriptionStyleModel",
          "state": {
            "_model_module": "@jupyter-widgets/controls",
            "_model_module_version": "1.5.0",
            "_model_name": "DescriptionStyleModel",
            "_view_count": null,
            "_view_module": "@jupyter-widgets/base",
            "_view_module_version": "1.2.0",
            "_view_name": "StyleView",
            "description_width": ""
          }
        },
        "88ca6ef8707344e7b905cb8d39f0e4f1": {
          "model_module": "@jupyter-widgets/controls",
          "model_module_version": "1.5.0",
          "model_name": "HTMLModel",
          "state": {
            "_dom_classes": [],
            "_model_module": "@jupyter-widgets/controls",
            "_model_module_version": "1.5.0",
            "_model_name": "HTMLModel",
            "_view_count": null,
            "_view_module": "@jupyter-widgets/controls",
            "_view_module_version": "1.5.0",
            "_view_name": "HTMLView",
            "description": "",
            "description_tooltip": null,
            "layout": "IPY_MODEL_49d762663abb4ebd966dab3c30079c93",
            "placeholder": "​",
            "style": "IPY_MODEL_a9a59398363b42009fec97c8fb73ad19",
            "value": "Dl Completed...: 100%"
          }
        },
        "90025f4e93674a07b620a7f8af0d96e6": {
          "model_module": "@jupyter-widgets/base",
          "model_module_version": "1.2.0",
          "model_name": "LayoutModel",
          "state": {
            "_model_module": "@jupyter-widgets/base",
            "_model_module_version": "1.2.0",
            "_model_name": "LayoutModel",
            "_view_count": null,
            "_view_module": "@jupyter-widgets/base",
            "_view_module_version": "1.2.0",
            "_view_name": "LayoutView",
            "align_content": null,
            "align_items": null,
            "align_self": null,
            "border": null,
            "bottom": null,
            "display": null,
            "flex": null,
            "flex_flow": null,
            "grid_area": null,
            "grid_auto_columns": null,
            "grid_auto_flow": null,
            "grid_auto_rows": null,
            "grid_column": null,
            "grid_gap": null,
            "grid_row": null,
            "grid_template_areas": null,
            "grid_template_columns": null,
            "grid_template_rows": null,
            "height": null,
            "justify_content": null,
            "justify_items": null,
            "left": null,
            "margin": null,
            "max_height": null,
            "max_width": null,
            "min_height": null,
            "min_width": null,
            "object_fit": null,
            "object_position": null,
            "order": null,
            "overflow": null,
            "overflow_x": null,
            "overflow_y": null,
            "padding": null,
            "right": null,
            "top": null,
            "visibility": null,
            "width": "20px"
          }
        },
        "93c9d117dac44aa0a4b07125e5988433": {
          "model_module": "@jupyter-widgets/controls",
          "model_module_version": "1.5.0",
          "model_name": "HBoxModel",
          "state": {
            "_dom_classes": [],
            "_model_module": "@jupyter-widgets/controls",
            "_model_module_version": "1.5.0",
            "_model_name": "HBoxModel",
            "_view_count": null,
            "_view_module": "@jupyter-widgets/controls",
            "_view_module_version": "1.5.0",
            "_view_name": "HBoxView",
            "box_style": "",
            "children": [
              "IPY_MODEL_5060256c2f4446a594b0df1806f61f82",
              "IPY_MODEL_44dcc166c9244555ac9ea509f38da4f8",
              "IPY_MODEL_c83d48b3b24a42efb6fdbcecce9e1c20"
            ],
            "layout": "IPY_MODEL_e8af7d0162e14a5aa7c1585441a23a7b"
          }
        },
        "a0f50910d4d14c25a2734149c3e686e1": {
          "model_module": "@jupyter-widgets/controls",
          "model_module_version": "1.5.0",
          "model_name": "ProgressStyleModel",
          "state": {
            "_model_module": "@jupyter-widgets/controls",
            "_model_module_version": "1.5.0",
            "_model_name": "ProgressStyleModel",
            "_view_count": null,
            "_view_module": "@jupyter-widgets/base",
            "_view_module_version": "1.2.0",
            "_view_name": "StyleView",
            "bar_color": null,
            "description_width": ""
          }
        },
        "a60d096ba5a04a369d728fe5002e5e78": {
          "model_module": "@jupyter-widgets/controls",
          "model_module_version": "1.5.0",
          "model_name": "DescriptionStyleModel",
          "state": {
            "_model_module": "@jupyter-widgets/controls",
            "_model_module_version": "1.5.0",
            "_model_name": "DescriptionStyleModel",
            "_view_count": null,
            "_view_module": "@jupyter-widgets/base",
            "_view_module_version": "1.2.0",
            "_view_name": "StyleView",
            "description_width": ""
          }
        },
        "a9a59398363b42009fec97c8fb73ad19": {
          "model_module": "@jupyter-widgets/controls",
          "model_module_version": "1.5.0",
          "model_name": "DescriptionStyleModel",
          "state": {
            "_model_module": "@jupyter-widgets/controls",
            "_model_module_version": "1.5.0",
            "_model_name": "DescriptionStyleModel",
            "_view_count": null,
            "_view_module": "@jupyter-widgets/base",
            "_view_module_version": "1.2.0",
            "_view_name": "StyleView",
            "description_width": ""
          }
        },
        "b16560e1622945e08b3e8ad8f774d926": {
          "model_module": "@jupyter-widgets/controls",
          "model_module_version": "1.5.0",
          "model_name": "HTMLModel",
          "state": {
            "_dom_classes": [],
            "_model_module": "@jupyter-widgets/controls",
            "_model_module_version": "1.5.0",
            "_model_name": "HTMLModel",
            "_view_count": null,
            "_view_module": "@jupyter-widgets/controls",
            "_view_module_version": "1.5.0",
            "_view_name": "HTMLView",
            "description": "",
            "description_tooltip": null,
            "layout": "IPY_MODEL_50c8c573bd8047b3bd971e5ed54c4375",
            "placeholder": "​",
            "style": "IPY_MODEL_87a6f327290042c3b6e50d0a30723f3a",
            "value": " 25057/27560 [02:31&lt;00:03, 711.73 file/s]"
          }
        },
        "b1882799b4794d08ae7e95d64c28ccc7": {
          "model_module": "@jupyter-widgets/base",
          "model_module_version": "1.2.0",
          "model_name": "LayoutModel",
          "state": {
            "_model_module": "@jupyter-widgets/base",
            "_model_module_version": "1.2.0",
            "_model_name": "LayoutModel",
            "_view_count": null,
            "_view_module": "@jupyter-widgets/base",
            "_view_module_version": "1.2.0",
            "_view_name": "LayoutView",
            "align_content": null,
            "align_items": null,
            "align_self": null,
            "border": null,
            "bottom": null,
            "display": null,
            "flex": null,
            "flex_flow": null,
            "grid_area": null,
            "grid_auto_columns": null,
            "grid_auto_flow": null,
            "grid_auto_rows": null,
            "grid_column": null,
            "grid_gap": null,
            "grid_row": null,
            "grid_template_areas": null,
            "grid_template_columns": null,
            "grid_template_rows": null,
            "height": null,
            "justify_content": null,
            "justify_items": null,
            "left": null,
            "margin": null,
            "max_height": null,
            "max_width": null,
            "min_height": null,
            "min_width": null,
            "object_fit": null,
            "object_position": null,
            "order": null,
            "overflow": null,
            "overflow_x": null,
            "overflow_y": null,
            "padding": null,
            "right": null,
            "top": null,
            "visibility": null,
            "width": "20px"
          }
        },
        "be82b9e262fd4ea08f009d68cc66e61c": {
          "model_module": "@jupyter-widgets/controls",
          "model_module_version": "1.5.0",
          "model_name": "FloatProgressModel",
          "state": {
            "_dom_classes": [],
            "_model_module": "@jupyter-widgets/controls",
            "_model_module_version": "1.5.0",
            "_model_name": "FloatProgressModel",
            "_view_count": null,
            "_view_module": "@jupyter-widgets/controls",
            "_view_module_version": "1.5.0",
            "_view_name": "ProgressView",
            "bar_style": "info",
            "description": "",
            "description_tooltip": null,
            "layout": "IPY_MODEL_016b5ad7a7204dbdbf7481844b7a117f",
            "max": 1,
            "min": 0,
            "orientation": "horizontal",
            "style": "IPY_MODEL_7385604dac0c45faa39684bd00a9dc7d",
            "value": 1
          }
        },
        "c83d48b3b24a42efb6fdbcecce9e1c20": {
          "model_module": "@jupyter-widgets/controls",
          "model_module_version": "1.5.0",
          "model_name": "HTMLModel",
          "state": {
            "_dom_classes": [],
            "_model_module": "@jupyter-widgets/controls",
            "_model_module_version": "1.5.0",
            "_model_name": "HTMLModel",
            "_view_count": null,
            "_view_module": "@jupyter-widgets/controls",
            "_view_module_version": "1.5.0",
            "_view_name": "HTMLView",
            "description": "",
            "description_tooltip": null,
            "layout": "IPY_MODEL_3b6ddf55b8cf4bf68ddf5569af054757",
            "placeholder": "​",
            "style": "IPY_MODEL_794414b41ed144dca6e120eb7adb924e",
            "value": " 337/337 [02:31&lt;00:00, 21.12 MiB/s]"
          }
        },
        "db391c6fa2394d05945cf1e2aa112930": {
          "model_module": "@jupyter-widgets/controls",
          "model_module_version": "1.5.0",
          "model_name": "HBoxModel",
          "state": {
            "_dom_classes": [],
            "_model_module": "@jupyter-widgets/controls",
            "_model_module_version": "1.5.0",
            "_model_name": "HBoxModel",
            "_view_count": null,
            "_view_module": "@jupyter-widgets/controls",
            "_view_module_version": "1.5.0",
            "_view_name": "HBoxView",
            "box_style": "",
            "children": [
              "IPY_MODEL_ea4101d4eb50478487cd2c8c72b07e0e",
              "IPY_MODEL_394c42a48b3d4bdd9a60245973eca116",
              "IPY_MODEL_b16560e1622945e08b3e8ad8f774d926"
            ],
            "layout": "IPY_MODEL_fcff762bfb534aeea6792b038b0b93a1"
          }
        },
        "e8af7d0162e14a5aa7c1585441a23a7b": {
          "model_module": "@jupyter-widgets/base",
          "model_module_version": "1.2.0",
          "model_name": "LayoutModel",
          "state": {
            "_model_module": "@jupyter-widgets/base",
            "_model_module_version": "1.2.0",
            "_model_name": "LayoutModel",
            "_view_count": null,
            "_view_module": "@jupyter-widgets/base",
            "_view_module_version": "1.2.0",
            "_view_name": "LayoutView",
            "align_content": null,
            "align_items": null,
            "align_self": null,
            "border": null,
            "bottom": null,
            "display": null,
            "flex": null,
            "flex_flow": null,
            "grid_area": null,
            "grid_auto_columns": null,
            "grid_auto_flow": null,
            "grid_auto_rows": null,
            "grid_column": null,
            "grid_gap": null,
            "grid_row": null,
            "grid_template_areas": null,
            "grid_template_columns": null,
            "grid_template_rows": null,
            "height": null,
            "justify_content": null,
            "justify_items": null,
            "left": null,
            "margin": null,
            "max_height": null,
            "max_width": null,
            "min_height": null,
            "min_width": null,
            "object_fit": null,
            "object_position": null,
            "order": null,
            "overflow": null,
            "overflow_x": null,
            "overflow_y": null,
            "padding": null,
            "right": null,
            "top": null,
            "visibility": null,
            "width": null
          }
        },
        "ea4101d4eb50478487cd2c8c72b07e0e": {
          "model_module": "@jupyter-widgets/controls",
          "model_module_version": "1.5.0",
          "model_name": "HTMLModel",
          "state": {
            "_dom_classes": [],
            "_model_module": "@jupyter-widgets/controls",
            "_model_module_version": "1.5.0",
            "_model_name": "HTMLModel",
            "_view_count": null,
            "_view_module": "@jupyter-widgets/controls",
            "_view_module_version": "1.5.0",
            "_view_name": "HTMLView",
            "description": "",
            "description_tooltip": null,
            "layout": "IPY_MODEL_37d3dc3c808d429283548b07a66b4022",
            "placeholder": "​",
            "style": "IPY_MODEL_7e6a0ccee6184fdbb0bdc7b255fc3133",
            "value": "Extraction completed...:  91%"
          }
        },
        "fcff762bfb534aeea6792b038b0b93a1": {
          "model_module": "@jupyter-widgets/base",
          "model_module_version": "1.2.0",
          "model_name": "LayoutModel",
          "state": {
            "_model_module": "@jupyter-widgets/base",
            "_model_module_version": "1.2.0",
            "_model_name": "LayoutModel",
            "_view_count": null,
            "_view_module": "@jupyter-widgets/base",
            "_view_module_version": "1.2.0",
            "_view_name": "LayoutView",
            "align_content": null,
            "align_items": null,
            "align_self": null,
            "border": null,
            "bottom": null,
            "display": null,
            "flex": null,
            "flex_flow": null,
            "grid_area": null,
            "grid_auto_columns": null,
            "grid_auto_flow": null,
            "grid_auto_rows": null,
            "grid_column": null,
            "grid_gap": null,
            "grid_row": null,
            "grid_template_areas": null,
            "grid_template_columns": null,
            "grid_template_rows": null,
            "height": null,
            "justify_content": null,
            "justify_items": null,
            "left": null,
            "margin": null,
            "max_height": null,
            "max_width": null,
            "min_height": null,
            "min_width": null,
            "object_fit": null,
            "object_position": null,
            "order": null,
            "overflow": null,
            "overflow_x": null,
            "overflow_y": null,
            "padding": null,
            "right": null,
            "top": null,
            "visibility": null,
            "width": null
          }
        }
      }
    }
  },
  "nbformat": 4,
  "nbformat_minor": 0
}
