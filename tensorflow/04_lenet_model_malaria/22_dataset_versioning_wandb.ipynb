{
 "cells": [
  {
   "cell_type": "markdown",
   "metadata": {},
   "source": [
    "# Start"
   ]
  },
  {
   "cell_type": "code",
   "execution_count": 1,
   "metadata": {
    "colab": {
     "base_uri": "https://localhost:8080/"
    },
    "id": "1Vl0JH6UrebJ",
    "outputId": "837d83c7-e2f3-432a-83ee-bc32ec270b19"
   },
   "outputs": [
    {
     "name": "stderr",
     "output_type": "stream",
     "text": [
      "/home/albert/.local/lib/python3.10/site-packages/albumentations/__init__.py:24: UserWarning: A new version of Albumentations is available: 1.4.21 (you have 1.4.20). Upgrade using: pip install -U albumentations. To disable automatic update checks, set the environment variable NO_ALBUMENTATIONS_UPDATE to 1.\n",
      "  check_for_updates()\n",
      "2024-11-02 19:52:16.457290: E external/local_xla/xla/stream_executor/cuda/cuda_fft.cc:477] Unable to register cuFFT factory: Attempting to register factory for plugin cuFFT when one has already been registered\n",
      "WARNING: All log messages before absl::InitializeLog() is called are written to STDERR\n",
      "E0000 00:00:1730587936.844525     949 cuda_dnn.cc:8310] Unable to register cuDNN factory: Attempting to register factory for plugin cuDNN when one has already been registered\n",
      "E0000 00:00:1730587936.922119     949 cuda_blas.cc:1418] Unable to register cuBLAS factory: Attempting to register factory for plugin cuBLAS when one has already been registered\n",
      "2024-11-02 19:52:17.979688: I tensorflow/core/platform/cpu_feature_guard.cc:210] This TensorFlow binary is optimized to use available CPU instructions in performance-critical operations.\n",
      "To enable the following instructions: AVX2 FMA, in other operations, rebuild TensorFlow with the appropriate compiler flags.\n"
     ]
    },
    {
     "name": "stdout",
     "output_type": "stream",
     "text": [
      "[<_PrefetchDataset element_spec=(TensorSpec(shape=(None, None, 3), dtype=tf.uint8, name=None), TensorSpec(shape=(), dtype=tf.int64, name=None))>]\n"
     ]
    },
    {
     "name": "stderr",
     "output_type": "stream",
     "text": [
      "I0000 00:00:1730587956.980262     949 gpu_device.cc:2022] Created device /job:localhost/replica:0/task:0/device:GPU:0 with 2865 MB memory:  -> device: 0, name: NVIDIA GeForce GTX 1050, pci bus id: 0000:01:00.0, compute capability: 6.1\n"
     ]
    }
   ],
   "source": [
    "import cv2 as cv\n",
    "import albumentations as A\n",
    "import os\n",
    "import sys\n",
    "import datetime\n",
    "import io\n",
    "\n",
    "import tensorflow as tf\n",
    "import tensorflow_datasets as tfds\n",
    "from tensorflow.keras.layers import Conv2D, MaxPool2D, Dense, Flatten, Input, BatchNormalization, Layer, Dropout, Resizing, Rescaling, RandomFlip, RandomRotation\n",
    "from tensorflow.keras.losses import BinaryCrossentropy\n",
    "from tensorflow.keras.optimizers import Adam\n",
    "from tensorflow.keras.models import Model\n",
    "from tensorflow.keras.metrics import BinaryAccuracy, FalsePositives, FalseNegatives, TruePositives, Accuracy,TrueNegatives, AUC, Precision, Recall\n",
    "from tensorflow.keras.callbacks import Callback, CSVLogger, EarlyStopping, LearningRateScheduler, ModelCheckpoint, ReduceLROnPlateau\n",
    "from tensorflow.keras.regularizers import L2, L1\n",
    "import tensorflow_probability as tfp\n",
    "from tensorboard.plugins.hparams import api as hp\n",
    "\n",
    "import math\n",
    "import numpy as np\n",
    "import matplotlib.pyplot as plt\n",
    "import seaborn as sns\n",
    "import sklearn\n",
    "from sklearn.metrics import confusion_matrix, roc_curve\n",
    "\n",
    "# !pip install -U wandb\n",
    "import wandb\n",
    "# !wandb login\n",
    "\n",
    "# from google.colab import drive\n",
    "# drive.mount('/content/drive')\n",
    "# data_dir = '/content/drive/MyDrive/tfds_data/'\n",
    "\n",
    "dataset, dataset_info = tfds.load(\n",
    "    \"malaria\",\n",
    "    with_info=True,\n",
    "    as_supervised=True,\n",
    "    shuffle_files=True,\n",
    "    split=[\"train\"],\n",
    "    # data_dir=data_dir,  # Use Google Drive for storage\n",
    ")\n",
    "\n",
    "print(dataset)\n",
    "# print(dataset_info)"
   ]
  },
  {
   "cell_type": "code",
   "execution_count": 2,
   "metadata": {},
   "outputs": [],
   "source": [
    "RAW_DIR=\"./raw_dataset\"\n",
    "DOWNLOAD_DIR = \"./artifacts\"\n",
    "PREPROCESSED_DIR_1 = \"./preprocessed_1\""
   ]
  },
  {
   "cell_type": "code",
   "execution_count": null,
   "metadata": {},
   "outputs": [],
   "source": [
    "os.makedirs(RAW_DIR, exist_ok=True)\n",
    "os.makedirs(PREPROCESSED_DIR_1, exist_ok=True)"
   ]
  },
  {
   "cell_type": "markdown",
   "metadata": {},
   "source": [
    "# raw_dataset"
   ]
  },
  {
   "cell_type": "code",
   "execution_count": null,
   "metadata": {},
   "outputs": [
    {
     "name": "stdout",
     "output_type": "stream",
     "text": [
      "0 | 5000 | 10000 | 15000 | 20000 | 25000 | "
     ]
    },
    {
     "name": "stderr",
     "output_type": "stream",
     "text": [
      "2024-11-02 14:44:01.093228: I tensorflow/core/framework/local_rendezvous.cc:405] Local rendezvous is aborting with status: OUT_OF_RANGE: End of sequence\n"
     ]
    }
   ],
   "source": [
    "# Generate Raw Dataset\n",
    "for i, (image, label) in enumerate(dataset[0]):\n",
    "  with open(f\"{RAW_DIR}/raw_dataset_{i}_.npz\", \"wb\") as file:\n",
    "    # saving image and label within the same *.npz file.\n",
    "    # np.savez(file, image=image.numpy(), label=label.numpy()) # NOTE: too large\n",
    "    np.savez_compressed(file, image=image.numpy(), label=label.numpy())\n",
    "    if i % 5000 == 0:\n",
    "      print(i, end=\" | \")"
   ]
  },
  {
   "cell_type": "code",
   "execution_count": 22,
   "metadata": {
    "colab": {
     "base_uri": "https://localhost:8080/"
    },
    "id": "KrmXCdVYskS5",
    "outputId": "53fca454-d7e0-44bf-ce1c-4babe6a83b00"
   },
   "outputs": [
    {
     "name": "stdout",
     "output_type": "stream",
     "text": [
      "[0 0 0] 0\n"
     ]
    }
   ],
   "source": [
    "with open(f\"{RAW_DIR}/raw_dataset_5_.npz\", \"rb\") as file:\n",
    "  # p = np.load(file, allow_pickle=True).f.arr_0\n",
    "  # p = np.load(file, allow_pickle=True)[\"arr_0\"]\n",
    "  obj = np.load(file, allow_pickle=True)\n",
    "  print(obj[\"image\"][0][0], obj[\"label\"])"
   ]
  },
  {
   "cell_type": "code",
   "execution_count": 23,
   "metadata": {
    "colab": {
     "base_uri": "https://localhost:8080/",
     "height": 420,
     "referenced_widgets": [
      "89db927882474e9284649118acc87543",
      "95d91d5a08d1494b97f0d885ecbf5f10",
      "bd23fd09b06e47669c5596c96ed88b2f",
      "d5b0ae8215ac4e2890b642ef8bff7add",
      "78819496a95a4b4cb9d7dc82636cece7",
      "8d21e0d7531d4a58a2002756a49103ec",
      "c57367ce5e804a83baa618cb436c5f01",
      "f7d08ce4ee564978b72007c72a974128"
     ]
    },
    "id": "RDdjU5yzynJJ",
    "outputId": "eb361d77-4a9f-4212-d59b-53b6ae1dc813"
   },
   "outputs": [
    {
     "data": {
      "application/vnd.jupyter.widget-view+json": {
       "model_id": "0ff95961423a423b8ad94a7f2ca1a2d2",
       "version_major": 2,
       "version_minor": 0
      },
      "text/plain": [
       "VBox(children=(Label(value='Waiting for wandb.init()...\\r'), FloatProgress(value=0.011116347533334191, max=1.0…"
      ]
     },
     "metadata": {},
     "output_type": "display_data"
    },
    {
     "data": {
      "text/html": [
       "Tracking run with wandb version 0.18.5"
      ],
      "text/plain": [
       "<IPython.core.display.HTML object>"
      ]
     },
     "metadata": {},
     "output_type": "display_data"
    },
    {
     "data": {
      "text/html": [
       "Run data is saved locally in <code>/mnt/c/Users/Albert/Documents/A_Programacao/_GITIGNORE/Learning-Python/tensorflow/04_lenet_model_malaria/wandb/run-20241102_145029-u11kswgo</code>"
      ],
      "text/plain": [
       "<IPython.core.display.HTML object>"
      ]
     },
     "metadata": {},
     "output_type": "display_data"
    },
    {
     "data": {
      "text/html": [
       "Syncing run <strong><a href='https://wandb.ai/albertalvin8080-academic/Malaria-Detection/runs/u11kswgo' target=\"_blank\">effortless-fog-38</a></strong> to <a href='https://wandb.ai/albertalvin8080-academic/Malaria-Detection' target=\"_blank\">Weights & Biases</a> (<a href='https://wandb.me/run' target=\"_blank\">docs</a>)<br/>"
      ],
      "text/plain": [
       "<IPython.core.display.HTML object>"
      ]
     },
     "metadata": {},
     "output_type": "display_data"
    },
    {
     "data": {
      "text/html": [
       " View project at <a href='https://wandb.ai/albertalvin8080-academic/Malaria-Detection' target=\"_blank\">https://wandb.ai/albertalvin8080-academic/Malaria-Detection</a>"
      ],
      "text/plain": [
       "<IPython.core.display.HTML object>"
      ]
     },
     "metadata": {},
     "output_type": "display_data"
    },
    {
     "data": {
      "text/html": [
       " View run at <a href='https://wandb.ai/albertalvin8080-academic/Malaria-Detection/runs/u11kswgo' target=\"_blank\">https://wandb.ai/albertalvin8080-academic/Malaria-Detection/runs/u11kswgo</a>"
      ],
      "text/plain": [
       "<IPython.core.display.HTML object>"
      ]
     },
     "metadata": {},
     "output_type": "display_data"
    },
    {
     "name": "stderr",
     "output_type": "stream",
     "text": [
      "\u001b[34m\u001b[1mwandb\u001b[0m: Adding directory to artifact (./raw_dataset)... Done. 100.9s\n"
     ]
    },
    {
     "data": {
      "application/vnd.jupyter.widget-view+json": {
       "model_id": "e6e3e44901a8464f902fb57ad646805e",
       "version_major": 2,
       "version_minor": 0
      },
      "text/plain": [
       "VBox(children=(Label(value='0.005 MB of 0.005 MB uploaded\\r'), FloatProgress(value=1.0, max=1.0)))"
      ]
     },
     "metadata": {},
     "output_type": "display_data"
    },
    {
     "data": {
      "text/html": [
       " View run <strong style=\"color:#cdcd00\">effortless-fog-38</strong> at: <a href='https://wandb.ai/albertalvin8080-academic/Malaria-Detection/runs/u11kswgo' target=\"_blank\">https://wandb.ai/albertalvin8080-academic/Malaria-Detection/runs/u11kswgo</a><br/> View project at: <a href='https://wandb.ai/albertalvin8080-academic/Malaria-Detection' target=\"_blank\">https://wandb.ai/albertalvin8080-academic/Malaria-Detection</a><br/>Synced 5 W&B file(s), 0 media file(s), 27559 artifact file(s) and 0 other file(s)"
      ],
      "text/plain": [
       "<IPython.core.display.HTML object>"
      ]
     },
     "metadata": {},
     "output_type": "display_data"
    },
    {
     "data": {
      "text/html": [
       "Find logs at: <code>./wandb/run-20241102_145029-u11kswgo/logs</code>"
      ],
      "text/plain": [
       "<IPython.core.display.HTML object>"
      ]
     },
     "metadata": {},
     "output_type": "display_data"
    }
   ],
   "source": [
    "with wandb.init(project=\"Malaria-Detection\", entity=\"albertalvin8080-academic\") as run:\n",
    "    artifact = wandb.Artifact(\n",
    "        name=\"new_dataset\",\n",
    "        type=\"raw_dataset\",\n",
    "        description=(\n",
    "            \"The Malaria dataset contains a total of 27,558 cell images with equal instances of parasitized and uninfected cells from the thin blood smear slide images of segmented cells.\"\n",
    "        ),\n",
    "        metadata={\n",
    "            \"source\": \"TFDS\",\n",
    "            \"homepage\": \"https://lhncbc.nlm.nih.gov/publication/pub9932\",\n",
    "            \"source_code\": \"tfds.image_classification.Malaria\",\n",
    "            \"version\": \"1.0.0\",\n",
    "            \"download_size\": \"~337.08 MiB\",\n",
    "        }\n",
    "    )\n",
    "    artifact.add_dir(RAW_DIR)\n",
    "    artifact.save()\n",
    "    # run.log_artifact(artifact)"
   ]
  },
  {
   "cell_type": "code",
   "execution_count": null,
   "metadata": {
    "colab": {
     "base_uri": "https://localhost:8080/"
    },
    "id": "TAQocztO20Yi",
    "outputId": "2603b714-dcc1-4855-84fc-07e786bca3b5"
   },
   "outputs": [
    {
     "data": {
      "text/html": [
       "Tracking run with wandb version 0.18.5"
      ],
      "text/plain": [
       "<IPython.core.display.HTML object>"
      ]
     },
     "metadata": {},
     "output_type": "display_data"
    },
    {
     "data": {
      "text/html": [
       "Run data is saved locally in <code>/mnt/c/Users/Albert/Documents/A_Programacao/_GITIGNORE/Learning-Python/tensorflow/04_lenet_model_malaria/wandb/run-20241102_145509-3kas8ms8</code>"
      ],
      "text/plain": [
       "<IPython.core.display.HTML object>"
      ]
     },
     "metadata": {},
     "output_type": "display_data"
    },
    {
     "data": {
      "text/html": [
       "Syncing run <strong><a href='https://wandb.ai/albertalvin8080-academic/Malaria-Detection/runs/3kas8ms8' target=\"_blank\">treasured-puddle-39</a></strong> to <a href='https://wandb.ai/albertalvin8080-academic/Malaria-Detection' target=\"_blank\">Weights & Biases</a> (<a href='https://wandb.me/run' target=\"_blank\">docs</a>)<br/>"
      ],
      "text/plain": [
       "<IPython.core.display.HTML object>"
      ]
     },
     "metadata": {},
     "output_type": "display_data"
    },
    {
     "data": {
      "text/html": [
       " View project at <a href='https://wandb.ai/albertalvin8080-academic/Malaria-Detection' target=\"_blank\">https://wandb.ai/albertalvin8080-academic/Malaria-Detection</a>"
      ],
      "text/plain": [
       "<IPython.core.display.HTML object>"
      ]
     },
     "metadata": {},
     "output_type": "display_data"
    },
    {
     "data": {
      "text/html": [
       " View run at <a href='https://wandb.ai/albertalvin8080-academic/Malaria-Detection/runs/3kas8ms8' target=\"_blank\">https://wandb.ai/albertalvin8080-academic/Malaria-Detection/runs/3kas8ms8</a>"
      ],
      "text/plain": [
       "<IPython.core.display.HTML object>"
      ]
     },
     "metadata": {},
     "output_type": "display_data"
    },
    {
     "name": "stderr",
     "output_type": "stream",
     "text": [
      "\u001b[34m\u001b[1mwandb\u001b[0m: Downloading large artifact new_dataset:v0, 387.08MB. 27558 files... \n",
      "\u001b[34m\u001b[1mwandb\u001b[0m:   27558 of 27558 files downloaded.  \n",
      "Done. 0:3:34.2\n"
     ]
    },
    {
     "data": {
      "text/html": [
       " View run <strong style=\"color:#cdcd00\">treasured-puddle-39</strong> at: <a href='https://wandb.ai/albertalvin8080-academic/Malaria-Detection/runs/3kas8ms8' target=\"_blank\">https://wandb.ai/albertalvin8080-academic/Malaria-Detection/runs/3kas8ms8</a><br/> View project at: <a href='https://wandb.ai/albertalvin8080-academic/Malaria-Detection' target=\"_blank\">https://wandb.ai/albertalvin8080-academic/Malaria-Detection</a><br/>Synced 5 W&B file(s), 0 media file(s), 0 artifact file(s) and 0 other file(s)"
      ],
      "text/plain": [
       "<IPython.core.display.HTML object>"
      ]
     },
     "metadata": {},
     "output_type": "display_data"
    },
    {
     "data": {
      "text/html": [
       "Find logs at: <code>./wandb/run-20241102_145509-3kas8ms8/logs</code>"
      ],
      "text/plain": [
       "<IPython.core.display.HTML object>"
      ]
     },
     "metadata": {},
     "output_type": "display_data"
    }
   ],
   "source": [
    "with wandb.init(project=\"Malaria-Detection\", entity=\"albertalvin8080-academic\") as run:\n",
    "    artifact = run.use_artifact('albertalvin8080-academic/Malaria-Detection/new_dataset:v0', type='raw_dataset')\n",
    "    train_artifact_dir = artifact.download(root=DOWNLOAD_DIR)"
   ]
  },
  {
   "cell_type": "markdown",
   "metadata": {},
   "source": [
    "# preprocessed_dataset"
   ]
  },
  {
   "cell_type": "code",
   "execution_count": 25,
   "metadata": {},
   "outputs": [],
   "source": [
    "IMG_SIZE = 224\n",
    "\n",
    "@tf.function\n",
    "def resize_and_normalize(image, label):\n",
    "    image = tf.image.resize(image, (IMG_SIZE, IMG_SIZE)) / 255.0\n",
    "    return image, label"
   ]
  },
  {
   "cell_type": "code",
   "execution_count": null,
   "metadata": {},
   "outputs": [
    {
     "name": "stdout",
     "output_type": "stream",
     "text": [
      "1199\r"
     ]
    }
   ],
   "source": [
    "train_artifact_dir = \"/new_dataset:v0\"\n",
    "# images = [] # NOTE: just for you to remember, it's NOT a good idea to put 27000 images in a list at runtime.\n",
    "# labels = []\n",
    "\n",
    "for i, file_name in enumerate(os.listdir(DOWNLOAD_DIR + train_artifact_dir)[:1200]):\n",
    "    # print(DOWNLOAD_DIR + artifact_name + \"/\" + file_name)\n",
    "    \n",
    "    with open(DOWNLOAD_DIR + train_artifact_dir + \"/\" + file_name, mode=\"rb\") as f:\n",
    "        obj = np.load(f, allow_pickle=True)\n",
    "        image, label = obj[\"image\"], obj[\"label\"]\n",
    "        image, label = resize_and_normalize(image, label)\n",
    "        # print(image[0, 0], label)\n",
    "        \n",
    "    # NOTE: This assures that both image and label will still be placed togheter, but it doesn't \n",
    "    # assure the same ordering from the same dataset due to hot the OS treats filenames like:\n",
    "    # - 'raw_dataset_0_.npz',\n",
    "    # - 'raw_dataset_10000_.npz',\n",
    "    # - 'raw_dataset_2_.npz',\n",
    "    with open(PREPROCESSED_DIR_1 + \"/\" + f\"preprocessed_{i}_.npz\", \"wb\") as f:\n",
    "        # np.savez_compressed(f, image=image, label=label)\n",
    "        # NOTE: files will probably be large due to floating point.\n",
    "        np.savez_compressed(f, image=image.numpy(), label=label.numpy())\n",
    "    \n",
    "    if (i+1) % 300 == 0:\n",
    "        print(i, end=\"\\r\", flush=True)"
   ]
  },
  {
   "cell_type": "code",
   "execution_count": null,
   "metadata": {},
   "outputs": [
    {
     "data": {
      "text/html": [
       "Tracking run with wandb version 0.18.5"
      ],
      "text/plain": [
       "<IPython.core.display.HTML object>"
      ]
     },
     "metadata": {},
     "output_type": "display_data"
    },
    {
     "data": {
      "text/html": [
       "Run data is saved locally in <code>/mnt/c/Users/Albert/Documents/A_Programacao/_GITIGNORE/Learning-Python/tensorflow/04_lenet_model_malaria/wandb/run-20241102_165953-jxqljjtp</code>"
      ],
      "text/plain": [
       "<IPython.core.display.HTML object>"
      ]
     },
     "metadata": {},
     "output_type": "display_data"
    },
    {
     "data": {
      "text/html": [
       "Syncing run <strong><a href='https://wandb.ai/albertalvin8080-academic/Malaria-Detection/runs/jxqljjtp' target=\"_blank\">vibrant-bee-44</a></strong> to <a href='https://wandb.ai/albertalvin8080-academic/Malaria-Detection' target=\"_blank\">Weights & Biases</a> (<a href='https://wandb.me/run' target=\"_blank\">docs</a>)<br/>"
      ],
      "text/plain": [
       "<IPython.core.display.HTML object>"
      ]
     },
     "metadata": {},
     "output_type": "display_data"
    },
    {
     "data": {
      "text/html": [
       " View project at <a href='https://wandb.ai/albertalvin8080-academic/Malaria-Detection' target=\"_blank\">https://wandb.ai/albertalvin8080-academic/Malaria-Detection</a>"
      ],
      "text/plain": [
       "<IPython.core.display.HTML object>"
      ]
     },
     "metadata": {},
     "output_type": "display_data"
    },
    {
     "data": {
      "text/html": [
       " View run at <a href='https://wandb.ai/albertalvin8080-academic/Malaria-Detection/runs/jxqljjtp' target=\"_blank\">https://wandb.ai/albertalvin8080-academic/Malaria-Detection/runs/jxqljjtp</a>"
      ],
      "text/plain": [
       "<IPython.core.display.HTML object>"
      ]
     },
     "metadata": {},
     "output_type": "display_data"
    },
    {
     "name": "stderr",
     "output_type": "stream",
     "text": [
      "\u001b[34m\u001b[1mwandb\u001b[0m: Adding directory to artifact (./preprocessed_1)... Done. 5.2s\n"
     ]
    },
    {
     "data": {
      "application/vnd.jupyter.widget-view+json": {
       "model_id": "d9942961d5bc4ed49b476bcb06131345",
       "version_major": 2,
       "version_minor": 0
      },
      "text/plain": [
       "VBox(children=(Label(value='0.005 MB of 0.005 MB uploaded\\r'), FloatProgress(value=1.0, max=1.0)))"
      ]
     },
     "metadata": {},
     "output_type": "display_data"
    },
    {
     "data": {
      "text/html": [
       " View run <strong style=\"color:#cdcd00\">vibrant-bee-44</strong> at: <a href='https://wandb.ai/albertalvin8080-academic/Malaria-Detection/runs/jxqljjtp' target=\"_blank\">https://wandb.ai/albertalvin8080-academic/Malaria-Detection/runs/jxqljjtp</a><br/> View project at: <a href='https://wandb.ai/albertalvin8080-academic/Malaria-Detection' target=\"_blank\">https://wandb.ai/albertalvin8080-academic/Malaria-Detection</a><br/>Synced 5 W&B file(s), 0 media file(s), 1201 artifact file(s) and 0 other file(s)"
      ],
      "text/plain": [
       "<IPython.core.display.HTML object>"
      ]
     },
     "metadata": {},
     "output_type": "display_data"
    },
    {
     "data": {
      "text/html": [
       "Find logs at: <code>./wandb/run-20241102_165953-jxqljjtp/logs</code>"
      ],
      "text/plain": [
       "<IPython.core.display.HTML object>"
      ]
     },
     "metadata": {},
     "output_type": "display_data"
    }
   ],
   "source": [
    "with wandb.init(project=\"Malaria-Detection\", entity=\"albertalvin8080-academic\") as run:\n",
    "    # NOTE: This line is important to link togheter the artifacts.\n",
    "    new_dataset_artifact = run.use_artifact('albertalvin8080-academic/Malaria-Detection/new_dataset:v0', type='raw_dataset')\n",
    "    artifact = wandb.Artifact(name=\"preprocessed_full_dataset\", type=\"preprocessed_dataset\")\n",
    "    artifact.add_dir(PREPROCESSED_DIR_1)\n",
    "    artifact.save()"
   ]
  },
  {
   "cell_type": "markdown",
   "metadata": {},
   "source": [
    "# train_dataset, val_dataset and test_dataset"
   ]
  },
  {
   "cell_type": "code",
   "execution_count": null,
   "metadata": {},
   "outputs": [
    {
     "data": {
      "text/html": [
       "Tracking run with wandb version 0.18.5"
      ],
      "text/plain": [
       "<IPython.core.display.HTML object>"
      ]
     },
     "metadata": {},
     "output_type": "display_data"
    },
    {
     "data": {
      "text/html": [
       "Run data is saved locally in <code>/mnt/c/Users/Albert/Documents/A_Programacao/_GITIGNORE/Learning-Python/tensorflow/04_lenet_model_malaria/wandb/run-20241102_170630-cuw1f062</code>"
      ],
      "text/plain": [
       "<IPython.core.display.HTML object>"
      ]
     },
     "metadata": {},
     "output_type": "display_data"
    },
    {
     "data": {
      "text/html": [
       "Syncing run <strong><a href='https://wandb.ai/albertalvin8080-academic/Malaria-Detection/runs/cuw1f062' target=\"_blank\">generous-frost-45</a></strong> to <a href='https://wandb.ai/albertalvin8080-academic/Malaria-Detection' target=\"_blank\">Weights & Biases</a> (<a href='https://wandb.me/run' target=\"_blank\">docs</a>)<br/>"
      ],
      "text/plain": [
       "<IPython.core.display.HTML object>"
      ]
     },
     "metadata": {},
     "output_type": "display_data"
    },
    {
     "data": {
      "text/html": [
       " View project at <a href='https://wandb.ai/albertalvin8080-academic/Malaria-Detection' target=\"_blank\">https://wandb.ai/albertalvin8080-academic/Malaria-Detection</a>"
      ],
      "text/plain": [
       "<IPython.core.display.HTML object>"
      ]
     },
     "metadata": {},
     "output_type": "display_data"
    },
    {
     "data": {
      "text/html": [
       " View run at <a href='https://wandb.ai/albertalvin8080-academic/Malaria-Detection/runs/cuw1f062' target=\"_blank\">https://wandb.ai/albertalvin8080-academic/Malaria-Detection/runs/cuw1f062</a>"
      ],
      "text/plain": [
       "<IPython.core.display.HTML object>"
      ]
     },
     "metadata": {},
     "output_type": "display_data"
    },
    {
     "name": "stderr",
     "output_type": "stream",
     "text": [
      "\u001b[34m\u001b[1mwandb\u001b[0m: Downloading large artifact preprocessed_full_dataset:v0, 368.05MB. 1200 files... \n",
      "\u001b[34m\u001b[1mwandb\u001b[0m:   1200 of 1200 files downloaded.  \n",
      "Done. 0:0:16.3\n"
     ]
    },
    {
     "data": {
      "text/html": [
       " View run <strong style=\"color:#cdcd00\">generous-frost-45</strong> at: <a href='https://wandb.ai/albertalvin8080-academic/Malaria-Detection/runs/cuw1f062' target=\"_blank\">https://wandb.ai/albertalvin8080-academic/Malaria-Detection/runs/cuw1f062</a><br/> View project at: <a href='https://wandb.ai/albertalvin8080-academic/Malaria-Detection' target=\"_blank\">https://wandb.ai/albertalvin8080-academic/Malaria-Detection</a><br/>Synced 5 W&B file(s), 0 media file(s), 0 artifact file(s) and 0 other file(s)"
      ],
      "text/plain": [
       "<IPython.core.display.HTML object>"
      ]
     },
     "metadata": {},
     "output_type": "display_data"
    },
    {
     "data": {
      "text/html": [
       "Find logs at: <code>./wandb/run-20241102_170630-cuw1f062/logs</code>"
      ],
      "text/plain": [
       "<IPython.core.display.HTML object>"
      ]
     },
     "metadata": {},
     "output_type": "display_data"
    }
   ],
   "source": [
    "with wandb.init(project=\"Malaria-Detection\", entity=\"albertalvin8080-academic\") as run:\n",
    "    preprocessed_full_artifact = run.use_artifact(\n",
    "        \"albertalvin8080-academic/Malaria-Detection/preprocessed_full_dataset:v0\",\n",
    "        type=\"preprocessed_dataset\",\n",
    "    )\n",
    "    preprocessed_full_artifact.download()"
   ]
  },
  {
   "cell_type": "code",
   "execution_count": null,
   "metadata": {},
   "outputs": [],
   "source": [
    "with wandb.init(project=\"Malaria-Detection\", entity=\"albertalvin8080-academic\") as run:\n",
    "    # NOTE: This line is important to link togheter the artifacts.\n",
    "    preprocessed_full_artifact = run.use_artifact(\n",
    "        \"albertalvin8080-academic/Malaria-Detection/preprocessed_full_dataset:v0\",\n",
    "        type=\"preprocessed_dataset\",\n",
    "    )\n",
    "\n",
    "    train_artifact = wandb.Artifact(\n",
    "        name=\"train_dataset\",\n",
    "        type=\"preprocessed_dataset\",\n",
    "        description=\"Training dataset\",\n",
    "    )\n",
    "    val_artifact = wandb.Artifact(\n",
    "        name=\"val_dataset\",\n",
    "        type=\"preprocessed_dataset\",\n",
    "        description=\"Validation dataset\",\n",
    "    )\n",
    "    test_artifact = wandb.Artifact(\n",
    "        name=\"test_dataset\", type=\"preprocessed_dataset\", description=\"Testing dataset\"\n",
    "    )\n",
    "\n",
    "    train_ratio = 0.8\n",
    "    val_ratio = 0.1\n",
    "    test_ratio = 0.1\n",
    "\n",
    "    dir_name = \"artifacts/preprocessed_full_dataset:v0/\"\n",
    "    files = os.listdir(dir_name)\n",
    "    files_len = len(files)\n",
    "\n",
    "    train_files = files[0 : int(files_len * train_ratio)]\n",
    "    val_files = files[\n",
    "        int(files_len * train_ratio) : int(files_len * (train_ratio + val_ratio))\n",
    "    ]\n",
    "    test_files = files[int(files_len * (train_ratio + val_ratio)) : files_len]\n",
    "\n",
    "    print(len(train_files), len(val_files), len(test_files))\n",
    "\n",
    "    for file_name in train_files:\n",
    "        train_artifact.add_file(dir_name + \"/\" + file_name)\n",
    "    for file_name in val_files:\n",
    "        val_artifact.add_file(dir_name + \"/\" + file_name)\n",
    "    for file_name in test_files:\n",
    "        test_artifact.add_file(dir_name + \"/\" + file_name)\n",
    "\n",
    "    train_artifact.save()\n",
    "    val_artifact.save()\n",
    "    test_artifact.save()"
   ]
  },
  {
   "cell_type": "markdown",
   "metadata": {},
   "source": [
    "# augment_dataset"
   ]
  },
  {
   "cell_type": "code",
   "execution_count": 3,
   "metadata": {},
   "outputs": [
    {
     "name": "stderr",
     "output_type": "stream",
     "text": [
      "\u001b[34m\u001b[1mwandb\u001b[0m: Using wandb-core as the SDK backend. Please refer to https://wandb.me/wandb-core for more information.\n",
      "\u001b[34m\u001b[1mwandb\u001b[0m: Currently logged in as: \u001b[33malbertalvin8080\u001b[0m (\u001b[33malbertalvin8080-academic\u001b[0m). Use \u001b[1m`wandb login --relogin`\u001b[0m to force relogin\n"
     ]
    },
    {
     "data": {
      "text/html": [
       "Tracking run with wandb version 0.18.5"
      ],
      "text/plain": [
       "<IPython.core.display.HTML object>"
      ]
     },
     "metadata": {},
     "output_type": "display_data"
    },
    {
     "data": {
      "text/html": [
       "Run data is saved locally in <code>/mnt/c/Users/Albert/Documents/A_Programacao/_GITIGNORE/Learning-Python/tensorflow/04_lenet_model_malaria/wandb/run-20241102_195437-oqe9juf5</code>"
      ],
      "text/plain": [
       "<IPython.core.display.HTML object>"
      ]
     },
     "metadata": {},
     "output_type": "display_data"
    },
    {
     "data": {
      "text/html": [
       "Syncing run <strong><a href='https://wandb.ai/albertalvin8080-academic/Malaria-Detection/runs/oqe9juf5' target=\"_blank\">cool-sunset-48</a></strong> to <a href='https://wandb.ai/albertalvin8080-academic/Malaria-Detection' target=\"_blank\">Weights & Biases</a> (<a href='https://wandb.me/run' target=\"_blank\">docs</a>)<br/>"
      ],
      "text/plain": [
       "<IPython.core.display.HTML object>"
      ]
     },
     "metadata": {},
     "output_type": "display_data"
    },
    {
     "data": {
      "text/html": [
       " View project at <a href='https://wandb.ai/albertalvin8080-academic/Malaria-Detection' target=\"_blank\">https://wandb.ai/albertalvin8080-academic/Malaria-Detection</a>"
      ],
      "text/plain": [
       "<IPython.core.display.HTML object>"
      ]
     },
     "metadata": {},
     "output_type": "display_data"
    },
    {
     "data": {
      "text/html": [
       " View run at <a href='https://wandb.ai/albertalvin8080-academic/Malaria-Detection/runs/oqe9juf5' target=\"_blank\">https://wandb.ai/albertalvin8080-academic/Malaria-Detection/runs/oqe9juf5</a>"
      ],
      "text/plain": [
       "<IPython.core.display.HTML object>"
      ]
     },
     "metadata": {},
     "output_type": "display_data"
    },
    {
     "name": "stderr",
     "output_type": "stream",
     "text": [
      "\u001b[34m\u001b[1mwandb\u001b[0m: Downloading large artifact train_dataset:v0, 294.18MB. 960 files... \n",
      "\u001b[34m\u001b[1mwandb\u001b[0m:   960 of 960 files downloaded.  \n",
      "Done. 0:0:20.3\n"
     ]
    },
    {
     "data": {
      "application/vnd.jupyter.widget-view+json": {
       "model_id": "ec54d7151001469e9edc4afdf025ee92",
       "version_major": 2,
       "version_minor": 0
      },
      "text/plain": [
       "VBox(children=(Label(value='0.005 MB of 0.005 MB uploaded\\r'), FloatProgress(value=1.0, max=1.0)))"
      ]
     },
     "metadata": {},
     "output_type": "display_data"
    },
    {
     "data": {
      "text/html": [
       " View run <strong style=\"color:#cdcd00\">cool-sunset-48</strong> at: <a href='https://wandb.ai/albertalvin8080-academic/Malaria-Detection/runs/oqe9juf5' target=\"_blank\">https://wandb.ai/albertalvin8080-academic/Malaria-Detection/runs/oqe9juf5</a><br/> View project at: <a href='https://wandb.ai/albertalvin8080-academic/Malaria-Detection' target=\"_blank\">https://wandb.ai/albertalvin8080-academic/Malaria-Detection</a><br/>Synced 5 W&B file(s), 0 media file(s), 2 artifact file(s) and 0 other file(s)"
      ],
      "text/plain": [
       "<IPython.core.display.HTML object>"
      ]
     },
     "metadata": {},
     "output_type": "display_data"
    },
    {
     "data": {
      "text/html": [
       "Find logs at: <code>./wandb/run-20241102_195437-oqe9juf5/logs</code>"
      ],
      "text/plain": [
       "<IPython.core.display.HTML object>"
      ]
     },
     "metadata": {},
     "output_type": "display_data"
    }
   ],
   "source": [
    "with wandb.init(project=\"Malaria-Detection\", entity=\"albertalvin8080-academic\") as run:\n",
    "    artifact = run.use_artifact(\n",
    "        \"albertalvin8080-academic/Malaria-Detection/train_dataset:v0\",\n",
    "        type=\"preprocessed_dataset\",\n",
    "    )\n",
    "    artifact.download()"
   ]
  },
  {
   "cell_type": "code",
   "execution_count": 4,
   "metadata": {},
   "outputs": [],
   "source": [
    "@tf.function\n",
    "def augment(image, label):\n",
    "    image = tf.image.random_flip_up_down(image)\n",
    "    # image = tf.image.random_flip_left_right(image)\n",
    "    image = tf.image.rot90(image, k=1)\n",
    "    return image, label"
   ]
  },
  {
   "cell_type": "code",
   "execution_count": 7,
   "metadata": {},
   "outputs": [
    {
     "data": {
      "application/vnd.jupyter.widget-view+json": {
       "model_id": "f7b33d8ae0734cec8a106a63f81c9471",
       "version_major": 2,
       "version_minor": 0
      },
      "text/plain": [
       "VBox(children=(Label(value='Waiting for wandb.init()...\\r'), FloatProgress(value=0.011116323011111085, max=1.0…"
      ]
     },
     "metadata": {},
     "output_type": "display_data"
    },
    {
     "data": {
      "text/html": [
       "Tracking run with wandb version 0.18.5"
      ],
      "text/plain": [
       "<IPython.core.display.HTML object>"
      ]
     },
     "metadata": {},
     "output_type": "display_data"
    },
    {
     "data": {
      "text/html": [
       "Run data is saved locally in <code>/mnt/c/Users/Albert/Documents/A_Programacao/_GITIGNORE/Learning-Python/tensorflow/04_lenet_model_malaria/wandb/run-20241102_195647-xi72m8u7</code>"
      ],
      "text/plain": [
       "<IPython.core.display.HTML object>"
      ]
     },
     "metadata": {},
     "output_type": "display_data"
    },
    {
     "data": {
      "text/html": [
       "Syncing run <strong><a href='https://wandb.ai/albertalvin8080-academic/Malaria-Detection/runs/xi72m8u7' target=\"_blank\">sleek-blaze-51</a></strong> to <a href='https://wandb.ai/albertalvin8080-academic/Malaria-Detection' target=\"_blank\">Weights & Biases</a> (<a href='https://wandb.me/run' target=\"_blank\">docs</a>)<br/>"
      ],
      "text/plain": [
       "<IPython.core.display.HTML object>"
      ]
     },
     "metadata": {},
     "output_type": "display_data"
    },
    {
     "data": {
      "text/html": [
       " View project at <a href='https://wandb.ai/albertalvin8080-academic/Malaria-Detection' target=\"_blank\">https://wandb.ai/albertalvin8080-academic/Malaria-Detection</a>"
      ],
      "text/plain": [
       "<IPython.core.display.HTML object>"
      ]
     },
     "metadata": {},
     "output_type": "display_data"
    },
    {
     "data": {
      "text/html": [
       " View run at <a href='https://wandb.ai/albertalvin8080-academic/Malaria-Detection/runs/xi72m8u7' target=\"_blank\">https://wandb.ai/albertalvin8080-academic/Malaria-Detection/runs/xi72m8u7</a>"
      ],
      "text/plain": [
       "<IPython.core.display.HTML object>"
      ]
     },
     "metadata": {},
     "output_type": "display_data"
    },
    {
     "name": "stderr",
     "output_type": "stream",
     "text": [
      "\u001b[34m\u001b[1mwandb\u001b[0m: Adding directory to artifact (./preprocessed_augmented)... Done. 6.2s\n"
     ]
    },
    {
     "data": {
      "application/vnd.jupyter.widget-view+json": {
       "model_id": "4044aa594fbf47168852a52100c253c4",
       "version_major": 2,
       "version_minor": 0
      },
      "text/plain": [
       "VBox(children=(Label(value='0.161 MB of 0.559 MB uploaded\\r'), FloatProgress(value=0.28902975557372823, max=1.…"
      ]
     },
     "metadata": {},
     "output_type": "display_data"
    },
    {
     "data": {
      "text/html": [
       " View run <strong style=\"color:#cdcd00\">sleek-blaze-51</strong> at: <a href='https://wandb.ai/albertalvin8080-academic/Malaria-Detection/runs/xi72m8u7' target=\"_blank\">https://wandb.ai/albertalvin8080-academic/Malaria-Detection/runs/xi72m8u7</a><br/> View project at: <a href='https://wandb.ai/albertalvin8080-academic/Malaria-Detection' target=\"_blank\">https://wandb.ai/albertalvin8080-academic/Malaria-Detection</a><br/>Synced 5 W&B file(s), 0 media file(s), 961 artifact file(s) and 0 other file(s)"
      ],
      "text/plain": [
       "<IPython.core.display.HTML object>"
      ]
     },
     "metadata": {},
     "output_type": "display_data"
    },
    {
     "data": {
      "text/html": [
       "Find logs at: <code>./wandb/run-20241102_195647-xi72m8u7/logs</code>"
      ],
      "text/plain": [
       "<IPython.core.display.HTML object>"
      ]
     },
     "metadata": {},
     "output_type": "display_data"
    }
   ],
   "source": [
    "with wandb.init(project=\"Malaria-Detection\", entity=\"albertalvin8080-academic\") as run:\n",
    "    train_artifact = run.use_artifact(\n",
    "        \"albertalvin8080-academic/Malaria-Detection/train_dataset:v0\",\n",
    "        type=\"preprocessed_dataset\",\n",
    "    )\n",
    "\n",
    "    augmented_artifact = wandb.Artifact(\n",
    "        name=\"augmented_dataset\",\n",
    "        type=\"preprocessed_dataset\",\n",
    "        description=\"Augmented version of train_dataset.\",\n",
    "    )\n",
    "    \n",
    "    train_artifact_dir = \"artifacts/train_dataset:v0/\"\n",
    "    augmented_dir = \"./preprocessed_augmented/\"\n",
    "    os.makedirs(augmented_dir, exist_ok=True)\n",
    "    \n",
    "    files = os.listdir(train_artifact_dir)\n",
    "    for i, file_name in enumerate(files):\n",
    "        with open(train_artifact_dir + file_name, mode=\"rb\") as f:\n",
    "            obj = np.load(f, allow_pickle=True)\n",
    "            image, label = obj[\"image\"], obj[\"label\"]\n",
    "            image, label = augment(image, label)\n",
    "        \n",
    "        with open(augmented_dir + f\"augmented_dataset_{i}_.npz\", mode=\"wb\") as f:\n",
    "            np.savez_compressed(f, image=image.numpy(), label=label.numpy())\n",
    "    \n",
    "    augmented_artifact.add_dir(augmented_dir)\n",
    "    augmented_artifact.save()\n"
   ]
  }
 ],
 "metadata": {
  "colab": {
   "provenance": []
  },
  "kernelspec": {
   "display_name": "Python 3",
   "name": "python3"
  },
  "language_info": {
   "codemirror_mode": {
    "name": "ipython",
    "version": 3
   },
   "file_extension": ".py",
   "mimetype": "text/x-python",
   "name": "python",
   "nbconvert_exporter": "python",
   "pygments_lexer": "ipython3",
   "version": "3.10.12"
  },
  "widgets": {
   "application/vnd.jupyter.widget-state+json": {
    "78819496a95a4b4cb9d7dc82636cece7": {
     "model_module": "@jupyter-widgets/base",
     "model_module_version": "1.2.0",
     "model_name": "LayoutModel",
     "state": {
      "_model_module": "@jupyter-widgets/base",
      "_model_module_version": "1.2.0",
      "_model_name": "LayoutModel",
      "_view_count": null,
      "_view_module": "@jupyter-widgets/base",
      "_view_module_version": "1.2.0",
      "_view_name": "LayoutView",
      "align_content": null,
      "align_items": null,
      "align_self": null,
      "border": null,
      "bottom": null,
      "display": null,
      "flex": null,
      "flex_flow": null,
      "grid_area": null,
      "grid_auto_columns": null,
      "grid_auto_flow": null,
      "grid_auto_rows": null,
      "grid_column": null,
      "grid_gap": null,
      "grid_row": null,
      "grid_template_areas": null,
      "grid_template_columns": null,
      "grid_template_rows": null,
      "height": null,
      "justify_content": null,
      "justify_items": null,
      "left": null,
      "margin": null,
      "max_height": null,
      "max_width": null,
      "min_height": null,
      "min_width": null,
      "object_fit": null,
      "object_position": null,
      "order": null,
      "overflow": null,
      "overflow_x": null,
      "overflow_y": null,
      "padding": null,
      "right": null,
      "top": null,
      "visibility": null,
      "width": null
     }
    },
    "89db927882474e9284649118acc87543": {
     "model_module": "@jupyter-widgets/controls",
     "model_module_version": "1.5.0",
     "model_name": "VBoxModel",
     "state": {
      "_dom_classes": [],
      "_model_module": "@jupyter-widgets/controls",
      "_model_module_version": "1.5.0",
      "_model_name": "VBoxModel",
      "_view_count": null,
      "_view_module": "@jupyter-widgets/controls",
      "_view_module_version": "1.5.0",
      "_view_name": "VBoxView",
      "box_style": "",
      "children": [
       "IPY_MODEL_95d91d5a08d1494b97f0d885ecbf5f10",
       "IPY_MODEL_bd23fd09b06e47669c5596c96ed88b2f"
      ],
      "layout": "IPY_MODEL_d5b0ae8215ac4e2890b642ef8bff7add"
     }
    },
    "8d21e0d7531d4a58a2002756a49103ec": {
     "model_module": "@jupyter-widgets/controls",
     "model_module_version": "1.5.0",
     "model_name": "DescriptionStyleModel",
     "state": {
      "_model_module": "@jupyter-widgets/controls",
      "_model_module_version": "1.5.0",
      "_model_name": "DescriptionStyleModel",
      "_view_count": null,
      "_view_module": "@jupyter-widgets/base",
      "_view_module_version": "1.2.0",
      "_view_name": "StyleView",
      "description_width": ""
     }
    },
    "95d91d5a08d1494b97f0d885ecbf5f10": {
     "model_module": "@jupyter-widgets/controls",
     "model_module_version": "1.5.0",
     "model_name": "LabelModel",
     "state": {
      "_dom_classes": [],
      "_model_module": "@jupyter-widgets/controls",
      "_model_module_version": "1.5.0",
      "_model_name": "LabelModel",
      "_view_count": null,
      "_view_module": "@jupyter-widgets/controls",
      "_view_module_version": "1.5.0",
      "_view_name": "LabelView",
      "description": "",
      "description_tooltip": null,
      "layout": "IPY_MODEL_78819496a95a4b4cb9d7dc82636cece7",
      "placeholder": "​",
      "style": "IPY_MODEL_8d21e0d7531d4a58a2002756a49103ec",
      "value": "Waiting for wandb.init()...\r"
     }
    },
    "bd23fd09b06e47669c5596c96ed88b2f": {
     "model_module": "@jupyter-widgets/controls",
     "model_module_version": "1.5.0",
     "model_name": "FloatProgressModel",
     "state": {
      "_dom_classes": [],
      "_model_module": "@jupyter-widgets/controls",
      "_model_module_version": "1.5.0",
      "_model_name": "FloatProgressModel",
      "_view_count": null,
      "_view_module": "@jupyter-widgets/controls",
      "_view_module_version": "1.5.0",
      "_view_name": "ProgressView",
      "bar_style": "",
      "description": "",
      "description_tooltip": null,
      "layout": "IPY_MODEL_c57367ce5e804a83baa618cb436c5f01",
      "max": 1,
      "min": 0,
      "orientation": "horizontal",
      "style": "IPY_MODEL_f7d08ce4ee564978b72007c72a974128",
      "value": 0.11127264468889027
     }
    },
    "c57367ce5e804a83baa618cb436c5f01": {
     "model_module": "@jupyter-widgets/base",
     "model_module_version": "1.2.0",
     "model_name": "LayoutModel",
     "state": {
      "_model_module": "@jupyter-widgets/base",
      "_model_module_version": "1.2.0",
      "_model_name": "LayoutModel",
      "_view_count": null,
      "_view_module": "@jupyter-widgets/base",
      "_view_module_version": "1.2.0",
      "_view_name": "LayoutView",
      "align_content": null,
      "align_items": null,
      "align_self": null,
      "border": null,
      "bottom": null,
      "display": null,
      "flex": null,
      "flex_flow": null,
      "grid_area": null,
      "grid_auto_columns": null,
      "grid_auto_flow": null,
      "grid_auto_rows": null,
      "grid_column": null,
      "grid_gap": null,
      "grid_row": null,
      "grid_template_areas": null,
      "grid_template_columns": null,
      "grid_template_rows": null,
      "height": null,
      "justify_content": null,
      "justify_items": null,
      "left": null,
      "margin": null,
      "max_height": null,
      "max_width": null,
      "min_height": null,
      "min_width": null,
      "object_fit": null,
      "object_position": null,
      "order": null,
      "overflow": null,
      "overflow_x": null,
      "overflow_y": null,
      "padding": null,
      "right": null,
      "top": null,
      "visibility": null,
      "width": null
     }
    },
    "d5b0ae8215ac4e2890b642ef8bff7add": {
     "model_module": "@jupyter-widgets/base",
     "model_module_version": "1.2.0",
     "model_name": "LayoutModel",
     "state": {
      "_model_module": "@jupyter-widgets/base",
      "_model_module_version": "1.2.0",
      "_model_name": "LayoutModel",
      "_view_count": null,
      "_view_module": "@jupyter-widgets/base",
      "_view_module_version": "1.2.0",
      "_view_name": "LayoutView",
      "align_content": null,
      "align_items": null,
      "align_self": null,
      "border": null,
      "bottom": null,
      "display": null,
      "flex": null,
      "flex_flow": null,
      "grid_area": null,
      "grid_auto_columns": null,
      "grid_auto_flow": null,
      "grid_auto_rows": null,
      "grid_column": null,
      "grid_gap": null,
      "grid_row": null,
      "grid_template_areas": null,
      "grid_template_columns": null,
      "grid_template_rows": null,
      "height": null,
      "justify_content": null,
      "justify_items": null,
      "left": null,
      "margin": null,
      "max_height": null,
      "max_width": null,
      "min_height": null,
      "min_width": null,
      "object_fit": null,
      "object_position": null,
      "order": null,
      "overflow": null,
      "overflow_x": null,
      "overflow_y": null,
      "padding": null,
      "right": null,
      "top": null,
      "visibility": null,
      "width": null
     }
    },
    "f7d08ce4ee564978b72007c72a974128": {
     "model_module": "@jupyter-widgets/controls",
     "model_module_version": "1.5.0",
     "model_name": "ProgressStyleModel",
     "state": {
      "_model_module": "@jupyter-widgets/controls",
      "_model_module_version": "1.5.0",
      "_model_name": "ProgressStyleModel",
      "_view_count": null,
      "_view_module": "@jupyter-widgets/base",
      "_view_module_version": "1.2.0",
      "_view_name": "StyleView",
      "bar_color": null,
      "description_width": ""
     }
    }
   }
  }
 },
 "nbformat": 4,
 "nbformat_minor": 0
}
