{
 "cells": [
  {
   "cell_type": "code",
   "execution_count": 1,
   "metadata": {},
   "outputs": [
    {
     "name": "stderr",
     "output_type": "stream",
     "text": [
      "/home/albert/.local/lib/python3.10/site-packages/albumentations/__init__.py:24: UserWarning: A new version of Albumentations is available: 1.4.21 (you have 1.4.20). Upgrade using: pip install -U albumentations. To disable automatic update checks, set the environment variable NO_ALBUMENTATIONS_UPDATE to 1.\n",
      "  check_for_updates()\n",
      "2024-11-02 21:18:24.192440: E external/local_xla/xla/stream_executor/cuda/cuda_fft.cc:477] Unable to register cuFFT factory: Attempting to register factory for plugin cuFFT when one has already been registered\n",
      "WARNING: All log messages before absl::InitializeLog() is called are written to STDERR\n",
      "E0000 00:00:1730593104.471144    1146 cuda_dnn.cc:8310] Unable to register cuDNN factory: Attempting to register factory for plugin cuDNN when one has already been registered\n",
      "E0000 00:00:1730593104.550188    1146 cuda_blas.cc:1418] Unable to register cuBLAS factory: Attempting to register factory for plugin cuBLAS when one has already been registered\n",
      "2024-11-02 21:18:25.264727: I tensorflow/core/platform/cpu_feature_guard.cc:210] This TensorFlow binary is optimized to use available CPU instructions in performance-critical operations.\n",
      "To enable the following instructions: AVX2 FMA, in other operations, rebuild TensorFlow with the appropriate compiler flags.\n"
     ]
    }
   ],
   "source": [
    "import cv2 as cv\n",
    "import albumentations as A\n",
    "import os\n",
    "import sys\n",
    "import datetime\n",
    "import io\n",
    "\n",
    "import tensorflow as tf\n",
    "import tensorflow_datasets as tfds\n",
    "from tensorflow.keras.layers import Conv2D, MaxPool2D, Dense, Flatten, Input, BatchNormalization, Layer, Dropout, Resizing, Rescaling, RandomFlip, RandomRotation\n",
    "from tensorflow.keras.losses import BinaryCrossentropy\n",
    "from tensorflow.keras.optimizers import Adam\n",
    "from tensorflow.keras.models import Model\n",
    "from tensorflow.keras.metrics import BinaryAccuracy, FalsePositives, FalseNegatives, TruePositives, Accuracy,TrueNegatives, AUC, Precision, Recall\n",
    "from tensorflow.keras.callbacks import Callback, CSVLogger, EarlyStopping, LearningRateScheduler, ModelCheckpoint, ReduceLROnPlateau\n",
    "from tensorflow.keras.regularizers import L2, L1\n",
    "import tensorflow_probability as tfp\n",
    "from tensorboard.plugins.hparams import api as hp\n",
    "\n",
    "import math\n",
    "import numpy as np\n",
    "import matplotlib.pyplot as plt\n",
    "import seaborn as sns\n",
    "import sklearn\n",
    "from sklearn.metrics import confusion_matrix, roc_curve\n",
    "\n",
    "# !pip install -U wandb\n",
    "import wandb\n",
    "# !wandb login"
   ]
  },
  {
   "cell_type": "code",
   "execution_count": 11,
   "metadata": {},
   "outputs": [],
   "source": [
    "IMG_SIZE = 224\n",
    "CONFIG = {\n",
    "    \"input_shape\": (IMG_SIZE, IMG_SIZE, 3),\n",
    "    \"filters_1\": 6,\n",
    "    \"filters_2\": 16,\n",
    "    \"kernel_size\": 3,\n",
    "    \"activation_1\": \"relu\",\n",
    "    \"activation_2\": \"sigmoid\",\n",
    "    \"dropout\": 0.01,\n",
    "    \"regularization_l2\": 0.1,\n",
    "    \"optimizer\": \"adam\",\n",
    "    \"loss\": \"binary_crossentropy\",\n",
    "    \"metrics\": [\"binary_accuracy\"],\n",
    "    \"pool_size\": 2,\n",
    "    \"strides_1\": 1,\n",
    "    \"strides_2\": 2,\n",
    "    \"dense_1\": 32,\n",
    "    \"dense_2\": 32,\n",
    "    \"dense_out\": 1,\n",
    "    \"learning_rate\": 0.01,\n",
    "    \"batch_size\": 32,\n",
    "    \"epochs\": 3,\n",
    "    # \"epochs\": 1,\n",
    "}\n",
    "\n",
    "lenet_model = tf.keras.Sequential(\n",
    "    [\n",
    "        Input(shape=CONFIG[\"input_shape\"]),\n",
    "        Conv2D(\n",
    "            filters=CONFIG[\"filters_1\"],\n",
    "            kernel_size=CONFIG[\"kernel_size\"],\n",
    "            strides=CONFIG[\"strides_1\"],\n",
    "            padding=\"valid\",\n",
    "            activation=CONFIG[\"activation_1\"],\n",
    "            kernel_regularizer=L2(CONFIG[\"regularization_l2\"]),\n",
    "        ),\n",
    "        BatchNormalization(),\n",
    "        MaxPool2D(pool_size=CONFIG[\"pool_size\"], strides=CONFIG[\"strides_2\"]),\n",
    "        Dropout(rate=CONFIG[\"dropout\"]),\n",
    "        Conv2D(\n",
    "            filters=CONFIG[\"filters_2\"],\n",
    "            kernel_size=CONFIG[\"kernel_size\"],\n",
    "            strides=CONFIG[\"strides_1\"],\n",
    "            padding=\"valid\",\n",
    "            activation=CONFIG[\"activation_1\"],\n",
    "            kernel_regularizer=L2(CONFIG[\"regularization_l2\"]),\n",
    "        ),\n",
    "        BatchNormalization(),\n",
    "        MaxPool2D(pool_size=CONFIG[\"pool_size\"], strides=CONFIG[\"strides_2\"]),\n",
    "        Flatten(),\n",
    "        Dense(\n",
    "            CONFIG[\"dense_1\"],\n",
    "            activation=CONFIG[\"activation_1\"],\n",
    "            kernel_regularizer=L2(CONFIG[\"regularization_l2\"]),\n",
    "        ),\n",
    "        BatchNormalization(),\n",
    "        Dropout(rate=CONFIG[\"dropout\"]),\n",
    "        Dense(\n",
    "            CONFIG[\"dense_2\"],\n",
    "            activation=CONFIG[\"activation_1\"],\n",
    "            kernel_regularizer=L2(CONFIG[\"regularization_l2\"]),\n",
    "        ),\n",
    "        BatchNormalization(),\n",
    "        Dense(1, activation=CONFIG[\"activation_2\"]),\n",
    "    ]\n",
    ")"
   ]
  },
  {
   "cell_type": "markdown",
   "metadata": {},
   "source": [
    "# untrained_model"
   ]
  },
  {
   "cell_type": "code",
   "execution_count": 12,
   "metadata": {},
   "outputs": [
    {
     "data": {
      "text/html": [
       "Tracking run with wandb version 0.18.5"
      ],
      "text/plain": [
       "<IPython.core.display.HTML object>"
      ]
     },
     "metadata": {},
     "output_type": "display_data"
    },
    {
     "data": {
      "text/html": [
       "Run data is saved locally in <code>/mnt/c/Users/Albert/Documents/A_Programacao/_GITIGNORE/Learning-Python/tensorflow/04_lenet_model_malaria/wandb/run-20241102_214658-bddo8qrc</code>"
      ],
      "text/plain": [
       "<IPython.core.display.HTML object>"
      ]
     },
     "metadata": {},
     "output_type": "display_data"
    },
    {
     "data": {
      "text/html": [
       "Syncing run <strong><a href='https://wandb.ai/albertalvin8080-academic/Malaria-Detection/runs/bddo8qrc' target=\"_blank\">apricot-violet-58</a></strong> to <a href='https://wandb.ai/albertalvin8080-academic/Malaria-Detection' target=\"_blank\">Weights & Biases</a> (<a href='https://wandb.me/run' target=\"_blank\">docs</a>)<br/>"
      ],
      "text/plain": [
       "<IPython.core.display.HTML object>"
      ]
     },
     "metadata": {},
     "output_type": "display_data"
    },
    {
     "data": {
      "text/html": [
       " View project at <a href='https://wandb.ai/albertalvin8080-academic/Malaria-Detection' target=\"_blank\">https://wandb.ai/albertalvin8080-academic/Malaria-Detection</a>"
      ],
      "text/plain": [
       "<IPython.core.display.HTML object>"
      ]
     },
     "metadata": {},
     "output_type": "display_data"
    },
    {
     "data": {
      "text/html": [
       " View run at <a href='https://wandb.ai/albertalvin8080-academic/Malaria-Detection/runs/bddo8qrc' target=\"_blank\">https://wandb.ai/albertalvin8080-academic/Malaria-Detection/runs/bddo8qrc</a>"
      ],
      "text/plain": [
       "<IPython.core.display.HTML object>"
      ]
     },
     "metadata": {},
     "output_type": "display_data"
    },
    {
     "data": {
      "application/vnd.jupyter.widget-view+json": {
       "model_id": "f3fe9a52610a4fd2a7a7b78b768206e6",
       "version_major": 2,
       "version_minor": 0
      },
      "text/plain": [
       "VBox(children=(Label(value='0.443 MB of 5.762 MB uploaded\\r'), FloatProgress(value=0.07681391873576537, max=1.…"
      ]
     },
     "metadata": {},
     "output_type": "display_data"
    },
    {
     "data": {
      "text/html": [
       " View run <strong style=\"color:#cdcd00\">apricot-violet-58</strong> at: <a href='https://wandb.ai/albertalvin8080-academic/Malaria-Detection/runs/bddo8qrc' target=\"_blank\">https://wandb.ai/albertalvin8080-academic/Malaria-Detection/runs/bddo8qrc</a><br/> View project at: <a href='https://wandb.ai/albertalvin8080-academic/Malaria-Detection' target=\"_blank\">https://wandb.ai/albertalvin8080-academic/Malaria-Detection</a><br/>Synced 5 W&B file(s), 0 media file(s), 2 artifact file(s) and 0 other file(s)"
      ],
      "text/plain": [
       "<IPython.core.display.HTML object>"
      ]
     },
     "metadata": {},
     "output_type": "display_data"
    },
    {
     "data": {
      "text/html": [
       "Find logs at: <code>./wandb/run-20241102_214658-bddo8qrc/logs</code>"
      ],
      "text/plain": [
       "<IPython.core.display.HTML object>"
      ]
     },
     "metadata": {},
     "output_type": "display_data"
    }
   ],
   "source": [
    "model_file = \"untrained_lenet_model.keras\"\n",
    "lenet_model.save(model_file)\n",
    "\n",
    "with wandb.init(project=\"Malaria-Detection\", entity=\"albertalvin8080-academic\") as run:\n",
    "    artifact = wandb.Artifact(name=\"untrained_model\", type=\"lenet_model\", metadata=CONFIG)\n",
    "    artifact.add_file(model_file)\n",
    "    artifact.save()"
   ]
  },
  {
   "cell_type": "markdown",
   "metadata": {},
   "source": [
    "# trained_sequential_model"
   ]
  },
  {
   "cell_type": "code",
   "execution_count": 14,
   "metadata": {},
   "outputs": [
    {
     "data": {
      "text/html": [
       "Tracking run with wandb version 0.18.5"
      ],
      "text/plain": [
       "<IPython.core.display.HTML object>"
      ]
     },
     "metadata": {},
     "output_type": "display_data"
    },
    {
     "data": {
      "text/html": [
       "Run data is saved locally in <code>/mnt/c/Users/Albert/Documents/A_Programacao/_GITIGNORE/Learning-Python/tensorflow/04_lenet_model_malaria/wandb/run-20241102_214735-c7s9ayaw</code>"
      ],
      "text/plain": [
       "<IPython.core.display.HTML object>"
      ]
     },
     "metadata": {},
     "output_type": "display_data"
    },
    {
     "data": {
      "text/html": [
       "Syncing run <strong><a href='https://wandb.ai/albertalvin8080-academic/Malaria-Detection/runs/c7s9ayaw' target=\"_blank\">vibrant-waterfall-60</a></strong> to <a href='https://wandb.ai/albertalvin8080-academic/Malaria-Detection' target=\"_blank\">Weights & Biases</a> (<a href='https://wandb.me/run' target=\"_blank\">docs</a>)<br/>"
      ],
      "text/plain": [
       "<IPython.core.display.HTML object>"
      ]
     },
     "metadata": {},
     "output_type": "display_data"
    },
    {
     "data": {
      "text/html": [
       " View project at <a href='https://wandb.ai/albertalvin8080-academic/Malaria-Detection' target=\"_blank\">https://wandb.ai/albertalvin8080-academic/Malaria-Detection</a>"
      ],
      "text/plain": [
       "<IPython.core.display.HTML object>"
      ]
     },
     "metadata": {},
     "output_type": "display_data"
    },
    {
     "data": {
      "text/html": [
       " View run at <a href='https://wandb.ai/albertalvin8080-academic/Malaria-Detection/runs/c7s9ayaw' target=\"_blank\">https://wandb.ai/albertalvin8080-academic/Malaria-Detection/runs/c7s9ayaw</a>"
      ],
      "text/plain": [
       "<IPython.core.display.HTML object>"
      ]
     },
     "metadata": {},
     "output_type": "display_data"
    },
    {
     "name": "stderr",
     "output_type": "stream",
     "text": [
      "\u001b[34m\u001b[1mwandb\u001b[0m:   1 of 1 files downloaded.  \n",
      "\u001b[34m\u001b[1mwandb\u001b[0m: Downloading large artifact augmented_dataset:v0, 294.62MB. 960 files... \n",
      "\u001b[34m\u001b[1mwandb\u001b[0m:   960 of 960 files downloaded.  \n",
      "Done. 0:0:7.6\n"
     ]
    },
    {
     "data": {
      "text/html": [
       " View run <strong style=\"color:#cdcd00\">vibrant-waterfall-60</strong> at: <a href='https://wandb.ai/albertalvin8080-academic/Malaria-Detection/runs/c7s9ayaw' target=\"_blank\">https://wandb.ai/albertalvin8080-academic/Malaria-Detection/runs/c7s9ayaw</a><br/> View project at: <a href='https://wandb.ai/albertalvin8080-academic/Malaria-Detection' target=\"_blank\">https://wandb.ai/albertalvin8080-academic/Malaria-Detection</a><br/>Synced 5 W&B file(s), 0 media file(s), 0 artifact file(s) and 0 other file(s)"
      ],
      "text/plain": [
       "<IPython.core.display.HTML object>"
      ]
     },
     "metadata": {},
     "output_type": "display_data"
    },
    {
     "data": {
      "text/html": [
       "Find logs at: <code>./wandb/run-20241102_214735-c7s9ayaw/logs</code>"
      ],
      "text/plain": [
       "<IPython.core.display.HTML object>"
      ]
     },
     "metadata": {},
     "output_type": "display_data"
    }
   ],
   "source": [
    "with wandb.init(project=\"Malaria-Detection\", entity=\"albertalvin8080-academic\") as run:\n",
    "    untrained_model_artifact = run.use_artifact(\n",
    "        \"albertalvin8080-academic/Malaria-Detection/untrained_model:v0\",\n",
    "        type=\"lenet_model\",\n",
    "    )\n",
    "    untrained_model_artifact.download()\n",
    "\n",
    "    augmented_dataset_artifact = run.use_artifact(\n",
    "        \"albertalvin8080-academic/Malaria-Detection/augmented_dataset:v0\",\n",
    "        type=\"preprocessed_dataset\",\n",
    "    )\n",
    "    augmented_dataset_artifact.download()"
   ]
  },
  {
   "cell_type": "code",
   "execution_count": null,
   "metadata": {},
   "outputs": [
    {
     "data": {
      "text/html": [
       "Tracking run with wandb version 0.18.5"
      ],
      "text/plain": [
       "<IPython.core.display.HTML object>"
      ]
     },
     "metadata": {},
     "output_type": "display_data"
    },
    {
     "data": {
      "text/html": [
       "Run data is saved locally in <code>/mnt/c/Users/Albert/Documents/A_Programacao/_GITIGNORE/Learning-Python/tensorflow/04_lenet_model_malaria/wandb/run-20241102_215430-6vz7fzj2</code>"
      ],
      "text/plain": [
       "<IPython.core.display.HTML object>"
      ]
     },
     "metadata": {},
     "output_type": "display_data"
    },
    {
     "data": {
      "text/html": [
       "Syncing run <strong><a href='https://wandb.ai/albertalvin8080-academic/Malaria-Detection/runs/6vz7fzj2' target=\"_blank\">major-shadow-63</a></strong> to <a href='https://wandb.ai/albertalvin8080-academic/Malaria-Detection' target=\"_blank\">Weights & Biases</a> (<a href='https://wandb.me/run' target=\"_blank\">docs</a>)<br/>"
      ],
      "text/plain": [
       "<IPython.core.display.HTML object>"
      ]
     },
     "metadata": {},
     "output_type": "display_data"
    },
    {
     "data": {
      "text/html": [
       " View project at <a href='https://wandb.ai/albertalvin8080-academic/Malaria-Detection' target=\"_blank\">https://wandb.ai/albertalvin8080-academic/Malaria-Detection</a>"
      ],
      "text/plain": [
       "<IPython.core.display.HTML object>"
      ]
     },
     "metadata": {},
     "output_type": "display_data"
    },
    {
     "data": {
      "text/html": [
       " View run at <a href='https://wandb.ai/albertalvin8080-academic/Malaria-Detection/runs/6vz7fzj2' target=\"_blank\">https://wandb.ai/albertalvin8080-academic/Malaria-Detection/runs/6vz7fzj2</a>"
      ],
      "text/plain": [
       "<IPython.core.display.HTML object>"
      ]
     },
     "metadata": {},
     "output_type": "display_data"
    },
    {
     "name": "stdout",
     "output_type": "stream",
     "text": [
      "Epoch 1/3\n",
      "30/30 - 27s - 913ms/step - binary_accuracy: 0.5615 - loss: 18.1231\n",
      "Epoch 2/3\n",
      "30/30 - 15s - 503ms/step - binary_accuracy: 0.5906 - loss: 6.5527\n",
      "Epoch 3/3\n",
      "30/30 - 15s - 509ms/step - binary_accuracy: 0.6219 - loss: 2.8692\n"
     ]
    },
    {
     "data": {
      "application/vnd.jupyter.widget-view+json": {
       "model_id": "db57da0aa80a4b9798114cd9ffebb494",
       "version_major": 2,
       "version_minor": 0
      },
      "text/plain": [
       "VBox(children=(Label(value='0.146 MB of 17.186 MB uploaded\\r'), FloatProgress(value=0.008492986198585281, max=…"
      ]
     },
     "metadata": {},
     "output_type": "display_data"
    },
    {
     "data": {
      "text/html": [
       " View run <strong style=\"color:#cdcd00\">major-shadow-63</strong> at: <a href='https://wandb.ai/albertalvin8080-academic/Malaria-Detection/runs/6vz7fzj2' target=\"_blank\">https://wandb.ai/albertalvin8080-academic/Malaria-Detection/runs/6vz7fzj2</a><br/> View project at: <a href='https://wandb.ai/albertalvin8080-academic/Malaria-Detection' target=\"_blank\">https://wandb.ai/albertalvin8080-academic/Malaria-Detection</a><br/>Synced 5 W&B file(s), 0 media file(s), 2 artifact file(s) and 0 other file(s)"
      ],
      "text/plain": [
       "<IPython.core.display.HTML object>"
      ]
     },
     "metadata": {},
     "output_type": "display_data"
    },
    {
     "data": {
      "text/html": [
       "Find logs at: <code>./wandb/run-20241102_215430-6vz7fzj2/logs</code>"
      ],
      "text/plain": [
       "<IPython.core.display.HTML object>"
      ]
     },
     "metadata": {},
     "output_type": "display_data"
    }
   ],
   "source": [
    "# Reduces memory footprint.\n",
    "def npz_generator(file_paths):\n",
    "    for file_path in file_paths:\n",
    "        data = np.load(file_path, allow_pickle=True)\n",
    "        image = data[\"image\"]\n",
    "        label = data[\"label\"]\n",
    "        yield image, label\n",
    "\n",
    "\n",
    "with wandb.init(project=\"Malaria-Detection\", entity=\"albertalvin8080-academic\") as run:\n",
    "    untrained_model_artifact = run.use_artifact(\n",
    "        \"albertalvin8080-academic/Malaria-Detection/untrained_model:v0\",\n",
    "        type=\"lenet_model\",\n",
    "    )\n",
    "    augmented_dataset_artifact = run.use_artifact(\n",
    "        \"albertalvin8080-academic/Malaria-Detection/augmented_dataset:v0\",\n",
    "        type=\"preprocessed_dataset\",\n",
    "    )\n",
    "\n",
    "    uma_file = \"artifacts/untrained_model:v0/untrained_lenet_model.keras\"\n",
    "    augd_dir = \"artifacts/augmented_dataset:v0/\"\n",
    "    augd_files = [\n",
    "        os.path.join(augd_dir, file_name) for file_name in os.listdir(augd_dir)\n",
    "    ]\n",
    "\n",
    "    dataset = tf.data.Dataset.from_generator(\n",
    "        lambda: npz_generator(augd_files),\n",
    "        output_signature=(\n",
    "            tf.TensorSpec(shape=CONFIG[\"input_shape\"], dtype=tf.float32),\n",
    "            tf.TensorSpec(shape=(), dtype=tf.int64),\n",
    "        ),\n",
    "    )\n",
    "\n",
    "    \"\"\"\n",
    "    NOTE: Tensorflow expects the generator to yield a number of items which is\n",
    "    equal to the batch size. If it doesn't happen, the training reaches a halt.\n",
    "    To resolve this issue, you can make the generator yield the same number of items\n",
    "    as the batch size, or you can use .repeat() in the dataset and manually calculate\n",
    "    the steps_per_epoch and pass it to the .fit() method.\n",
    "    \"\"\"\n",
    "    dataset = (\n",
    "        dataset.shuffle(buffer_size=8, reshuffle_each_iteration=True)\n",
    "        .batch(CONFIG[\"batch_size\"])\n",
    "        .repeat()  # Repeat the dataset indefinitely.\n",
    "        .prefetch(tf.data.AUTOTUNE)\n",
    "    )\n",
    "    # Calculate steps_per_epoch based on the dataset size and batch size\n",
    "    steps_per_epoch = len(augd_files) // CONFIG[\"batch_size\"]\n",
    "\n",
    "    model = tf.keras.models.load_model(uma_file)\n",
    "    model.compile(\n",
    "        optimizer=Adam(learning_rate=CONFIG[\"learning_rate\"]),\n",
    "        loss=CONFIG[\"loss\"],\n",
    "        metrics=CONFIG[\"metrics\"],\n",
    "    )\n",
    "\n",
    "    history = model.fit(\n",
    "        dataset, epochs=CONFIG[\"epochs\"], steps_per_epoch=steps_per_epoch, verbose=2\n",
    "    )\n",
    "\n",
    "    model_file = \"trained_lenet_model.keras\"\n",
    "    model.save(model_file)\n",
    "\n",
    "    artifact = wandb.Artifact(name=\"trained_sequential_model\", type=\"lenet_model\")\n",
    "    artifact.add_file(model_file)\n",
    "    artifact.save()\n",
    "    # run.log_artifact(artifact)"
   ]
  }
 ],
 "metadata": {
  "kernelspec": {
   "display_name": "Python 3",
   "language": "python",
   "name": "python3"
  },
  "language_info": {
   "codemirror_mode": {
    "name": "ipython",
    "version": 3
   },
   "file_extension": ".py",
   "mimetype": "text/x-python",
   "name": "python",
   "nbconvert_exporter": "python",
   "pygments_lexer": "ipython3",
   "version": "3.10.12"
  }
 },
 "nbformat": 4,
 "nbformat_minor": 2
}
