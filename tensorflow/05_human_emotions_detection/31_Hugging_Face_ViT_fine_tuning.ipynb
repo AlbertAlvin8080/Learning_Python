{
  "nbformat": 4,
  "nbformat_minor": 0,
  "metadata": {
    "colab": {
      "provenance": [],
      "collapsed_sections": [
        "epeNJj7sXFAM",
        "fgKZDMa7W5Y4",
        "yI17GZRHXI3J",
        "BHmLGvGtXBJZ",
        "9tarzhxXD58T",
        "aJiFbdf2oONC",
        "vaxeEqzjJ4eo",
        "yyxuIxRhevtq"
      ]
    },
    "kernelspec": {
      "name": "python3",
      "display_name": "Python 3"
    },
    "language_info": {
      "name": "python"
    },
    "widgets": {
      "application/vnd.jupyter.widget-state+json": {
        "be94a2b737ea48d2a1cf09e3f4b51cb8": {
          "model_module": "@jupyter-widgets/controls",
          "model_name": "HBoxModel",
          "model_module_version": "1.5.0",
          "state": {
            "_dom_classes": [],
            "_model_module": "@jupyter-widgets/controls",
            "_model_module_version": "1.5.0",
            "_model_name": "HBoxModel",
            "_view_count": null,
            "_view_module": "@jupyter-widgets/controls",
            "_view_module_version": "1.5.0",
            "_view_name": "HBoxView",
            "box_style": "",
            "children": [
              "IPY_MODEL_15469cbe7ea441f68e7317f78d1200c1",
              "IPY_MODEL_0a772f71a4bd4cadb2238d51a12c6006",
              "IPY_MODEL_ee3ba8837a37438da5a3a76583988616"
            ],
            "layout": "IPY_MODEL_023518f09f574e528744f45e9d3de076"
          }
        },
        "15469cbe7ea441f68e7317f78d1200c1": {
          "model_module": "@jupyter-widgets/controls",
          "model_name": "HTMLModel",
          "model_module_version": "1.5.0",
          "state": {
            "_dom_classes": [],
            "_model_module": "@jupyter-widgets/controls",
            "_model_module_version": "1.5.0",
            "_model_name": "HTMLModel",
            "_view_count": null,
            "_view_module": "@jupyter-widgets/controls",
            "_view_module_version": "1.5.0",
            "_view_name": "HTMLView",
            "description": "",
            "description_tooltip": null,
            "layout": "IPY_MODEL_885e9962c20f4060a35e048d9b11947b",
            "placeholder": "​",
            "style": "IPY_MODEL_8e10204642fc4ddeaeed3c59a5b387dc",
            "value": "config.json: 100%"
          }
        },
        "0a772f71a4bd4cadb2238d51a12c6006": {
          "model_module": "@jupyter-widgets/controls",
          "model_name": "FloatProgressModel",
          "model_module_version": "1.5.0",
          "state": {
            "_dom_classes": [],
            "_model_module": "@jupyter-widgets/controls",
            "_model_module_version": "1.5.0",
            "_model_name": "FloatProgressModel",
            "_view_count": null,
            "_view_module": "@jupyter-widgets/controls",
            "_view_module_version": "1.5.0",
            "_view_name": "ProgressView",
            "bar_style": "success",
            "description": "",
            "description_tooltip": null,
            "layout": "IPY_MODEL_0e1514e5470348eea887ef04c1e1f520",
            "max": 502,
            "min": 0,
            "orientation": "horizontal",
            "style": "IPY_MODEL_0cd64f6181874129aaa20dd228a94458",
            "value": 502
          }
        },
        "ee3ba8837a37438da5a3a76583988616": {
          "model_module": "@jupyter-widgets/controls",
          "model_name": "HTMLModel",
          "model_module_version": "1.5.0",
          "state": {
            "_dom_classes": [],
            "_model_module": "@jupyter-widgets/controls",
            "_model_module_version": "1.5.0",
            "_model_name": "HTMLModel",
            "_view_count": null,
            "_view_module": "@jupyter-widgets/controls",
            "_view_module_version": "1.5.0",
            "_view_name": "HTMLView",
            "description": "",
            "description_tooltip": null,
            "layout": "IPY_MODEL_e8b300d81d104729973c07821a95bddb",
            "placeholder": "​",
            "style": "IPY_MODEL_efdf43798a6d49c788388d319ed9dc5e",
            "value": " 502/502 [00:00&lt;00:00, 20.7kB/s]"
          }
        },
        "023518f09f574e528744f45e9d3de076": {
          "model_module": "@jupyter-widgets/base",
          "model_name": "LayoutModel",
          "model_module_version": "1.2.0",
          "state": {
            "_model_module": "@jupyter-widgets/base",
            "_model_module_version": "1.2.0",
            "_model_name": "LayoutModel",
            "_view_count": null,
            "_view_module": "@jupyter-widgets/base",
            "_view_module_version": "1.2.0",
            "_view_name": "LayoutView",
            "align_content": null,
            "align_items": null,
            "align_self": null,
            "border": null,
            "bottom": null,
            "display": null,
            "flex": null,
            "flex_flow": null,
            "grid_area": null,
            "grid_auto_columns": null,
            "grid_auto_flow": null,
            "grid_auto_rows": null,
            "grid_column": null,
            "grid_gap": null,
            "grid_row": null,
            "grid_template_areas": null,
            "grid_template_columns": null,
            "grid_template_rows": null,
            "height": null,
            "justify_content": null,
            "justify_items": null,
            "left": null,
            "margin": null,
            "max_height": null,
            "max_width": null,
            "min_height": null,
            "min_width": null,
            "object_fit": null,
            "object_position": null,
            "order": null,
            "overflow": null,
            "overflow_x": null,
            "overflow_y": null,
            "padding": null,
            "right": null,
            "top": null,
            "visibility": null,
            "width": null
          }
        },
        "885e9962c20f4060a35e048d9b11947b": {
          "model_module": "@jupyter-widgets/base",
          "model_name": "LayoutModel",
          "model_module_version": "1.2.0",
          "state": {
            "_model_module": "@jupyter-widgets/base",
            "_model_module_version": "1.2.0",
            "_model_name": "LayoutModel",
            "_view_count": null,
            "_view_module": "@jupyter-widgets/base",
            "_view_module_version": "1.2.0",
            "_view_name": "LayoutView",
            "align_content": null,
            "align_items": null,
            "align_self": null,
            "border": null,
            "bottom": null,
            "display": null,
            "flex": null,
            "flex_flow": null,
            "grid_area": null,
            "grid_auto_columns": null,
            "grid_auto_flow": null,
            "grid_auto_rows": null,
            "grid_column": null,
            "grid_gap": null,
            "grid_row": null,
            "grid_template_areas": null,
            "grid_template_columns": null,
            "grid_template_rows": null,
            "height": null,
            "justify_content": null,
            "justify_items": null,
            "left": null,
            "margin": null,
            "max_height": null,
            "max_width": null,
            "min_height": null,
            "min_width": null,
            "object_fit": null,
            "object_position": null,
            "order": null,
            "overflow": null,
            "overflow_x": null,
            "overflow_y": null,
            "padding": null,
            "right": null,
            "top": null,
            "visibility": null,
            "width": null
          }
        },
        "8e10204642fc4ddeaeed3c59a5b387dc": {
          "model_module": "@jupyter-widgets/controls",
          "model_name": "DescriptionStyleModel",
          "model_module_version": "1.5.0",
          "state": {
            "_model_module": "@jupyter-widgets/controls",
            "_model_module_version": "1.5.0",
            "_model_name": "DescriptionStyleModel",
            "_view_count": null,
            "_view_module": "@jupyter-widgets/base",
            "_view_module_version": "1.2.0",
            "_view_name": "StyleView",
            "description_width": ""
          }
        },
        "0e1514e5470348eea887ef04c1e1f520": {
          "model_module": "@jupyter-widgets/base",
          "model_name": "LayoutModel",
          "model_module_version": "1.2.0",
          "state": {
            "_model_module": "@jupyter-widgets/base",
            "_model_module_version": "1.2.0",
            "_model_name": "LayoutModel",
            "_view_count": null,
            "_view_module": "@jupyter-widgets/base",
            "_view_module_version": "1.2.0",
            "_view_name": "LayoutView",
            "align_content": null,
            "align_items": null,
            "align_self": null,
            "border": null,
            "bottom": null,
            "display": null,
            "flex": null,
            "flex_flow": null,
            "grid_area": null,
            "grid_auto_columns": null,
            "grid_auto_flow": null,
            "grid_auto_rows": null,
            "grid_column": null,
            "grid_gap": null,
            "grid_row": null,
            "grid_template_areas": null,
            "grid_template_columns": null,
            "grid_template_rows": null,
            "height": null,
            "justify_content": null,
            "justify_items": null,
            "left": null,
            "margin": null,
            "max_height": null,
            "max_width": null,
            "min_height": null,
            "min_width": null,
            "object_fit": null,
            "object_position": null,
            "order": null,
            "overflow": null,
            "overflow_x": null,
            "overflow_y": null,
            "padding": null,
            "right": null,
            "top": null,
            "visibility": null,
            "width": null
          }
        },
        "0cd64f6181874129aaa20dd228a94458": {
          "model_module": "@jupyter-widgets/controls",
          "model_name": "ProgressStyleModel",
          "model_module_version": "1.5.0",
          "state": {
            "_model_module": "@jupyter-widgets/controls",
            "_model_module_version": "1.5.0",
            "_model_name": "ProgressStyleModel",
            "_view_count": null,
            "_view_module": "@jupyter-widgets/base",
            "_view_module_version": "1.2.0",
            "_view_name": "StyleView",
            "bar_color": null,
            "description_width": ""
          }
        },
        "e8b300d81d104729973c07821a95bddb": {
          "model_module": "@jupyter-widgets/base",
          "model_name": "LayoutModel",
          "model_module_version": "1.2.0",
          "state": {
            "_model_module": "@jupyter-widgets/base",
            "_model_module_version": "1.2.0",
            "_model_name": "LayoutModel",
            "_view_count": null,
            "_view_module": "@jupyter-widgets/base",
            "_view_module_version": "1.2.0",
            "_view_name": "LayoutView",
            "align_content": null,
            "align_items": null,
            "align_self": null,
            "border": null,
            "bottom": null,
            "display": null,
            "flex": null,
            "flex_flow": null,
            "grid_area": null,
            "grid_auto_columns": null,
            "grid_auto_flow": null,
            "grid_auto_rows": null,
            "grid_column": null,
            "grid_gap": null,
            "grid_row": null,
            "grid_template_areas": null,
            "grid_template_columns": null,
            "grid_template_rows": null,
            "height": null,
            "justify_content": null,
            "justify_items": null,
            "left": null,
            "margin": null,
            "max_height": null,
            "max_width": null,
            "min_height": null,
            "min_width": null,
            "object_fit": null,
            "object_position": null,
            "order": null,
            "overflow": null,
            "overflow_x": null,
            "overflow_y": null,
            "padding": null,
            "right": null,
            "top": null,
            "visibility": null,
            "width": null
          }
        },
        "efdf43798a6d49c788388d319ed9dc5e": {
          "model_module": "@jupyter-widgets/controls",
          "model_name": "DescriptionStyleModel",
          "model_module_version": "1.5.0",
          "state": {
            "_model_module": "@jupyter-widgets/controls",
            "_model_module_version": "1.5.0",
            "_model_name": "DescriptionStyleModel",
            "_view_count": null,
            "_view_module": "@jupyter-widgets/base",
            "_view_module_version": "1.2.0",
            "_view_name": "StyleView",
            "description_width": ""
          }
        },
        "d54fcdb275f94d9f97371deae4638e25": {
          "model_module": "@jupyter-widgets/controls",
          "model_name": "HBoxModel",
          "model_module_version": "1.5.0",
          "state": {
            "_dom_classes": [],
            "_model_module": "@jupyter-widgets/controls",
            "_model_module_version": "1.5.0",
            "_model_name": "HBoxModel",
            "_view_count": null,
            "_view_module": "@jupyter-widgets/controls",
            "_view_module_version": "1.5.0",
            "_view_name": "HBoxView",
            "box_style": "",
            "children": [
              "IPY_MODEL_7d3747db2c0244e0928fe35b7bad3abc",
              "IPY_MODEL_89fdae128fd34046ba78528981200d5d",
              "IPY_MODEL_a29937ba85fa47bc9e3e556f7d53bdfb"
            ],
            "layout": "IPY_MODEL_be99e128d728420690d79a122401ef9c"
          }
        },
        "7d3747db2c0244e0928fe35b7bad3abc": {
          "model_module": "@jupyter-widgets/controls",
          "model_name": "HTMLModel",
          "model_module_version": "1.5.0",
          "state": {
            "_dom_classes": [],
            "_model_module": "@jupyter-widgets/controls",
            "_model_module_version": "1.5.0",
            "_model_name": "HTMLModel",
            "_view_count": null,
            "_view_module": "@jupyter-widgets/controls",
            "_view_module_version": "1.5.0",
            "_view_name": "HTMLView",
            "description": "",
            "description_tooltip": null,
            "layout": "IPY_MODEL_4636fcb617674a69864244756fa0fd40",
            "placeholder": "​",
            "style": "IPY_MODEL_8f4534e7b0ce46898a86be183f3b5ccf",
            "value": "model.safetensors: 100%"
          }
        },
        "89fdae128fd34046ba78528981200d5d": {
          "model_module": "@jupyter-widgets/controls",
          "model_name": "FloatProgressModel",
          "model_module_version": "1.5.0",
          "state": {
            "_dom_classes": [],
            "_model_module": "@jupyter-widgets/controls",
            "_model_module_version": "1.5.0",
            "_model_name": "FloatProgressModel",
            "_view_count": null,
            "_view_module": "@jupyter-widgets/controls",
            "_view_module_version": "1.5.0",
            "_view_name": "ProgressView",
            "bar_style": "success",
            "description": "",
            "description_tooltip": null,
            "layout": "IPY_MODEL_9827052746cb444d9cdd8925f1043bf5",
            "max": 345579424,
            "min": 0,
            "orientation": "horizontal",
            "style": "IPY_MODEL_b1253d13ac284671b4a6f6ff8c7854c1",
            "value": 345579424
          }
        },
        "a29937ba85fa47bc9e3e556f7d53bdfb": {
          "model_module": "@jupyter-widgets/controls",
          "model_name": "HTMLModel",
          "model_module_version": "1.5.0",
          "state": {
            "_dom_classes": [],
            "_model_module": "@jupyter-widgets/controls",
            "_model_module_version": "1.5.0",
            "_model_name": "HTMLModel",
            "_view_count": null,
            "_view_module": "@jupyter-widgets/controls",
            "_view_module_version": "1.5.0",
            "_view_name": "HTMLView",
            "description": "",
            "description_tooltip": null,
            "layout": "IPY_MODEL_52ff50e9a4284acc81cfcbd598fd5dff",
            "placeholder": "​",
            "style": "IPY_MODEL_47f9ab19beb74c09a963ac6d822744fd",
            "value": " 346M/346M [00:02&lt;00:00, 181MB/s]"
          }
        },
        "be99e128d728420690d79a122401ef9c": {
          "model_module": "@jupyter-widgets/base",
          "model_name": "LayoutModel",
          "model_module_version": "1.2.0",
          "state": {
            "_model_module": "@jupyter-widgets/base",
            "_model_module_version": "1.2.0",
            "_model_name": "LayoutModel",
            "_view_count": null,
            "_view_module": "@jupyter-widgets/base",
            "_view_module_version": "1.2.0",
            "_view_name": "LayoutView",
            "align_content": null,
            "align_items": null,
            "align_self": null,
            "border": null,
            "bottom": null,
            "display": null,
            "flex": null,
            "flex_flow": null,
            "grid_area": null,
            "grid_auto_columns": null,
            "grid_auto_flow": null,
            "grid_auto_rows": null,
            "grid_column": null,
            "grid_gap": null,
            "grid_row": null,
            "grid_template_areas": null,
            "grid_template_columns": null,
            "grid_template_rows": null,
            "height": null,
            "justify_content": null,
            "justify_items": null,
            "left": null,
            "margin": null,
            "max_height": null,
            "max_width": null,
            "min_height": null,
            "min_width": null,
            "object_fit": null,
            "object_position": null,
            "order": null,
            "overflow": null,
            "overflow_x": null,
            "overflow_y": null,
            "padding": null,
            "right": null,
            "top": null,
            "visibility": null,
            "width": null
          }
        },
        "4636fcb617674a69864244756fa0fd40": {
          "model_module": "@jupyter-widgets/base",
          "model_name": "LayoutModel",
          "model_module_version": "1.2.0",
          "state": {
            "_model_module": "@jupyter-widgets/base",
            "_model_module_version": "1.2.0",
            "_model_name": "LayoutModel",
            "_view_count": null,
            "_view_module": "@jupyter-widgets/base",
            "_view_module_version": "1.2.0",
            "_view_name": "LayoutView",
            "align_content": null,
            "align_items": null,
            "align_self": null,
            "border": null,
            "bottom": null,
            "display": null,
            "flex": null,
            "flex_flow": null,
            "grid_area": null,
            "grid_auto_columns": null,
            "grid_auto_flow": null,
            "grid_auto_rows": null,
            "grid_column": null,
            "grid_gap": null,
            "grid_row": null,
            "grid_template_areas": null,
            "grid_template_columns": null,
            "grid_template_rows": null,
            "height": null,
            "justify_content": null,
            "justify_items": null,
            "left": null,
            "margin": null,
            "max_height": null,
            "max_width": null,
            "min_height": null,
            "min_width": null,
            "object_fit": null,
            "object_position": null,
            "order": null,
            "overflow": null,
            "overflow_x": null,
            "overflow_y": null,
            "padding": null,
            "right": null,
            "top": null,
            "visibility": null,
            "width": null
          }
        },
        "8f4534e7b0ce46898a86be183f3b5ccf": {
          "model_module": "@jupyter-widgets/controls",
          "model_name": "DescriptionStyleModel",
          "model_module_version": "1.5.0",
          "state": {
            "_model_module": "@jupyter-widgets/controls",
            "_model_module_version": "1.5.0",
            "_model_name": "DescriptionStyleModel",
            "_view_count": null,
            "_view_module": "@jupyter-widgets/base",
            "_view_module_version": "1.2.0",
            "_view_name": "StyleView",
            "description_width": ""
          }
        },
        "9827052746cb444d9cdd8925f1043bf5": {
          "model_module": "@jupyter-widgets/base",
          "model_name": "LayoutModel",
          "model_module_version": "1.2.0",
          "state": {
            "_model_module": "@jupyter-widgets/base",
            "_model_module_version": "1.2.0",
            "_model_name": "LayoutModel",
            "_view_count": null,
            "_view_module": "@jupyter-widgets/base",
            "_view_module_version": "1.2.0",
            "_view_name": "LayoutView",
            "align_content": null,
            "align_items": null,
            "align_self": null,
            "border": null,
            "bottom": null,
            "display": null,
            "flex": null,
            "flex_flow": null,
            "grid_area": null,
            "grid_auto_columns": null,
            "grid_auto_flow": null,
            "grid_auto_rows": null,
            "grid_column": null,
            "grid_gap": null,
            "grid_row": null,
            "grid_template_areas": null,
            "grid_template_columns": null,
            "grid_template_rows": null,
            "height": null,
            "justify_content": null,
            "justify_items": null,
            "left": null,
            "margin": null,
            "max_height": null,
            "max_width": null,
            "min_height": null,
            "min_width": null,
            "object_fit": null,
            "object_position": null,
            "order": null,
            "overflow": null,
            "overflow_x": null,
            "overflow_y": null,
            "padding": null,
            "right": null,
            "top": null,
            "visibility": null,
            "width": null
          }
        },
        "b1253d13ac284671b4a6f6ff8c7854c1": {
          "model_module": "@jupyter-widgets/controls",
          "model_name": "ProgressStyleModel",
          "model_module_version": "1.5.0",
          "state": {
            "_model_module": "@jupyter-widgets/controls",
            "_model_module_version": "1.5.0",
            "_model_name": "ProgressStyleModel",
            "_view_count": null,
            "_view_module": "@jupyter-widgets/base",
            "_view_module_version": "1.2.0",
            "_view_name": "StyleView",
            "bar_color": null,
            "description_width": ""
          }
        },
        "52ff50e9a4284acc81cfcbd598fd5dff": {
          "model_module": "@jupyter-widgets/base",
          "model_name": "LayoutModel",
          "model_module_version": "1.2.0",
          "state": {
            "_model_module": "@jupyter-widgets/base",
            "_model_module_version": "1.2.0",
            "_model_name": "LayoutModel",
            "_view_count": null,
            "_view_module": "@jupyter-widgets/base",
            "_view_module_version": "1.2.0",
            "_view_name": "LayoutView",
            "align_content": null,
            "align_items": null,
            "align_self": null,
            "border": null,
            "bottom": null,
            "display": null,
            "flex": null,
            "flex_flow": null,
            "grid_area": null,
            "grid_auto_columns": null,
            "grid_auto_flow": null,
            "grid_auto_rows": null,
            "grid_column": null,
            "grid_gap": null,
            "grid_row": null,
            "grid_template_areas": null,
            "grid_template_columns": null,
            "grid_template_rows": null,
            "height": null,
            "justify_content": null,
            "justify_items": null,
            "left": null,
            "margin": null,
            "max_height": null,
            "max_width": null,
            "min_height": null,
            "min_width": null,
            "object_fit": null,
            "object_position": null,
            "order": null,
            "overflow": null,
            "overflow_x": null,
            "overflow_y": null,
            "padding": null,
            "right": null,
            "top": null,
            "visibility": null,
            "width": null
          }
        },
        "47f9ab19beb74c09a963ac6d822744fd": {
          "model_module": "@jupyter-widgets/controls",
          "model_name": "DescriptionStyleModel",
          "model_module_version": "1.5.0",
          "state": {
            "_model_module": "@jupyter-widgets/controls",
            "_model_module_version": "1.5.0",
            "_model_name": "DescriptionStyleModel",
            "_view_count": null,
            "_view_module": "@jupyter-widgets/base",
            "_view_module_version": "1.2.0",
            "_view_name": "StyleView",
            "description_width": ""
          }
        }
      }
    }
  },
  "cells": [
    {
      "cell_type": "code",
      "execution_count": null,
      "metadata": {
        "colab": {
          "base_uri": "https://localhost:8080/"
        },
        "id": "uNQxFY7kLEdA",
        "outputId": "ad821dca-276e-4f95-ebff-db0bbe35aaf8"
      },
      "outputs": [
        {
          "output_type": "stream",
          "name": "stderr",
          "text": [
            "/usr/local/lib/python3.10/dist-packages/albumentations/__init__.py:24: UserWarning: A new version of Albumentations is available: 1.4.21 (you have 1.4.20). Upgrade using: pip install -U albumentations. To disable automatic update checks, set the environment variable NO_ALBUMENTATIONS_UPDATE to 1.\n",
            "  check_for_updates()\n"
          ]
        }
      ],
      "source": [
        "import cv2 as cv\n",
        "import albumentations as A\n",
        "import os\n",
        "import sys\n",
        "import datetime\n",
        "import io\n",
        "\n",
        "import tensorflow as tf\n",
        "import tensorflow_datasets as tfds\n",
        "from tensorflow.keras.layers import (\n",
        "    Conv2D,\n",
        "    MaxPool2D,\n",
        "    Dense,\n",
        "    Flatten,\n",
        "    Input,\n",
        "    BatchNormalization,\n",
        "    Layer,\n",
        "    InputLayer,\n",
        "    Dropout,\n",
        "    Resizing,\n",
        "    Rescaling,\n",
        "    RandomFlip,\n",
        "    RandomRotation,\n",
        "    GlobalAveragePooling2D,\n",
        "    Add,\n",
        "    MultiHeadAttention,\n",
        "    Embedding,\n",
        "    LayerNormalization,\n",
        "    Permute,\n",
        ")\n",
        "from tensorflow.keras.losses import (\n",
        "    BinaryCrossentropy,\n",
        "    CategoricalCrossentropy,\n",
        "    SparseCategoricalCrossentropy,\n",
        ")\n",
        "from tensorflow.keras.optimizers import Adam\n",
        "from tensorflow.keras.models import Model\n",
        "from tensorflow.keras.metrics import (\n",
        "    CategoricalAccuracy,\n",
        "    TopKCategoricalAccuracy,\n",
        ")\n",
        "from tensorflow.keras.callbacks import (\n",
        "    Callback,\n",
        "    CSVLogger,\n",
        "    EarlyStopping,\n",
        "    LearningRateScheduler,\n",
        "    ModelCheckpoint,\n",
        "    ReduceLROnPlateau,\n",
        ")\n",
        "from tensorflow.keras.regularizers import L2, L1\n",
        "import tensorflow_probability as tfp\n",
        "from tensorboard.plugins.hparams import api as hp\n",
        "\n",
        "import math\n",
        "import numpy as np\n",
        "import matplotlib.pyplot as plt\n",
        "import seaborn as sns\n",
        "import sklearn\n",
        "from sklearn.metrics import confusion_matrix, roc_curve\n",
        "\n",
        "CLASS_NAMES = [\"angry\", \"happy\", \"sad\"]  # This needs to be in accord with dir names.\n",
        "\n",
        "CONFIG = {\n",
        "    \"batch_size\": 32,\n",
        "    \"im_shape\": (256, 256),\n",
        "    \"im_size\": 256,\n",
        "    \"input_shape\": (None, None, 3),\n",
        "    \"filters_1\": 6,\n",
        "    \"filters_2\": 16,\n",
        "    \"kernel_size\": 3,\n",
        "    \"activation_1\": \"relu\",\n",
        "    \"activation_2\": \"softmax\",\n",
        "    \"dropout\": 0.01,\n",
        "    # \"dropout\": 0.00,\n",
        "    \"regularization_l2\": 0.1,\n",
        "    # \"regularization_l2\": 0.0,\n",
        "    \"optimizer\": \"adam\",\n",
        "    \"loss\": \"binary_crossentropy\",\n",
        "    \"pool_size\": 2,\n",
        "    \"strides_1\": 1,\n",
        "    \"strides_2\": 2,\n",
        "    \"dense_1\": 32,\n",
        "    \"dense_2\": 32,\n",
        "    \"dense_3\": 32,\n",
        "    \"dense_out\": 3,\n",
        "    \"learning_rate\": 0.001,\n",
        "    \"batch_size\": 32,\n",
        "    \"epochs\": 25,\n",
        "    \"patch_size\":16,\n",
        "    \"class_names\":CLASS_NAMES,\n",
        "    \"class_size\":len(CLASS_NAMES),\n",
        "}"
      ]
    },
    {
      "cell_type": "code",
      "source": [
        "from google.colab import drive\n",
        "drive.mount('/content/drive')\n",
        "TRAIN_DIR = \"/content/drive/MyDrive/tfds_data/datasets/Emotions Dataset/Emotions Dataset/train\"\n",
        "TEST_DIR = \"/content/drive/MyDrive/tfds_data/datasets/Emotions Dataset/Emotions Dataset/test\"\n",
        "\n",
        "# TRAIN_DIR = \"./datasets/Emotions Dataset/Emotions Dataset/train\"\n",
        "# TEST_DIR = \"./datasets/Emotions Dataset/Emotions Dataset/test\"\n",
        "\n",
        "train_dataset = tf.keras.utils.image_dataset_from_directory(\n",
        "    TRAIN_DIR,\n",
        "    labels=\"inferred\",\n",
        "    # NOTE: int -> [0,1,2]; categorical -> (1,0,0) | (0,1,0) | (0,0,1)\n",
        "    label_mode=\"categorical\",\n",
        "    class_names=CLASS_NAMES,\n",
        "    color_mode=\"rgb\",\n",
        "    batch_size=CONFIG[\"batch_size\"],\n",
        "    # batch_size=None,\n",
        "    image_size=CONFIG[\"im_shape\"],\n",
        "    shuffle=True,\n",
        "    seed=10,\n",
        ").prefetch(tf.data.AUTOTUNE)\n",
        "\n",
        "test_dataset = tf.keras.utils.image_dataset_from_directory(\n",
        "    TEST_DIR,\n",
        "    labels=\"inferred\",\n",
        "    # NOTE: int -> 0 | 1 | 2; categorical -> (1,0,0) | (0,1,0) | (0,0,1)\n",
        "    label_mode=\"categorical\",\n",
        "    class_names=CLASS_NAMES,\n",
        "    color_mode=\"rgb\",\n",
        "    batch_size=CONFIG[\"batch_size\"],\n",
        "    # batch_size=None,\n",
        "    image_size=CONFIG[\"im_shape\"],\n",
        "    shuffle=True,\n",
        "    seed=10,\n",
        ")"
      ],
      "metadata": {
        "colab": {
          "base_uri": "https://localhost:8080/"
        },
        "id": "qFZz2k8u7ASo",
        "outputId": "ff73f0dc-ca8d-4d8d-f850-5022379cb121"
      },
      "execution_count": null,
      "outputs": [
        {
          "output_type": "stream",
          "name": "stdout",
          "text": [
            "Mounted at /content/drive\n",
            "Found 4680 files belonging to 3 classes.\n",
            "Found 2278 files belonging to 3 classes.\n"
          ]
        }
      ]
    },
    {
      "cell_type": "code",
      "source": [
        "# !pip install transformers"
      ],
      "metadata": {
        "id": "zDpgI3OLRHmC"
      },
      "execution_count": null,
      "outputs": []
    },
    {
      "cell_type": "markdown",
      "source": [
        "## Integrating TFViTModel V1 (Deprecated)"
      ],
      "metadata": {
        "id": "epeNJj7sXFAM"
      }
    },
    {
      "cell_type": "code",
      "source": [
        "# Original Way (not working)\n",
        "from transformers import TFViTModel, ViTConfig\n",
        "\n",
        "base_model = TFViTModel.from_pretrained(\"google/vit-base-patch16-224-in21k\")\n",
        "\n",
        "resize_rescale_permute = tf.keras.Sequential([\n",
        "    Resizing(224, 224),\n",
        "    Rescaling(1/255.),\n",
        "    # from (None, 224, 224, 3) to (None, 3, 224, 224)\n",
        "    Permute((3, 1, 2)),\n",
        "])\n",
        "\n",
        "inputs = tf.keras.Input(shape=(256, 256, 3))\n",
        "x = resize_rescale_permute(inputs)\n",
        "\"\"\"\n",
        "Data of type <class 'keras.src.backend.common.keras_tensor.KerasTensor'> is not\n",
        "allowed only (<class 'tensorflow.python.framework.tensor.Tensor'>, <class 'bool'>,\n",
        "<class 'int'>, <class 'transformers.utils.generic.ModelOutput'>, <class 'tuple'>,\n",
        "<class 'list'>, <class 'dict'>, <class 'numpy.ndarray'>) is accepted for pixel_values.\n",
        "\"\"\"\n",
        "# x = base_model(x)\n",
        "x = base_model.vit()(x)\n",
        "\n",
        "x = Dense(len(CLASS_NAMES), activation=\"softmax\")(x)\n",
        "\n",
        "# Hugging Face\n",
        "hf_model = Model(inputs=inputs, outputs=x)\n",
        "\n",
        "hf_model.summary()"
      ],
      "metadata": {
        "id": "ldWJerdZBbB5"
      },
      "execution_count": null,
      "outputs": []
    },
    {
      "cell_type": "markdown",
      "source": [
        "## Integrating TFViTModel V2 (layers.Lambda)"
      ],
      "metadata": {
        "id": "fgKZDMa7W5Y4"
      }
    },
    {
      "cell_type": "code",
      "source": [
        "# Also Works\n",
        "from transformers import TFViTModel\n",
        "\n",
        "base_model = TFViTModel.from_pretrained(\"google/vit-base-patch16-224-in21k\")\n",
        "\n",
        "resize_rescale_permute = tf.keras.Sequential([\n",
        "    Resizing(224, 224),\n",
        "    Rescaling(1/255.),\n",
        "    # from (None, 224, 224, 3) to (None, 3, 224, 224)\n",
        "    Permute((3, 1, 2)),\n",
        "])\n",
        "\n",
        "inputs = tf.keras.Input(shape=(256, 256, 3))\n",
        "\n",
        "# Hugging Face\n",
        "hf_model = tf.keras.Sequential([\n",
        "    inputs,\n",
        "    resize_rescale_permute,\n",
        "    # [0][:,0,:]\n",
        "    # -> [0] >> Takes the last_hidden_states tensor of shape (1, 197, 768)\n",
        "    # -> [:,0,:] >> Takes only the class embedding/final class token\n",
        "    #    (the summary of all embeddings in the transformer archtecture).\n",
        "    tf.keras.layers.Lambda(lambda x: base_model(x)[0][:,0,:]),\n",
        "    Dense(len(CLASS_NAMES), activation=\"softmax\"),\n",
        "])\n",
        "\n",
        "hf_model.summary()"
      ],
      "metadata": {
        "id": "E4yO2e1n59Qb"
      },
      "execution_count": null,
      "outputs": []
    },
    {
      "cell_type": "markdown",
      "source": [
        "## Integrating TFViTModel V3 (Wrapper)"
      ],
      "metadata": {
        "id": "yI17GZRHXI3J"
      }
    },
    {
      "cell_type": "code",
      "source": [
        "from transformers import TFViTModel, ViTConfig\n",
        "\n",
        "base_model = TFViTModel.from_pretrained(\"google/vit-base-patch16-224-in21k\")\n",
        "\n",
        "resize_rescale_permute = tf.keras.Sequential([\n",
        "    Resizing(224, 224),\n",
        "    Rescaling(1/255.),\n",
        "    # from (None, 224, 224, 3) to (None, 3, 224, 224)\n",
        "    Permute((3, 1, 2)),\n",
        "])\n",
        "\n",
        "inputs = tf.keras.Input(shape=(256, 256, 3))\n",
        "x = resize_rescale_permute(inputs)\n",
        "# x = tf.convert_to_tensor(x) # Not allowed.\n",
        "# x = base_model.vit(x)\n",
        "# NOTE: This below Works, but it's more limited than the Wrapper approach.\n",
        "# x = tf.keras.layers.Lambda(lambda param: base_model(param)[0][:,0,:])(x)\n",
        "\n",
        "\"\"\"\n",
        "This wrapper is necessary because\n",
        "<class 'keras.src.backend.common.keras_tensor.KerasTensor'> is not allowed\n",
        "inside base_model of type <class 'transformers.modeling_tf_vit.TFViTModel'>.\n",
        "\"\"\"\n",
        "class Wrapper(Layer):\n",
        "  def __init__(self, base_model):\n",
        "    super().__init__(name=\"wrapper\")\n",
        "    self.base_model = base_model\n",
        "\n",
        "  def call(self, x):\n",
        "    # [0][:,0,:]\n",
        "    # -> [0] >> Takes the last_hidden_states tensor of shape (1, 197, 768)\n",
        "    # -> [:,0,:] >> Takes only the class embedding/final class token\n",
        "    #    (the summary of all embeddings in the transformer archtecture).\n",
        "    return self.base_model(x)[0][:,0,:]\n",
        "\n",
        "  def build(self, input_shape):\n",
        "    pass\n",
        "    # self.trainable = True\n",
        "    # For finetuning (Remember to verify if this is enough to integrate\n",
        "    # base_model with the training of keras).\n",
        "    # for layer in self.base_model.layers:\n",
        "    #     layer.trainable = True\n",
        "\n",
        "  # This method is used for saving the model with model.save()\n",
        "  def get_config(self):\n",
        "    # Return a dictionary containing the configuration of this layer\n",
        "    config = super().get_config()\n",
        "    config.update({\n",
        "        \"base_model\": self.base_model.config.to_dict()  # Serialize the config of the base model\n",
        "    })\n",
        "    return config\n",
        "\n",
        "x = Wrapper(base_model)(x)\n",
        "x = Dense(len(CLASS_NAMES), activation=\"softmax\")(x)\n",
        "\n",
        "# Hugging Face\n",
        "hf_model = Model(inputs=inputs, outputs=x)\n",
        "\n",
        "hf_model.compile(\n",
        "    optimizer=Adam(learning_rate=5e-5),\n",
        "    loss=CategoricalCrossentropy(),\n",
        "    metrics=[CategoricalAccuracy(), TopKCategoricalAccuracy(k=2)],\n",
        ")\n",
        "\n",
        "hf_model.summary()"
      ],
      "metadata": {
        "colab": {
          "base_uri": "https://localhost:8080/",
          "height": 571,
          "referenced_widgets": [
            "be94a2b737ea48d2a1cf09e3f4b51cb8",
            "15469cbe7ea441f68e7317f78d1200c1",
            "0a772f71a4bd4cadb2238d51a12c6006",
            "ee3ba8837a37438da5a3a76583988616",
            "023518f09f574e528744f45e9d3de076",
            "885e9962c20f4060a35e048d9b11947b",
            "8e10204642fc4ddeaeed3c59a5b387dc",
            "0e1514e5470348eea887ef04c1e1f520",
            "0cd64f6181874129aaa20dd228a94458",
            "e8b300d81d104729973c07821a95bddb",
            "efdf43798a6d49c788388d319ed9dc5e",
            "d54fcdb275f94d9f97371deae4638e25",
            "7d3747db2c0244e0928fe35b7bad3abc",
            "89fdae128fd34046ba78528981200d5d",
            "a29937ba85fa47bc9e3e556f7d53bdfb",
            "be99e128d728420690d79a122401ef9c",
            "4636fcb617674a69864244756fa0fd40",
            "8f4534e7b0ce46898a86be183f3b5ccf",
            "9827052746cb444d9cdd8925f1043bf5",
            "b1253d13ac284671b4a6f6ff8c7854c1",
            "52ff50e9a4284acc81cfcbd598fd5dff",
            "47f9ab19beb74c09a963ac6d822744fd"
          ]
        },
        "id": "x07YDKrnLlFK",
        "outputId": "51916306-0b5c-435c-db3e-aa0063ace74e"
      },
      "execution_count": null,
      "outputs": [
        {
          "output_type": "stream",
          "name": "stderr",
          "text": [
            "/usr/local/lib/python3.10/dist-packages/huggingface_hub/utils/_auth.py:94: UserWarning: \n",
            "The secret `HF_TOKEN` does not exist in your Colab secrets.\n",
            "To authenticate with the Hugging Face Hub, create a token in your settings tab (https://huggingface.co/settings/tokens), set it as secret in your Google Colab and restart your session.\n",
            "You will be able to reuse this secret in all of your notebooks.\n",
            "Please note that authentication is recommended but still optional to access public models or datasets.\n",
            "  warnings.warn(\n"
          ]
        },
        {
          "output_type": "display_data",
          "data": {
            "text/plain": [
              "config.json:   0%|          | 0.00/502 [00:00<?, ?B/s]"
            ],
            "application/vnd.jupyter.widget-view+json": {
              "version_major": 2,
              "version_minor": 0,
              "model_id": "be94a2b737ea48d2a1cf09e3f4b51cb8"
            }
          },
          "metadata": {}
        },
        {
          "output_type": "display_data",
          "data": {
            "text/plain": [
              "model.safetensors:   0%|          | 0.00/346M [00:00<?, ?B/s]"
            ],
            "application/vnd.jupyter.widget-view+json": {
              "version_major": 2,
              "version_minor": 0,
              "model_id": "d54fcdb275f94d9f97371deae4638e25"
            }
          },
          "metadata": {}
        },
        {
          "output_type": "stream",
          "name": "stderr",
          "text": [
            "All PyTorch model weights were used when initializing TFViTModel.\n",
            "\n",
            "All the weights of TFViTModel were initialized from the PyTorch model.\n",
            "If your task is similar to the task the model of the checkpoint was trained on, you can already use TFViTModel for predictions without further training.\n"
          ]
        },
        {
          "output_type": "display_data",
          "data": {
            "text/plain": [
              "\u001b[1mModel: \"functional_1\"\u001b[0m\n"
            ],
            "text/html": [
              "<pre style=\"white-space:pre;overflow-x:auto;line-height:normal;font-family:Menlo,'DejaVu Sans Mono',consolas,'Courier New',monospace\"><span style=\"font-weight: bold\">Model: \"functional_1\"</span>\n",
              "</pre>\n"
            ]
          },
          "metadata": {}
        },
        {
          "output_type": "display_data",
          "data": {
            "text/plain": [
              "┏━━━━━━━━━━━━━━━━━━━━━━━━━━━━━━━━━━━━━━┳━━━━━━━━━━━━━━━━━━━━━━━━━━━━━┳━━━━━━━━━━━━━━━━━┓\n",
              "┃\u001b[1m \u001b[0m\u001b[1mLayer (type)                        \u001b[0m\u001b[1m \u001b[0m┃\u001b[1m \u001b[0m\u001b[1mOutput Shape               \u001b[0m\u001b[1m \u001b[0m┃\u001b[1m \u001b[0m\u001b[1m        Param #\u001b[0m\u001b[1m \u001b[0m┃\n",
              "┡━━━━━━━━━━━━━━━━━━━━━━━━━━━━━━━━━━━━━━╇━━━━━━━━━━━━━━━━━━━━━━━━━━━━━╇━━━━━━━━━━━━━━━━━┩\n",
              "│ input_layer (\u001b[38;5;33mInputLayer\u001b[0m)             │ (\u001b[38;5;45mNone\u001b[0m, \u001b[38;5;34m256\u001b[0m, \u001b[38;5;34m256\u001b[0m, \u001b[38;5;34m3\u001b[0m)         │               \u001b[38;5;34m0\u001b[0m │\n",
              "├──────────────────────────────────────┼─────────────────────────────┼─────────────────┤\n",
              "│ sequential (\u001b[38;5;33mSequential\u001b[0m)              │ (\u001b[38;5;45mNone\u001b[0m, \u001b[38;5;34m3\u001b[0m, \u001b[38;5;34m224\u001b[0m, \u001b[38;5;34m224\u001b[0m)         │               \u001b[38;5;34m0\u001b[0m │\n",
              "├──────────────────────────────────────┼─────────────────────────────┼─────────────────┤\n",
              "│ wrapper (\u001b[38;5;33mWrapper\u001b[0m)                    │ (\u001b[38;5;45mNone\u001b[0m, \u001b[38;5;34m768\u001b[0m)                 │               \u001b[38;5;34m0\u001b[0m │\n",
              "├──────────────────────────────────────┼─────────────────────────────┼─────────────────┤\n",
              "│ dense (\u001b[38;5;33mDense\u001b[0m)                        │ (\u001b[38;5;45mNone\u001b[0m, \u001b[38;5;34m3\u001b[0m)                   │           \u001b[38;5;34m2,307\u001b[0m │\n",
              "└──────────────────────────────────────┴─────────────────────────────┴─────────────────┘\n"
            ],
            "text/html": [
              "<pre style=\"white-space:pre;overflow-x:auto;line-height:normal;font-family:Menlo,'DejaVu Sans Mono',consolas,'Courier New',monospace\">┏━━━━━━━━━━━━━━━━━━━━━━━━━━━━━━━━━━━━━━┳━━━━━━━━━━━━━━━━━━━━━━━━━━━━━┳━━━━━━━━━━━━━━━━━┓\n",
              "┃<span style=\"font-weight: bold\"> Layer (type)                         </span>┃<span style=\"font-weight: bold\"> Output Shape                </span>┃<span style=\"font-weight: bold\">         Param # </span>┃\n",
              "┡━━━━━━━━━━━━━━━━━━━━━━━━━━━━━━━━━━━━━━╇━━━━━━━━━━━━━━━━━━━━━━━━━━━━━╇━━━━━━━━━━━━━━━━━┩\n",
              "│ input_layer (<span style=\"color: #0087ff; text-decoration-color: #0087ff\">InputLayer</span>)             │ (<span style=\"color: #00d7ff; text-decoration-color: #00d7ff\">None</span>, <span style=\"color: #00af00; text-decoration-color: #00af00\">256</span>, <span style=\"color: #00af00; text-decoration-color: #00af00\">256</span>, <span style=\"color: #00af00; text-decoration-color: #00af00\">3</span>)         │               <span style=\"color: #00af00; text-decoration-color: #00af00\">0</span> │\n",
              "├──────────────────────────────────────┼─────────────────────────────┼─────────────────┤\n",
              "│ sequential (<span style=\"color: #0087ff; text-decoration-color: #0087ff\">Sequential</span>)              │ (<span style=\"color: #00d7ff; text-decoration-color: #00d7ff\">None</span>, <span style=\"color: #00af00; text-decoration-color: #00af00\">3</span>, <span style=\"color: #00af00; text-decoration-color: #00af00\">224</span>, <span style=\"color: #00af00; text-decoration-color: #00af00\">224</span>)         │               <span style=\"color: #00af00; text-decoration-color: #00af00\">0</span> │\n",
              "├──────────────────────────────────────┼─────────────────────────────┼─────────────────┤\n",
              "│ wrapper (<span style=\"color: #0087ff; text-decoration-color: #0087ff\">Wrapper</span>)                    │ (<span style=\"color: #00d7ff; text-decoration-color: #00d7ff\">None</span>, <span style=\"color: #00af00; text-decoration-color: #00af00\">768</span>)                 │               <span style=\"color: #00af00; text-decoration-color: #00af00\">0</span> │\n",
              "├──────────────────────────────────────┼─────────────────────────────┼─────────────────┤\n",
              "│ dense (<span style=\"color: #0087ff; text-decoration-color: #0087ff\">Dense</span>)                        │ (<span style=\"color: #00d7ff; text-decoration-color: #00d7ff\">None</span>, <span style=\"color: #00af00; text-decoration-color: #00af00\">3</span>)                   │           <span style=\"color: #00af00; text-decoration-color: #00af00\">2,307</span> │\n",
              "└──────────────────────────────────────┴─────────────────────────────┴─────────────────┘\n",
              "</pre>\n"
            ]
          },
          "metadata": {}
        },
        {
          "output_type": "display_data",
          "data": {
            "text/plain": [
              "\u001b[1m Total params: \u001b[0m\u001b[38;5;34m2,307\u001b[0m (9.01 KB)\n"
            ],
            "text/html": [
              "<pre style=\"white-space:pre;overflow-x:auto;line-height:normal;font-family:Menlo,'DejaVu Sans Mono',consolas,'Courier New',monospace\"><span style=\"font-weight: bold\"> Total params: </span><span style=\"color: #00af00; text-decoration-color: #00af00\">2,307</span> (9.01 KB)\n",
              "</pre>\n"
            ]
          },
          "metadata": {}
        },
        {
          "output_type": "display_data",
          "data": {
            "text/plain": [
              "\u001b[1m Trainable params: \u001b[0m\u001b[38;5;34m2,307\u001b[0m (9.01 KB)\n"
            ],
            "text/html": [
              "<pre style=\"white-space:pre;overflow-x:auto;line-height:normal;font-family:Menlo,'DejaVu Sans Mono',consolas,'Courier New',monospace\"><span style=\"font-weight: bold\"> Trainable params: </span><span style=\"color: #00af00; text-decoration-color: #00af00\">2,307</span> (9.01 KB)\n",
              "</pre>\n"
            ]
          },
          "metadata": {}
        },
        {
          "output_type": "display_data",
          "data": {
            "text/plain": [
              "\u001b[1m Non-trainable params: \u001b[0m\u001b[38;5;34m0\u001b[0m (0.00 B)\n"
            ],
            "text/html": [
              "<pre style=\"white-space:pre;overflow-x:auto;line-height:normal;font-family:Menlo,'DejaVu Sans Mono',consolas,'Courier New',monospace\"><span style=\"font-weight: bold\"> Non-trainable params: </span><span style=\"color: #00af00; text-decoration-color: #00af00\">0</span> (0.00 B)\n",
              "</pre>\n"
            ]
          },
          "metadata": {}
        }
      ]
    },
    {
      "cell_type": "markdown",
      "source": [
        "## Running"
      ],
      "metadata": {
        "id": "BHmLGvGtXBJZ"
      }
    },
    {
      "cell_type": "code",
      "source": [
        "# img = cv.imread(\"./datasets/Emotions Dataset/Emotions Dataset/test/happy/43189.jpg\")[:,:,::-1]\n",
        "img = cv.imread(\"/content/drive/MyDrive/tfds_data/datasets/Emotions Dataset/Emotions Dataset/test/happy/43189.jpg\")[:,:,::-1]\n",
        "img = cv.resize(img, (256, 256))\n",
        "img = tf.constant(img, dtype=tf.float32)\n",
        "img = tf.expand_dims(img, axis=0)\n",
        "\n",
        "plt.figure(figsize=[3,3])\n",
        "plt.imshow(img[0]/255.0)\n",
        "plt.title(img.shape)\n",
        "plt.axis(\"off\")\n",
        "plt.show()"
      ],
      "metadata": {
        "colab": {
          "base_uri": "https://localhost:8080/",
          "height": 54
        },
        "id": "guIpcyCj6Psd",
        "outputId": "5657ca48-8de3-4fd1-928e-49aa68224b49"
      },
      "execution_count": null,
      "outputs": [
        {
          "output_type": "display_data",
          "data": {
            "text/plain": [
              "<Figure size 300x300 with 1 Axes>"
            ],
            "image/png": "[encoded data removed]"
          },
          "metadata": {}
        }
      ]
    },
    {
      "cell_type": "code",
      "source": [
        "\"\"\"\n",
        ">> Hidden states are the representations of the tokens after the model has processed\n",
        "the input through its layers. They are the result of applying the transformer’s\n",
        "self-attention and feed-forward layers to the input embeddings.\n",
        ">> In the context of transformer-based models like BERT, GPT, or similar, the\n",
        "\"last hidden state\" refers to the output of the final layer of the transformer.\n",
        ">> The pooler_output is used as a representation of the entire sequence. This is\n",
        "typically fed into a classifier (e.g., a softmax layer or a linear layer) to\n",
        "predict the label or class for the input sequence.\n",
        "\"\"\"\n",
        "\"\"\"\n",
        "[0][:,0,:]\n",
        "-> [0] >> Takes the last_hidden_states tensor of shape (1, 197, 768)\n",
        "-> [:,0,:] >> Takes only the class embedding /final class token (the summary\n",
        "   of all embeddings in the transformer archtecture).\n",
        "\"\"\"\n",
        "hf_model(img).shape"
      ],
      "metadata": {
        "colab": {
          "base_uri": "https://localhost:8080/"
        },
        "id": "3mXtp7kp6i38",
        "outputId": "815a168d-7af0-4beb-fbc8-fb5925558b66"
      },
      "execution_count": null,
      "outputs": [
        {
          "output_type": "execute_result",
          "data": {
            "text/plain": [
              "TensorShape([1, 3])"
            ]
          },
          "metadata": {},
          "execution_count": 6
        }
      ]
    },
    {
      "cell_type": "code",
      "source": [
        "# I think it's not shuffling.\n",
        "hf_model.fit(train_dataset.shuffle(buffer_size=20).take(20), validation_data=test_dataset.take(20), epochs=20, verbose=1)\n",
        "# hf_model.fit(train_dataset, validation_data=test_dataset, epochs=20, verbose=1)"
      ],
      "metadata": {
        "id": "l8m-3kka8GUj",
        "colab": {
          "base_uri": "https://localhost:8080/"
        },
        "outputId": "cd308e1c-a007-4d16-ca94-9fbf330405eb"
      },
      "execution_count": null,
      "outputs": [
        {
          "output_type": "stream",
          "name": "stdout",
          "text": [
            "Epoch 1/20\n",
            "\u001b[1m20/20\u001b[0m \u001b[32m━━━━━━━━━━━━━━━━━━━━\u001b[0m\u001b[37m\u001b[0m \u001b[1m61s\u001b[0m 1s/step - categorical_accuracy: 0.4524 - loss: 1.0409 - top_k_categorical_accuracy: 0.8308 - val_categorical_accuracy: 0.3609 - val_loss: 1.1109 - val_top_k_categorical_accuracy: 0.6828\n",
            "Epoch 2/20\n",
            "\u001b[1m20/20\u001b[0m \u001b[32m━━━━━━━━━━━━━━━━━━━━\u001b[0m\u001b[37m\u001b[0m \u001b[1m17s\u001b[0m 756ms/step - categorical_accuracy: 0.4353 - loss: 1.0407 - top_k_categorical_accuracy: 0.8425 - val_categorical_accuracy: 0.3750 - val_loss: 1.1082 - val_top_k_categorical_accuracy: 0.7031\n",
            "Epoch 3/20\n",
            "\u001b[1m20/20\u001b[0m \u001b[32m━━━━━━━━━━━━━━━━━━━━\u001b[0m\u001b[37m\u001b[0m \u001b[1m17s\u001b[0m 773ms/step - categorical_accuracy: 0.4926 - loss: 0.9837 - top_k_categorical_accuracy: 0.8884 - val_categorical_accuracy: 0.3891 - val_loss: 1.1009 - val_top_k_categorical_accuracy: 0.7000\n",
            "Epoch 4/20\n",
            "\u001b[1m20/20\u001b[0m \u001b[32m━━━━━━━━━━━━━━━━━━━━\u001b[0m\u001b[37m\u001b[0m \u001b[1m21s\u001b[0m 791ms/step - categorical_accuracy: 0.5385 - loss: 0.9497 - top_k_categorical_accuracy: 0.9204 - val_categorical_accuracy: 0.3812 - val_loss: 1.1096 - val_top_k_categorical_accuracy: 0.6938\n",
            "Epoch 5/20\n",
            "\u001b[1m20/20\u001b[0m \u001b[32m━━━━━━━━━━━━━━━━━━━━\u001b[0m\u001b[37m\u001b[0m \u001b[1m20s\u001b[0m 800ms/step - categorical_accuracy: 0.5798 - loss: 0.9152 - top_k_categorical_accuracy: 0.9595 - val_categorical_accuracy: 0.3891 - val_loss: 1.1056 - val_top_k_categorical_accuracy: 0.6719\n",
            "Epoch 6/20\n",
            "\u001b[1m20/20\u001b[0m \u001b[32m━━━━━━━━━━━━━━━━━━━━\u001b[0m\u001b[37m\u001b[0m \u001b[1m18s\u001b[0m 826ms/step - categorical_accuracy: 0.5629 - loss: 0.9202 - top_k_categorical_accuracy: 0.9435 - val_categorical_accuracy: 0.4125 - val_loss: 1.0991 - val_top_k_categorical_accuracy: 0.6875\n",
            "Epoch 7/20\n",
            "\u001b[1m20/20\u001b[0m \u001b[32m━━━━━━━━━━━━━━━━━━━━\u001b[0m\u001b[37m\u001b[0m \u001b[1m18s\u001b[0m 836ms/step - categorical_accuracy: 0.5978 - loss: 0.8853 - top_k_categorical_accuracy: 0.9520 - val_categorical_accuracy: 0.4125 - val_loss: 1.0942 - val_top_k_categorical_accuracy: 0.6828\n",
            "Epoch 8/20\n",
            "\u001b[1m20/20\u001b[0m \u001b[32m━━━━━━━━━━━━━━━━━━━━\u001b[0m\u001b[37m\u001b[0m \u001b[1m19s\u001b[0m 819ms/step - categorical_accuracy: 0.6403 - loss: 0.8536 - top_k_categorical_accuracy: 0.9663 - val_categorical_accuracy: 0.4047 - val_loss: 1.1090 - val_top_k_categorical_accuracy: 0.6750\n",
            "Epoch 9/20\n",
            "\u001b[1m20/20\u001b[0m \u001b[32m━━━━━━━━━━━━━━━━━━━━\u001b[0m\u001b[37m\u001b[0m \u001b[1m20s\u001b[0m 816ms/step - categorical_accuracy: 0.6180 - loss: 0.8463 - top_k_categorical_accuracy: 0.9657 - val_categorical_accuracy: 0.4266 - val_loss: 1.0954 - val_top_k_categorical_accuracy: 0.6859\n",
            "Epoch 10/20\n",
            "\u001b[1m20/20\u001b[0m \u001b[32m━━━━━━━━━━━━━━━━━━━━\u001b[0m\u001b[37m\u001b[0m \u001b[1m20s\u001b[0m 937ms/step - categorical_accuracy: 0.6234 - loss: 0.8259 - top_k_categorical_accuracy: 0.9484 - val_categorical_accuracy: 0.4172 - val_loss: 1.1183 - val_top_k_categorical_accuracy: 0.6719\n",
            "Epoch 11/20\n",
            "\u001b[1m20/20\u001b[0m \u001b[32m━━━━━━━━━━━━━━━━━━━━\u001b[0m\u001b[37m\u001b[0m \u001b[1m20s\u001b[0m 933ms/step - categorical_accuracy: 0.6407 - loss: 0.8006 - top_k_categorical_accuracy: 0.9612 - val_categorical_accuracy: 0.4297 - val_loss: 1.1000 - val_top_k_categorical_accuracy: 0.6828\n",
            "Epoch 12/20\n",
            "\u001b[1m20/20\u001b[0m \u001b[32m━━━━━━━━━━━━━━━━━━━━\u001b[0m\u001b[37m\u001b[0m \u001b[1m18s\u001b[0m 817ms/step - categorical_accuracy: 0.6639 - loss: 0.7866 - top_k_categorical_accuracy: 0.9709 - val_categorical_accuracy: 0.4500 - val_loss: 1.1006 - val_top_k_categorical_accuracy: 0.6781\n",
            "Epoch 13/20\n",
            "\u001b[1m20/20\u001b[0m \u001b[32m━━━━━━━━━━━━━━━━━━━━\u001b[0m\u001b[37m\u001b[0m \u001b[1m20s\u001b[0m 941ms/step - categorical_accuracy: 0.6419 - loss: 0.7931 - top_k_categorical_accuracy: 0.9570 - val_categorical_accuracy: 0.4422 - val_loss: 1.1206 - val_top_k_categorical_accuracy: 0.6656\n",
            "Epoch 14/20\n",
            "\u001b[1m20/20\u001b[0m \u001b[32m━━━━━━━━━━━━━━━━━━━━\u001b[0m\u001b[37m\u001b[0m \u001b[1m18s\u001b[0m 824ms/step - categorical_accuracy: 0.6652 - loss: 0.7598 - top_k_categorical_accuracy: 0.9784 - val_categorical_accuracy: 0.4531 - val_loss: 1.1124 - val_top_k_categorical_accuracy: 0.6812\n",
            "Epoch 15/20\n",
            "\u001b[1m20/20\u001b[0m \u001b[32m━━━━━━━━━━━━━━━━━━━━\u001b[0m\u001b[37m\u001b[0m \u001b[1m18s\u001b[0m 822ms/step - categorical_accuracy: 0.6713 - loss: 0.7710 - top_k_categorical_accuracy: 0.9505 - val_categorical_accuracy: 0.4484 - val_loss: 1.1328 - val_top_k_categorical_accuracy: 0.6687\n",
            "Epoch 16/20\n",
            "\u001b[1m20/20\u001b[0m \u001b[32m━━━━━━━━━━━━━━━━━━━━\u001b[0m\u001b[37m\u001b[0m \u001b[1m18s\u001b[0m 822ms/step - categorical_accuracy: 0.7101 - loss: 0.7238 - top_k_categorical_accuracy: 0.9725 - val_categorical_accuracy: 0.4531 - val_loss: 1.1424 - val_top_k_categorical_accuracy: 0.6594\n",
            "Epoch 17/20\n",
            "\u001b[1m20/20\u001b[0m \u001b[32m━━━━━━━━━━━━━━━━━━━━\u001b[0m\u001b[37m\u001b[0m \u001b[1m21s\u001b[0m 842ms/step - categorical_accuracy: 0.7335 - loss: 0.7120 - top_k_categorical_accuracy: 0.9754 - val_categorical_accuracy: 0.4578 - val_loss: 1.1479 - val_top_k_categorical_accuracy: 0.6656\n",
            "Epoch 18/20\n",
            "\u001b[1m20/20\u001b[0m \u001b[32m━━━━━━━━━━━━━━━━━━━━\u001b[0m\u001b[37m\u001b[0m \u001b[1m20s\u001b[0m 819ms/step - categorical_accuracy: 0.7447 - loss: 0.6905 - top_k_categorical_accuracy: 0.9795 - val_categorical_accuracy: 0.4688 - val_loss: 1.1533 - val_top_k_categorical_accuracy: 0.6594\n",
            "Epoch 19/20\n",
            "\u001b[1m20/20\u001b[0m \u001b[32m━━━━━━━━━━━━━━━━━━━━\u001b[0m\u001b[37m\u001b[0m \u001b[1m21s\u001b[0m 818ms/step - categorical_accuracy: 0.7164 - loss: 0.7135 - top_k_categorical_accuracy: 0.9693 - val_categorical_accuracy: 0.4766 - val_loss: 1.1422 - val_top_k_categorical_accuracy: 0.6641\n",
            "Epoch 20/20\n",
            "\u001b[1m20/20\u001b[0m \u001b[32m━━━━━━━━━━━━━━━━━━━━\u001b[0m\u001b[37m\u001b[0m \u001b[1m20s\u001b[0m 820ms/step - categorical_accuracy: 0.7427 - loss: 0.6716 - top_k_categorical_accuracy: 0.9747 - val_categorical_accuracy: 0.4688 - val_loss: 1.1577 - val_top_k_categorical_accuracy: 0.6578\n"
          ]
        },
        {
          "output_type": "execute_result",
          "data": {
            "text/plain": [
              "<keras.src.callbacks.history.History at 0x7d126aadcc70>"
            ]
          },
          "metadata": {},
          "execution_count": 5
        }
      ]
    },
    {
      "cell_type": "markdown",
      "source": [
        "# Wandb Setup"
      ],
      "metadata": {
        "id": "9tarzhxXD58T"
      }
    },
    {
      "cell_type": "code",
      "source": [
        "# !pip install wandb\n",
        "!wandb login\n",
        "\n",
        "import wandb\n",
        "from wandb.integration.keras import WandbMetricsLogger"
      ],
      "metadata": {
        "id": "sn_hlFBVF9tX",
        "colab": {
          "base_uri": "https://localhost:8080/"
        },
        "outputId": "e09d522b-0b13-4117-cdd0-86fcfc8d5957"
      },
      "execution_count": null,
      "outputs": [
        {
          "output_type": "stream",
          "name": "stdout",
          "text": [
            "\u001b[34m\u001b[1mwandb\u001b[0m: Logging into wandb.ai. (Learn how to deploy a W&B server locally: https://wandb.me/wandb-server)\n",
            "\u001b[34m\u001b[1mwandb\u001b[0m: You can find your API key in your browser here: https://wandb.ai/authorize\n",
            "\u001b[34m\u001b[1mwandb\u001b[0m: Paste an API key from your profile and hit enter, or press ctrl+c to quit: \n",
            "\u001b[34m\u001b[1mwandb\u001b[0m: Appending key for api.wandb.ai to your netrc file: /root/.netrc\n"
          ]
        }
      ]
    },
    {
      "cell_type": "code",
      "source": [
        "hf_model.predict(test_dataset.take(2), verbose=1).shape"
      ],
      "metadata": {
        "colab": {
          "base_uri": "https://localhost:8080/"
        },
        "id": "-HGLYkMDJde1",
        "outputId": "6a126083-9348-47d4-f36f-6a2fd7d89733"
      },
      "execution_count": null,
      "outputs": [
        {
          "output_type": "stream",
          "name": "stdout",
          "text": [
            "\u001b[1m2/2\u001b[0m \u001b[32m━━━━━━━━━━━━━━━━━━━━\u001b[0m\u001b[37m\u001b[0m \u001b[1m77s\u001b[0m 33s/step\n"
          ]
        },
        {
          "output_type": "execute_result",
          "data": {
            "text/plain": [
              "(64, 3)"
            ]
          },
          "metadata": {},
          "execution_count": 16
        }
      ]
    },
    {
      "cell_type": "code",
      "source": [
        "for im, label in test_dataset.unbatch().take(25):\n",
        "        im = tf.expand_dims(im, axis=0)\n",
        "        print(tf.argmax(hf_model.predict(im), axis=-1).numpy())\n",
        "        y_true = CLASS_NAMES[tf.argmax(label, axis=-1).numpy()]\n",
        "        y_pred = CLASS_NAMES[tf.argmax(hf_model.predict(im), axis=-1).numpy()[0]]\n",
        "        row = [im, y_pred, y_true]\n",
        "        print(row[0].shape, row[1], row[2])\n",
        "        break"
      ],
      "metadata": {
        "colab": {
          "base_uri": "https://localhost:8080/"
        },
        "id": "eYi3wlw4hw_9",
        "outputId": "1b6d03d3-5172-4a44-d0a0-7b6996ed78e2"
      },
      "execution_count": null,
      "outputs": [
        {
          "output_type": "stream",
          "name": "stdout",
          "text": [
            "\u001b[1m1/1\u001b[0m \u001b[32m━━━━━━━━━━━━━━━━━━━━\u001b[0m\u001b[37m\u001b[0m \u001b[1m0s\u001b[0m 28ms/step\n"
          ]
        }
      ]
    },
    {
      "cell_type": "code",
      "source": [
        "class ConfusionMatrixWandbLogger(Callback):\n",
        "    def __init__(self):\n",
        "        super().__init__()\n",
        "\n",
        "    def on_train_end(self, logs=None):\n",
        "        pass\n",
        "\n",
        "    def on_epoch_end(self, epoch, logs=None):\n",
        "        y_true = []\n",
        "        y_pred = []\n",
        "\n",
        "        # (x, 3)\n",
        "        dataset = test_dataset.take(10)\n",
        "\n",
        "        for image_b, label_b in dataset:\n",
        "          # NOTE: Doing the np.argmax here to avoid putting all vectors of size\n",
        "          # 3 inside the lists.\n",
        "          y_true.append(np.argmax(label_b, axis=-1))\n",
        "          y_pred.append(np.argmax(hf_model.predict(image_b, verbose=0), axis=-1))\n",
        "\n",
        "        y_true = np.array(y_true)\n",
        "        y_pred = np.array(y_pred)\n",
        "        # This concatenate handles the fact that the size of the dataset not necessarely\n",
        "        # is divisible by the size of the batch.\n",
        "        y_true = np.concatenate([y_true[:-1].flatten(), y_true[-1].flatten()])\n",
        "        y_pred = np.concatenate([y_pred[:-1].flatten(), y_pred[-1].flatten()])\n",
        "\n",
        "        cm = wandb.plot.confusion_matrix(\n",
        "            y_true=y_true, preds=y_pred, class_names=CONFIG[\"class_names\"]\n",
        "        )\n",
        "        wandb.log({\"conf_matrix\":cm})\n",
        "\n",
        "class TableWandbLogger(Callback):\n",
        "    def __init__(self):\n",
        "      super().__init__()\n",
        "\n",
        "    def on_epoch_end(self, epoch, logs=None):\n",
        "      table = wandb.Table(columns=[\"image\", \"predicted\", \"label\"])\n",
        "\n",
        "      for im, label in test_dataset.unbatch().take(25):\n",
        "        im = tf.expand_dims(im, axis=0)\n",
        "        # print(tf.argmax(hf_model.predict(im), axis=-1).numpy())\n",
        "        y_true = CLASS_NAMES[tf.argmax(label, axis=-1).numpy()]\n",
        "        y_pred = CLASS_NAMES[tf.argmax(hf_model.predict(im, verbose=0), axis=-1).numpy()[0]]\n",
        "        row = [wandb.Image(im), y_pred, y_true]\n",
        "        table.add_data(*row)\n",
        "\n",
        "      wandb.log({\"Model Results\":table})"
      ],
      "metadata": {
        "id": "H3rhISyUIA-t"
      },
      "execution_count": null,
      "outputs": []
    },
    {
      "cell_type": "code",
      "source": [
        "with wandb.init(project=\"Emotion-Detection\", entity=\"albertalvin8080-academic\", config=CONFIG) as run:\n",
        "    hf_model.fit(\n",
        "        train_dataset.take(20),\n",
        "        validation_data=test_dataset,\n",
        "        epochs=1,\n",
        "        verbose=1,\n",
        "        callbacks=[WandbMetricsLogger(), ConfusionMatrixWandbLogger(), TableWandbLogger()],\n",
        "    )"
      ],
      "metadata": {
        "id": "TTZc69WCGP-F"
      },
      "execution_count": null,
      "outputs": []
    },
    {
      "cell_type": "markdown",
      "source": [
        "# ONNX (Open Neural Network Exchange)"
      ],
      "metadata": {
        "id": "aJiFbdf2oONC"
      }
    },
    {
      "cell_type": "code",
      "source": [
        "!pip install tf2onnx\n",
        "!pip install onnxruntime\n",
        "# !pip install onnxruntime-gpu"
      ],
      "metadata": {
        "id": "QMrWLnrPp4xY",
        "colab": {
          "base_uri": "https://localhost:8080/"
        },
        "outputId": "176dc313-3dcb-4c4c-823f-b6941fcc9e4f"
      },
      "execution_count": null,
      "outputs": [
        {
          "output_type": "stream",
          "name": "stdout",
          "text": [
            "Requirement already satisfied: tf2onnx in /usr/local/lib/python3.10/dist-packages (1.16.1)\n",
            "Requirement already satisfied: numpy>=1.14.1 in /usr/local/lib/python3.10/dist-packages (from tf2onnx) (1.26.4)\n",
            "Requirement already satisfied: onnx>=1.4.1 in /usr/local/lib/python3.10/dist-packages (from tf2onnx) (1.17.0)\n",
            "Requirement already satisfied: requests in /usr/local/lib/python3.10/dist-packages (from tf2onnx) (2.32.3)\n",
            "Requirement already satisfied: six in /usr/local/lib/python3.10/dist-packages (from tf2onnx) (1.16.0)\n",
            "Requirement already satisfied: flatbuffers>=1.12 in /usr/local/lib/python3.10/dist-packages (from tf2onnx) (24.3.25)\n",
            "Requirement already satisfied: protobuf~=3.20 in /usr/local/lib/python3.10/dist-packages (from tf2onnx) (3.20.3)\n",
            "Requirement already satisfied: charset-normalizer<4,>=2 in /usr/local/lib/python3.10/dist-packages (from requests->tf2onnx) (3.4.0)\n",
            "Requirement already satisfied: idna<4,>=2.5 in /usr/local/lib/python3.10/dist-packages (from requests->tf2onnx) (3.10)\n",
            "Requirement already satisfied: urllib3<3,>=1.21.1 in /usr/local/lib/python3.10/dist-packages (from requests->tf2onnx) (2.2.3)\n",
            "Requirement already satisfied: certifi>=2017.4.17 in /usr/local/lib/python3.10/dist-packages (from requests->tf2onnx) (2024.8.30)\n",
            "Collecting onnxruntime\n",
            "  Downloading onnxruntime-1.20.0-cp310-cp310-manylinux_2_27_x86_64.manylinux_2_28_x86_64.whl.metadata (4.4 kB)\n",
            "Requirement already satisfied: coloredlogs in /usr/local/lib/python3.10/dist-packages (from onnxruntime) (15.0.1)\n",
            "Requirement already satisfied: flatbuffers in /usr/local/lib/python3.10/dist-packages (from onnxruntime) (24.3.25)\n",
            "Requirement already satisfied: numpy>=1.21.6 in /usr/local/lib/python3.10/dist-packages (from onnxruntime) (1.26.4)\n",
            "Requirement already satisfied: packaging in /usr/local/lib/python3.10/dist-packages (from onnxruntime) (24.2)\n",
            "Requirement already satisfied: protobuf in /usr/local/lib/python3.10/dist-packages (from onnxruntime) (3.20.3)\n",
            "Requirement already satisfied: sympy in /usr/local/lib/python3.10/dist-packages (from onnxruntime) (1.13.1)\n",
            "Requirement already satisfied: humanfriendly>=9.1 in /usr/local/lib/python3.10/dist-packages (from coloredlogs->onnxruntime) (10.0)\n",
            "Requirement already satisfied: mpmath<1.4,>=1.1.0 in /usr/local/lib/python3.10/dist-packages (from sympy->onnxruntime) (1.3.0)\n",
            "Downloading onnxruntime-1.20.0-cp310-cp310-manylinux_2_27_x86_64.manylinux_2_28_x86_64.whl (13.3 MB)\n",
            "\u001b[2K   \u001b[90m━━━━━━━━━━━━━━━━━━━━━━━━━━━━━━━━━━━━━━━━\u001b[0m \u001b[32m13.3/13.3 MB\u001b[0m \u001b[31m77.5 MB/s\u001b[0m eta \u001b[36m0:00:00\u001b[0m\n",
            "\u001b[?25hInstalling collected packages: onnxruntime\n",
            "Successfully installed onnxruntime-1.20.0\n"
          ]
        }
      ]
    },
    {
      "cell_type": "code",
      "source": [
        "# hf_model.save(\"vit_finetuned\")\n",
        "# SavedModel format (which is used by TensorFlow for deployment with TensorFlow Lite or TensorFlow Serving)\n",
        "hf_model.export(\"vit_finetuned\")\n",
        "!python -m tf2onnx.convert --saved-model vit_finetuned/ --output vit_onnx.onnx"
      ],
      "metadata": {
        "collapsed": true,
        "id": "0-DDdmrCrcaV",
        "colab": {
          "base_uri": "https://localhost:8080/"
        },
        "outputId": "4622693d-dd5a-4567-cdf6-f8ef8ce209a5"
      },
      "execution_count": null,
      "outputs": [
        {
          "output_type": "stream",
          "name": "stdout",
          "text": [
            "Saved artifact at 'vit_finetuned'. The following endpoints are available:\n",
            "\n",
            "* Endpoint 'serve'\n",
            "  args_0 (POSITIONAL_ONLY): TensorSpec(shape=(None, 256, 256, 3), dtype=tf.float32, name='keras_tensor')\n",
            "Output Type:\n",
            "  TensorSpec(shape=(None, 3), dtype=tf.float32, name=None)\n",
            "Captures:\n",
            "  133104705199744: TensorSpec(shape=(), dtype=tf.resource, name=None)\n",
            "  133104703181168: TensorSpec(shape=(), dtype=tf.resource, name=None)\n",
            "  133104705198688: TensorSpec(shape=(), dtype=tf.resource, name=None)\n",
            "  133104703048336: TensorSpec(shape=(), dtype=tf.resource, name=None)\n",
            "  133104703184336: TensorSpec(shape=(), dtype=tf.resource, name=None)\n",
            "  133104705200448: TensorSpec(shape=(), dtype=tf.resource, name=None)\n",
            "  133109170104880: TensorSpec(shape=(), dtype=tf.resource, name=None)\n",
            "  133104707716368: TensorSpec(shape=(), dtype=tf.resource, name=None)\n",
            "  133104704243664: TensorSpec(shape=(), dtype=tf.resource, name=None)\n",
            "  133104704245600: TensorSpec(shape=(), dtype=tf.resource, name=None)\n",
            "  133104705149008: TensorSpec(shape=(), dtype=tf.resource, name=None)\n",
            "  133104705155344: TensorSpec(shape=(), dtype=tf.resource, name=None)\n",
            "  133104705154640: TensorSpec(shape=(), dtype=tf.resource, name=None)\n",
            "  133104705150064: TensorSpec(shape=(), dtype=tf.resource, name=None)\n",
            "  133104705202032: TensorSpec(shape=(), dtype=tf.resource, name=None)\n",
            "  133104703186272: TensorSpec(shape=(), dtype=tf.resource, name=None)\n",
            "  133104707599728: TensorSpec(shape=(), dtype=tf.resource, name=None)\n",
            "  133104705201328: TensorSpec(shape=(), dtype=tf.resource, name=None)\n",
            "  133104705196928: TensorSpec(shape=(), dtype=tf.resource, name=None)\n",
            "  133104705197280: TensorSpec(shape=(), dtype=tf.resource, name=None)\n",
            "  133104703885856: TensorSpec(shape=(), dtype=tf.resource, name=None)\n",
            "  133104703887088: TensorSpec(shape=(), dtype=tf.resource, name=None)\n",
            "  133104705196400: TensorSpec(shape=(), dtype=tf.resource, name=None)\n",
            "  133104703189968: TensorSpec(shape=(), dtype=tf.resource, name=None)\n",
            "  133104703190496: TensorSpec(shape=(), dtype=tf.resource, name=None)\n",
            "  133104703191024: TensorSpec(shape=(), dtype=tf.resource, name=None)\n",
            "  133104703191552: TensorSpec(shape=(), dtype=tf.resource, name=None)\n",
            "  133104703192080: TensorSpec(shape=(), dtype=tf.resource, name=None)\n",
            "  133104703192608: TensorSpec(shape=(), dtype=tf.resource, name=None)\n",
            "  133104703188560: TensorSpec(shape=(), dtype=tf.resource, name=None)\n",
            "  133104703888320: TensorSpec(shape=(), dtype=tf.resource, name=None)\n",
            "  133104703889552: TensorSpec(shape=(), dtype=tf.resource, name=None)\n",
            "  133104703184160: TensorSpec(shape=(), dtype=tf.resource, name=None)\n",
            "  133104703191904: TensorSpec(shape=(), dtype=tf.resource, name=None)\n",
            "  133104703882864: TensorSpec(shape=(), dtype=tf.resource, name=None)\n",
            "  133104703881280: TensorSpec(shape=(), dtype=tf.resource, name=None)\n",
            "  133104703188736: TensorSpec(shape=(), dtype=tf.resource, name=None)\n",
            "  133104705149184: TensorSpec(shape=(), dtype=tf.resource, name=None)\n",
            "  133104703889728: TensorSpec(shape=(), dtype=tf.resource, name=None)\n",
            "  133104703885680: TensorSpec(shape=(), dtype=tf.resource, name=None)\n",
            "  133104703896064: TensorSpec(shape=(), dtype=tf.resource, name=None)\n",
            "  133104703896592: TensorSpec(shape=(), dtype=tf.resource, name=None)\n",
            "  133104703897120: TensorSpec(shape=(), dtype=tf.resource, name=None)\n",
            "  133104703894480: TensorSpec(shape=(), dtype=tf.resource, name=None)\n",
            "  133104703893248: TensorSpec(shape=(), dtype=tf.resource, name=None)\n",
            "  133104703896416: TensorSpec(shape=(), dtype=tf.resource, name=None)\n",
            "  133104703896240: TensorSpec(shape=(), dtype=tf.resource, name=None)\n",
            "  133104705030096: TensorSpec(shape=(), dtype=tf.resource, name=None)\n",
            "  133104703892192: TensorSpec(shape=(), dtype=tf.resource, name=None)\n",
            "  133104703893072: TensorSpec(shape=(), dtype=tf.resource, name=None)\n",
            "  133104703891136: TensorSpec(shape=(), dtype=tf.resource, name=None)\n",
            "  133104703890432: TensorSpec(shape=(), dtype=tf.resource, name=None)\n",
            "  133104703918624: TensorSpec(shape=(), dtype=tf.resource, name=None)\n",
            "  133104703919856: TensorSpec(shape=(), dtype=tf.resource, name=None)\n",
            "  133104703895888: TensorSpec(shape=(), dtype=tf.resource, name=None)\n",
            "  133104704891792: TensorSpec(shape=(), dtype=tf.resource, name=None)\n",
            "  133109168798384: TensorSpec(shape=(), dtype=tf.resource, name=None)\n",
            "  133109173265760: TensorSpec(shape=(), dtype=tf.resource, name=None)\n",
            "  133104707696976: TensorSpec(shape=(), dtype=tf.resource, name=None)\n",
            "  133104707039680: TensorSpec(shape=(), dtype=tf.resource, name=None)\n",
            "  133104704248064: TensorSpec(shape=(), dtype=tf.resource, name=None)\n",
            "  133104704245952: TensorSpec(shape=(), dtype=tf.resource, name=None)\n",
            "  133104703921088: TensorSpec(shape=(), dtype=tf.resource, name=None)\n",
            "  133104703922320: TensorSpec(shape=(), dtype=tf.resource, name=None)\n",
            "  133104705029920: TensorSpec(shape=(), dtype=tf.resource, name=None)\n",
            "  133104705036784: TensorSpec(shape=(), dtype=tf.resource, name=None)\n",
            "  133104703914048: TensorSpec(shape=(), dtype=tf.resource, name=None)\n",
            "  133104703916512: TensorSpec(shape=(), dtype=tf.resource, name=None)\n",
            "  133104703891488: TensorSpec(shape=(), dtype=tf.resource, name=None)\n",
            "  133104703886384: TensorSpec(shape=(), dtype=tf.resource, name=None)\n",
            "  133104703925664: TensorSpec(shape=(), dtype=tf.resource, name=None)\n",
            "  133104703924960: TensorSpec(shape=(), dtype=tf.resource, name=None)\n",
            "  133104705030272: TensorSpec(shape=(), dtype=tf.resource, name=None)\n",
            "  133104703923904: TensorSpec(shape=(), dtype=tf.resource, name=None)\n",
            "  133104703920912: TensorSpec(shape=(), dtype=tf.resource, name=None)\n",
            "  133104703926368: TensorSpec(shape=(), dtype=tf.resource, name=None)\n",
            "  133104703927776: TensorSpec(shape=(), dtype=tf.resource, name=None)\n",
            "  133104703918448: TensorSpec(shape=(), dtype=tf.resource, name=None)\n",
            "  133104703883392: TensorSpec(shape=(), dtype=tf.resource, name=None)\n",
            "  133104703886032: TensorSpec(shape=(), dtype=tf.resource, name=None)\n",
            "  133104703928832: TensorSpec(shape=(), dtype=tf.resource, name=None)\n",
            "  133104703929008: TensorSpec(shape=(), dtype=tf.resource, name=None)\n",
            "  133104703915456: TensorSpec(shape=(), dtype=tf.resource, name=None)\n",
            "  133104703886736: TensorSpec(shape=(), dtype=tf.resource, name=None)\n",
            "  133104701982144: TensorSpec(shape=(), dtype=tf.resource, name=None)\n",
            "  133104701981792: TensorSpec(shape=(), dtype=tf.resource, name=None)\n",
            "  133104703885152: TensorSpec(shape=(), dtype=tf.resource, name=None)\n",
            "  133104703883568: TensorSpec(shape=(), dtype=tf.resource, name=None)\n",
            "  133104703881808: TensorSpec(shape=(), dtype=tf.resource, name=None)\n",
            "  133104703884800: TensorSpec(shape=(), dtype=tf.resource, name=None)\n",
            "  133104705032384: TensorSpec(shape=(), dtype=tf.resource, name=None)\n",
            "  133104705038896: TensorSpec(shape=(), dtype=tf.resource, name=None)\n",
            "  133104703884096: TensorSpec(shape=(), dtype=tf.resource, name=None)\n",
            "  133104703884272: TensorSpec(shape=(), dtype=tf.resource, name=None)\n",
            "  133104701980912: TensorSpec(shape=(), dtype=tf.resource, name=None)\n",
            "  133104701983024: TensorSpec(shape=(), dtype=tf.resource, name=None)\n",
            "  133104705040656: TensorSpec(shape=(), dtype=tf.resource, name=None)\n",
            "  133104703185392: TensorSpec(shape=(), dtype=tf.resource, name=None)\n",
            "  133104703183456: TensorSpec(shape=(), dtype=tf.resource, name=None)\n",
            "  133104703189264: TensorSpec(shape=(), dtype=tf.resource, name=None)\n",
            "  133104702047152: TensorSpec(shape=(), dtype=tf.resource, name=None)\n",
            "  133104702048384: TensorSpec(shape=(), dtype=tf.resource, name=None)\n",
            "  133104703192784: TensorSpec(shape=(), dtype=tf.resource, name=None)\n",
            "  133104701987776: TensorSpec(shape=(), dtype=tf.resource, name=None)\n",
            "  133104701988304: TensorSpec(shape=(), dtype=tf.resource, name=None)\n",
            "  133104701988832: TensorSpec(shape=(), dtype=tf.resource, name=None)\n",
            "  133104701989360: TensorSpec(shape=(), dtype=tf.resource, name=None)\n",
            "  133104701989888: TensorSpec(shape=(), dtype=tf.resource, name=None)\n",
            "  133104701990416: TensorSpec(shape=(), dtype=tf.resource, name=None)\n",
            "  133104701990944: TensorSpec(shape=(), dtype=tf.resource, name=None)\n",
            "  133104702049616: TensorSpec(shape=(), dtype=tf.resource, name=None)\n",
            "  133104702046976: TensorSpec(shape=(), dtype=tf.resource, name=None)\n",
            "  133104701982496: TensorSpec(shape=(), dtype=tf.resource, name=None)\n",
            "  133104701982848: TensorSpec(shape=(), dtype=tf.resource, name=None)\n",
            "  133104701995168: TensorSpec(shape=(), dtype=tf.resource, name=None)\n",
            "  133104701993408: TensorSpec(shape=(), dtype=tf.resource, name=None)\n",
            "  133104703926016: TensorSpec(shape=(), dtype=tf.resource, name=None)\n",
            "  133104703924784: TensorSpec(shape=(), dtype=tf.resource, name=None)\n",
            "  133104703916160: TensorSpec(shape=(), dtype=tf.resource, name=None)\n",
            "  133104702054016: TensorSpec(shape=(), dtype=tf.resource, name=None)\n",
            "  133104701990240: TensorSpec(shape=(), dtype=tf.resource, name=None)\n",
            "  133104701988656: TensorSpec(shape=(), dtype=tf.resource, name=None)\n",
            "  133104705041008: TensorSpec(shape=(), dtype=tf.resource, name=None)\n",
            "  133104703887968: TensorSpec(shape=(), dtype=tf.resource, name=None)\n",
            "  133104703920736: TensorSpec(shape=(), dtype=tf.resource, name=None)\n",
            "  133104703919504: TensorSpec(shape=(), dtype=tf.resource, name=None)\n",
            "  133104703918976: TensorSpec(shape=(), dtype=tf.resource, name=None)\n",
            "  133104703926192: TensorSpec(shape=(), dtype=tf.resource, name=None)\n",
            "  133104703918800: TensorSpec(shape=(), dtype=tf.resource, name=None)\n",
            "  133104703915808: TensorSpec(shape=(), dtype=tf.resource, name=None)\n",
            "  133104703917920: TensorSpec(shape=(), dtype=tf.resource, name=None)\n",
            "  133104703917040: TensorSpec(shape=(), dtype=tf.resource, name=None)\n",
            "  133104702056304: TensorSpec(shape=(), dtype=tf.resource, name=None)\n",
            "  133104702054720: TensorSpec(shape=(), dtype=tf.resource, name=None)\n",
            "  133104703921616: TensorSpec(shape=(), dtype=tf.resource, name=None)\n",
            "  133104703927072: TensorSpec(shape=(), dtype=tf.resource, name=None)\n",
            "  133104703922672: TensorSpec(shape=(), dtype=tf.resource, name=None)\n",
            "  133104703924080: TensorSpec(shape=(), dtype=tf.resource, name=None)\n",
            "  133104703926720: TensorSpec(shape=(), dtype=tf.resource, name=None)\n",
            "  133104702052432: TensorSpec(shape=(), dtype=tf.resource, name=None)\n",
            "  133104702055952: TensorSpec(shape=(), dtype=tf.resource, name=None)\n",
            "  133104702056480: TensorSpec(shape=(), dtype=tf.resource, name=None)\n",
            "  133104702057360: TensorSpec(shape=(), dtype=tf.resource, name=None)\n",
            "  133104702053840: TensorSpec(shape=(), dtype=tf.resource, name=None)\n",
            "  133104702057008: TensorSpec(shape=(), dtype=tf.resource, name=None)\n",
            "  133104702057536: TensorSpec(shape=(), dtype=tf.resource, name=None)\n",
            "  133104702058064: TensorSpec(shape=(), dtype=tf.resource, name=None)\n",
            "  133104702058592: TensorSpec(shape=(), dtype=tf.resource, name=None)\n",
            "  133104702060000: TensorSpec(shape=(), dtype=tf.resource, name=None)\n",
            "  133104702047504: TensorSpec(shape=(), dtype=tf.resource, name=None)\n",
            "  133104702060880: TensorSpec(shape=(), dtype=tf.resource, name=None)\n",
            "  133104702061408: TensorSpec(shape=(), dtype=tf.resource, name=None)\n",
            "  133104702060352: TensorSpec(shape=(), dtype=tf.resource, name=None)\n",
            "  133104702058240: TensorSpec(shape=(), dtype=tf.resource, name=None)\n",
            "  133104702147744: TensorSpec(shape=(), dtype=tf.resource, name=None)\n",
            "  133104702146512: TensorSpec(shape=(), dtype=tf.resource, name=None)\n",
            "  133104702150032: TensorSpec(shape=(), dtype=tf.resource, name=None)\n",
            "  133104701982320: TensorSpec(shape=(), dtype=tf.resource, name=None)\n",
            "  133104702055248: TensorSpec(shape=(), dtype=tf.resource, name=None)\n",
            "  133104702047328: TensorSpec(shape=(), dtype=tf.resource, name=None)\n",
            "  133104702156192: TensorSpec(shape=(), dtype=tf.resource, name=None)\n",
            "  133104702156720: TensorSpec(shape=(), dtype=tf.resource, name=None)\n",
            "  133104702157248: TensorSpec(shape=(), dtype=tf.resource, name=None)\n",
            "  133104703889904: TensorSpec(shape=(), dtype=tf.resource, name=None)\n",
            "  133104702155136: TensorSpec(shape=(), dtype=tf.resource, name=None)\n",
            "  133104702156544: TensorSpec(shape=(), dtype=tf.resource, name=None)\n",
            "  133104702048736: TensorSpec(shape=(), dtype=tf.resource, name=None)\n",
            "  133104701984256: TensorSpec(shape=(), dtype=tf.resource, name=None)\n",
            "  133104701991296: TensorSpec(shape=(), dtype=tf.resource, name=None)\n",
            "  133104701983200: TensorSpec(shape=(), dtype=tf.resource, name=None)\n",
            "  133104701992000: TensorSpec(shape=(), dtype=tf.resource, name=None)\n",
            "  133104701996048: TensorSpec(shape=(), dtype=tf.resource, name=None)\n",
            "  133104701994288: TensorSpec(shape=(), dtype=tf.resource, name=None)\n",
            "  133104701989712: TensorSpec(shape=(), dtype=tf.resource, name=None)\n",
            "  133104702157776: TensorSpec(shape=(), dtype=tf.resource, name=None)\n",
            "  133104702157600: TensorSpec(shape=(), dtype=tf.resource, name=None)\n",
            "  133104701994464: TensorSpec(shape=(), dtype=tf.resource, name=None)\n",
            "  133104701990768: TensorSpec(shape=(), dtype=tf.resource, name=None)\n",
            "  133104701989536: TensorSpec(shape=(), dtype=tf.resource, name=None)\n",
            "  133104701983376: TensorSpec(shape=(), dtype=tf.resource, name=None)\n",
            "  133104702235472: TensorSpec(shape=(), dtype=tf.resource, name=None)\n",
            "  133104702236704: TensorSpec(shape=(), dtype=tf.resource, name=None)\n",
            "  133104701992704: TensorSpec(shape=(), dtype=tf.resource, name=None)\n",
            "  133104702159712: TensorSpec(shape=(), dtype=tf.resource, name=None)\n",
            "  133104702160240: TensorSpec(shape=(), dtype=tf.resource, name=None)\n",
            "  133104702159184: TensorSpec(shape=(), dtype=tf.resource, name=None)\n",
            "  133104702158304: TensorSpec(shape=(), dtype=tf.resource, name=None)\n",
            "  133104702157072: TensorSpec(shape=(), dtype=tf.resource, name=None)\n",
            "  133104702158656: TensorSpec(shape=(), dtype=tf.resource, name=None)\n",
            "  133104702159536: TensorSpec(shape=(), dtype=tf.resource, name=None)\n",
            "  133104702237936: TensorSpec(shape=(), dtype=tf.resource, name=None)\n",
            "  133104702235296: TensorSpec(shape=(), dtype=tf.resource, name=None)\n",
            "  133104702227376: TensorSpec(shape=(), dtype=tf.resource, name=None)\n",
            "  133104702228608: TensorSpec(shape=(), dtype=tf.resource, name=None)\n",
            "  133104702232832: TensorSpec(shape=(), dtype=tf.resource, name=None)\n",
            "  133104702231600: TensorSpec(shape=(), dtype=tf.resource, name=None)\n",
            "  133104702236528: TensorSpec(shape=(), dtype=tf.resource, name=None)\n",
            "  133104702227024: TensorSpec(shape=(), dtype=tf.resource, name=None)\n",
            "  133104702238464: TensorSpec(shape=(), dtype=tf.resource, name=None)\n",
            "  133104702239696: TensorSpec(shape=(), dtype=tf.resource, name=None)\n",
            "  133104702233008: TensorSpec(shape=(), dtype=tf.resource, name=None)\n",
            "  133104702229488: TensorSpec(shape=(), dtype=tf.resource, name=None)\n",
            "2024-11-13 13:38:33.516032: E external/local_xla/xla/stream_executor/cuda/cuda_fft.cc:485] Unable to register cuFFT factory: Attempting to register factory for plugin cuFFT when one has already been registered\n",
            "2024-11-13 13:38:33.556127: E external/local_xla/xla/stream_executor/cuda/cuda_dnn.cc:8454] Unable to register cuDNN factory: Attempting to register factory for plugin cuDNN when one has already been registered\n",
            "2024-11-13 13:38:33.569590: E external/local_xla/xla/stream_executor/cuda/cuda_blas.cc:1452] Unable to register cuBLAS factory: Attempting to register factory for plugin cuBLAS when one has already been registered\n",
            "2024-11-13 13:38:35.891973: W tensorflow/compiler/tf2tensorrt/utils/py_utils.cc:38] TF-TRT Warning: Could not find TensorRT\n",
            "/usr/lib/python3.10/runpy.py:126: RuntimeWarning: 'tf2onnx.convert' found in sys.modules after import of package 'tf2onnx', but prior to execution of 'tf2onnx.convert'; this may result in unpredictable behaviour\n",
            "  warn(RuntimeWarning(msg))\n",
            "2024-11-13 13:38:40,345 - WARNING - '--tag' not specified for saved_model. Using --tag serve\n",
            "2024-11-13 13:38:46,577 - INFO - Signatures found in model: [serve,serving_default].\n",
            "2024-11-13 13:38:46,577 - WARNING - '--signature_def' not specified, using first signature: serve\n",
            "2024-11-13 13:38:46,578 - INFO - Output names: ['output_0']\n",
            "WARNING: All log messages before absl::InitializeLog() is called are written to STDERR\n",
            "I0000 00:00:1731505126.795955    5425 devices.cc:67] Number of eligible GPUs (core count >= 8, compute capability >= 0.0): 0\n",
            "I0000 00:00:1731505149.389072    5425 devices.cc:67] Number of eligible GPUs (core count >= 8, compute capability >= 0.0): 0\n",
            "2024-11-13 13:39:18,252 - INFO - Using tensorflow=2.17.0, onnx=1.17.0, tf2onnx=1.16.1/15c810\n",
            "2024-11-13 13:39:18,252 - INFO - Using opset <onnx, 15>\n",
            "2024-11-13 13:39:20,649 - INFO - Computed 0 values for constant folding\n",
            "2024-11-13 13:39:24,449 - INFO - Optimizing ONNX model\n",
            "2024-11-13 13:39:36,739 - INFO - After optimization: Cast -158 (283->125), Concat -120 (196->76), Const -1319 (1543->224), Gather -96 (144->48), GlobalAveragePool +50 (0->50), Identity -27 (27->0), ReduceMean -50 (50->0), ReduceProd -144 (144->0), Reshape -25 (195->170), Shape -37 (86->49), Slice -1 (15->14), Squeeze -13 (15->2), Transpose -16 (66->50), Unsqueeze -330 (332->2)\n",
            "2024-11-13 13:39:37,555 - INFO - \n",
            "2024-11-13 13:39:37,555 - INFO - Successfully converted TensorFlow model vit_finetuned/ to ONNX\n",
            "2024-11-13 13:39:37,555 - INFO - Model inputs: ['keras_tensor']\n",
            "2024-11-13 13:39:37,555 - INFO - Model outputs: ['output_0']\n",
            "2024-11-13 13:39:37,555 - INFO - ONNX model is saved at vit_onnx.onnx\n"
          ]
        }
      ]
    },
    {
      "cell_type": "code",
      "source": [
        "# Converting vit_finetuned.h5 to *.onnx\n",
        "hf_model.save(\"vit_finetuned.h5\")\n",
        "\n",
        "import tf2onnx\n",
        "import onnxruntime as rt\n",
        "\n",
        "# CONFIG[\"im_size\"] = 256\n",
        "spec = [tf.TensorSpec((None, CONFIG[\"im_size\"], CONFIG[\"im_size\"], 3), tf.float32, name=\"input\")]\n",
        "\n",
        "\"\"\"\n",
        ">> The opset (operation set) defines the version of the ONNX operators that are\n",
        "used in the conversion. Each ONNX release comes with an updated set of operators,\n",
        "each with its own version. These operators define the available computational\n",
        "operations (such as matrix multiplication, activation functions, etc.) in the ONNX format.\n",
        ">> In ONNX, the output names are the names of the output tensors that the model\n",
        "produces during inference. These are used to identify the output tensors when\n",
        "running inference with the ONNX model.\n",
        ">> The model_proto is the ONNX model represented as a Protocol Buffers (protobuf)\n",
        "object. When you convert your TensorFlow model to ONNX using tf2onnx.convert.from_keras(),\n",
        "it produces a model_proto object. This object contains the full representation\n",
        "of the ONNX model, including its layers, operations, and tensors, as well as\n",
        "metadata such as input and output shapes and names.\n",
        ">> A Protocol Buffer (often abbreviated as protobuf) is a language-neutral,\n",
        "platform-neutral, extensible mechanism for serializing structured data.\n",
        "\"\"\"\n",
        "output_path = \"vit_h5.onnx\"\n",
        "model_proto, _ = tf2onnx.convert.from_keras(\n",
        "    hf_model,\n",
        "    input_signature=spec,\n",
        "    opset=13,\n",
        "    output_path=output_path,\n",
        ")\n",
        "\n",
        "output_names=[n.name for n in model_proto.graph.output]"
      ],
      "metadata": {
        "colab": {
          "base_uri": "https://localhost:8080/"
        },
        "id": "QffGSj8uuQQi",
        "outputId": "4b703f97-d97f-4851-92f3-865e214bf814"
      },
      "execution_count": null,
      "outputs": [
        {
          "output_type": "stream",
          "name": "stderr",
          "text": [
            "WARNING:absl:You are saving your model as an HDF5 file via `model.save()` or `keras.saving.save_model(model)`. This file format is considered legacy. We recommend using instead the native Keras format, e.g. `model.save('my_model.keras')` or `keras.saving.save_model(model, 'my_model.keras')`. \n"
          ]
        }
      ]
    },
    {
      "cell_type": "code",
      "source": [
        "# img = cv.imread(\"./datasets/Emotions Dataset/Emotions Dataset/test/happy/43189.jpg\")[:,:,::-1]\n",
        "im = cv.imread(\"/content/drive/MyDrive/tfds_data/datasets/Emotions Dataset/Emotions Dataset/test/happy/43189.jpg\")[:,:,::-1]\n",
        "im = cv.resize(im, (256, 256))\n",
        "im = tf.constant(im, dtype=tf.float32)\n",
        "im = tf.expand_dims(im, axis=0)"
      ],
      "metadata": {
        "id": "owjYLeRzzvpl"
      },
      "execution_count": null,
      "outputs": []
    },
    {
      "cell_type": "code",
      "source": [
        "providers = [\"CUDAExecutionProvider\", \"CPUExecutionProvider\"] # If the first isnt available, uses the latter.\n",
        "model = rt.InferenceSession(output_path, providers=providers)\n",
        "onnx_pred = model.run(output_names, {\"input\":im.numpy()})\n",
        "print(onnx_pred)\n",
        "print(rt.get_device())"
      ],
      "metadata": {
        "colab": {
          "base_uri": "https://localhost:8080/"
        },
        "id": "nbOwf3QExgNL",
        "outputId": "af201488-bd5b-4bd8-ec98-3bf0c1551d97"
      },
      "execution_count": null,
      "outputs": [
        {
          "output_type": "stream",
          "name": "stdout",
          "text": [
            "CPU\n"
          ]
        },
        {
          "output_type": "stream",
          "name": "stderr",
          "text": [
            "/usr/local/lib/python3.10/dist-packages/onnxruntime/capi/onnxruntime_inference_collection.py:115: UserWarning: Specified provider 'CUDAExecutionProvider' is not in available provider names.Available providers: 'AzureExecutionProvider, CPUExecutionProvider'\n",
            "  warnings.warn(\n"
          ]
        },
        {
          "output_type": "stream",
          "name": "stdout",
          "text": [
            "[array([[0.22118872, 0.5982765 , 0.18053485]], dtype=float32)]\n"
          ]
        }
      ]
    },
    {
      "cell_type": "markdown",
      "source": [
        "# ONNX PTQ (Post Training Quantization)"
      ],
      "metadata": {
        "id": "vaxeEqzjJ4eo"
      }
    },
    {
      "cell_type": "code",
      "source": [
        "# https://netron.app/ -> Vizualize ONNX models internally (very cool stuff).\n",
        "import onnx\n",
        "from onnxruntime.quantization import quantize_dynamic, QuantType"
      ],
      "metadata": {
        "id": "4JVmL-tJKAFF"
      },
      "execution_count": null,
      "outputs": []
    },
    {
      "cell_type": "code",
      "source": [
        "model_fp32 = \"/content/vit_h5.onnx\"\n",
        "model_quant = \"/content/vit_quantized.onnx\"\n",
        "\n",
        "quantized_model = quantize_dynamic(model_fp32, model_quant, weight_type=QuantType.QUInt8)"
      ],
      "metadata": {
        "colab": {
          "base_uri": "https://localhost:8080/"
        },
        "id": "k3815Cc_x0c2",
        "outputId": "e7d17072-03a0-4358-b7d9-70fda66b8788"
      },
      "execution_count": null,
      "outputs": [
        {
          "output_type": "stream",
          "name": "stderr",
          "text": [
            "WARNING:root:Please consider to run pre-processing before quantization. Refer to example: https://github.com/microsoft/onnxruntime-inference-examples/blob/main/quantization/image_classification/cpu/ReadMe.md \n"
          ]
        }
      ]
    },
    {
      "cell_type": "code",
      "source": [
        "providers = [\"CPUExecutionProvider\"]\n",
        "m = rt.InferenceSession(\"/content/vit_quantized.onnx\", providers=providers)\n",
        "\n",
        "m.run(output_names, {\"input\": im.numpy()})"
      ],
      "metadata": {
        "colab": {
          "base_uri": "https://localhost:8080/"
        },
        "id": "K56_k4T2zdXl",
        "outputId": "fcc2d6c8-214f-4e16-d046-626c3cb9de40"
      },
      "execution_count": null,
      "outputs": [
        {
          "output_type": "execute_result",
          "data": {
            "text/plain": [
              "[array([[0.24106753, 0.38140106, 0.37753135]], dtype=float32)]"
            ]
          },
          "metadata": {},
          "execution_count": 11
        }
      ]
    },
    {
      "cell_type": "code",
      "source": [
        "dir(base_model)\n",
        "# print(base_model.output)"
      ],
      "metadata": {
        "id": "f8e0wqHZ8MD_"
      },
      "execution_count": null,
      "outputs": []
    },
    {
      "cell_type": "markdown",
      "source": [
        "# Quantization Aware Training (QAT)"
      ],
      "metadata": {
        "id": "yyxuIxRhevtq"
      }
    },
    {
      "cell_type": "code",
      "source": [
        "!pip install tensorflow_model_optimization"
      ],
      "metadata": {
        "id": "uubBcmi8eu6r"
      },
      "execution_count": null,
      "outputs": []
    },
    {
      "cell_type": "code",
      "source": [
        "import tensorflow_model_optimization as tfmot"
      ],
      "metadata": {
        "id": "Kykrpii1fXTU"
      },
      "execution_count": null,
      "outputs": []
    },
    {
      "cell_type": "code",
      "source": [
        "backbone = tf.keras.applications.EfficientNetB4(\n",
        "    include_top=False,\n",
        "    weights=\"imagenet\",\n",
        "    input_shape=(256, 256, 3),\n",
        ")\n",
        "backbone.trainable = False # Transfer Learning\n",
        "\n",
        "x = GlobalAveragePooling2D()(backbone.output)\n",
        "x = Dense(32, activation=\"relu\")(x)\n",
        "x = BatchNormalization()(x)\n",
        "x = Dense(32, activation=\"relu\")(x)\n",
        "x = Dense(CONFIG[\"class_size\"], activation=\"softmax\")(x)\n",
        "\n",
        "effnet = Model(inputs=backbone.input, outputs=x)\n",
        "# effnet.summary()"
      ],
      "metadata": {
        "id": "cX-OmtU7feXN"
      },
      "execution_count": null,
      "outputs": []
    },
    {
      "cell_type": "code",
      "source": [
        "# NOTE: There's some error that tfmot.quantization.keras.quantize_annotate_layer\n",
        "# is not recognizing the layers.\n",
        "def annotate_for_quantization(layer):\n",
        "  # print(layer.name)\n",
        "  # print(f\"Layer type: {type(layer)}, {isinstance(layer, (tf.keras.layers.Layer))}\")\n",
        "  # if \"conv\" in layer.name:\n",
        "  if isinstance(layer, (tf.keras.layers.Dense)):\n",
        "    return tfmot.quantization.keras.quantize_annotate_layer(layer)\n",
        "  return layer\n",
        "\n",
        "effnet_quant_annotated = tf.keras.models.clone_model(\n",
        "    effnet, clone_function=annotate_for_quantization\n",
        ")\n",
        "effnet_quant_annotated.summary()"
      ],
      "metadata": {
        "id": "Jh-qvH0khf39"
      },
      "execution_count": null,
      "outputs": []
    },
    {
      "cell_type": "code",
      "source": [
        "# From now you just need to train using fit with this quantized model.\n",
        "effnet_quant = tfmot.quantization.keras.quantize_apply(effnet_quant_annotated)"
      ],
      "metadata": {
        "id": "bxjy-Zpas35z"
      },
      "execution_count": null,
      "outputs": []
    },
    {
      "cell_type": "markdown",
      "source": [
        "# TFLite for mobile and edge devices"
      ],
      "metadata": {
        "id": "fuSdXqWY4RMZ"
      }
    },
    {
      "cell_type": "code",
      "source": [
        "!pip list | grep tensorflow\n",
        "!pip install tflite\n",
        "!pip3 install tflite-runtime"
      ],
      "metadata": {
        "id": "m1Lv-NIt4Qdf"
      },
      "execution_count": null,
      "outputs": []
    },
    {
      "cell_type": "code",
      "source": [
        "backbone = tf.keras.applications.EfficientNetB4(\n",
        "    include_top=False,\n",
        "    weights=\"imagenet\",\n",
        "    input_shape=(256, 256, 3),\n",
        ")\n",
        "backbone.trainable = False # Transfer Learning\n",
        "\n",
        "x = GlobalAveragePooling2D()(backbone.output)\n",
        "x = Dense(32, activation=\"relu\")(x)\n",
        "x = BatchNormalization()(x)\n",
        "x = Dense(32, activation=\"relu\")(x)\n",
        "x = Dense(CONFIG[\"class_size\"], activation=\"softmax\")(x)\n",
        "\n",
        "effnet = Model(inputs=backbone.input, outputs=x)\n",
        "# effnet.summary()\n",
        "effnet.save(\"effnet.h5\")"
      ],
      "metadata": {
        "colab": {
          "base_uri": "https://localhost:8080/"
        },
        "id": "moKMIVhN5r_o",
        "outputId": "4349bcb5-a6ab-4920-a53b-fc5a836dbe04"
      },
      "execution_count": null,
      "outputs": [
        {
          "output_type": "stream",
          "name": "stderr",
          "text": [
            "WARNING:absl:You are saving your model as an HDF5 file via `model.save()` or `keras.saving.save_model(model)`. This file format is considered legacy. We recommend using instead the native Keras format, e.g. `model.save('my_model.keras')` or `keras.saving.save_model(model, 'my_model.keras')`. \n"
          ]
        }
      ]
    },
    {
      "cell_type": "code",
      "source": [
        "def callibration_data_generator():\n",
        "  for image, label in train_dataset.take(20):\n",
        "    yield [image]\n",
        "\n",
        "converter = tf.lite.TFLiteConverter.from_keras_model(effnet)\n",
        "converter.optimizations = [tf.lite.Optimize.DEFAULT]\n",
        "converter.inference_input_type = tf.uint8\n",
        "converter.inference_output_type = tf.uint8\n",
        "# NOTE: Remove this below if you want Dynamic Quantization instead of Static Quantization.\n",
        "converter.representative_dataset = callibration_data_generator\n",
        "\n",
        "converted_model = converter.convert()\n",
        "\n",
        "import pathlib\n",
        "\n",
        "tflite_dir = pathlib.Path(\"/content/effnet.tflite\")\n",
        "tflite_dir.write_bytes(converted_model)"
      ],
      "metadata": {
        "id": "w6mmjeUT49DQ"
      },
      "execution_count": null,
      "outputs": []
    },
    {
      "cell_type": "code",
      "source": [
        "import tflite_runtime.interpreter as tflite\n",
        "\n",
        "# img = cv.imread(\"./datasets/Emotions Dataset/Emotions Dataset/test/happy/43189.jpg\")[:,:,::-1]\n",
        "img = cv.imread(\"/content/drive/MyDrive/tfds_data/datasets/Emotions Dataset/Emotions Dataset/test/happy/43189.jpg\")[:,:,::-1]\n",
        "img = cv.resize(img, (256, 256))\n",
        "img = np.expand_dims(img, axis=0)\n",
        "\n",
        "interpreter = tflite.Interpreter(model_path=\"/content/effnet.tflite\")\n",
        "interpreter.allocate_tensors()\n",
        "\n",
        "input_details = interpreter.get_input_details()[0]\n",
        "output_details = interpreter.get_output_details()[0]\n",
        "\n",
        "print(f\"dtype :: {input_details['dtype']}\\nindex :: {input_details['index']}\")\n",
        "\n",
        "img = img.astype(dtype=input_details[\"dtype\"])\n",
        "interpreter.set_tensor(input_details[\"index\"], img)\n",
        "\n",
        "interpreter.invoke()\n",
        "\n",
        "output = interpreter.get_tensor(output_details[\"index\"])[0]\n",
        "# NOTE: If the output is something like [94 70 92] it's because you didn't train the model.\n",
        "print(output)"
      ],
      "metadata": {
        "colab": {
          "base_uri": "https://localhost:8080/"
        },
        "id": "_pW8S4P67cL4",
        "outputId": "556f1f84-7641-4069-fe86-d3af9f54f809"
      },
      "execution_count": null,
      "outputs": [
        {
          "output_type": "stream",
          "name": "stdout",
          "text": [
            "dtype :: <class 'numpy.uint8'>\n",
            "index :: 0\n",
            "[93 70 93]\n"
          ]
        }
      ]
    }
  ]
}