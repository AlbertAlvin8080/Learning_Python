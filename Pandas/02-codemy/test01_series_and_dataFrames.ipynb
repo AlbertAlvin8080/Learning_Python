{
 "cells": [
  {
   "cell_type": "markdown",
   "metadata": {},
   "source": [
    "## Series\n"
   ]
  },
  {
   "cell_type": "code",
   "execution_count": 2,
   "metadata": {},
   "outputs": [],
   "source": [
    "import pandas as pd\n",
    "import numpy as np"
   ]
  },
  {
   "cell_type": "code",
   "execution_count": 8,
   "metadata": {},
   "outputs": [
    {
     "data": {
      "text/plain": [
       "0    21\n",
       "1     4\n",
       "2    23\n",
       "3    12\n",
       "4    22\n",
       "5    23\n",
       "6    24\n",
       "7     9\n",
       "8    19\n",
       "9    23\n",
       "dtype: int32"
      ]
     },
     "execution_count": 8,
     "metadata": {},
     "output_type": "execute_result"
    }
   ],
   "source": [
    "my_data = np.random.randint(31, size=30)\n",
    "my_series = pd.Series(my_data)\n",
    "# my_series[:10]\n",
    "my_series.head(10)"
   ]
  },
  {
   "cell_type": "code",
   "execution_count": 30,
   "metadata": {},
   "outputs": [
    {
     "data": {
      "text/plain": [
       "A    99\n",
       "B    98\n",
       "C    97\n",
       "D    96\n",
       "E    95\n",
       "dtype: Int32"
      ]
     },
     "execution_count": 30,
     "metadata": {},
     "output_type": "execute_result"
    }
   ],
   "source": [
    "my_data = np.array([99, 98, 97, 96, 95])\n",
    "my_index = [\"A\", \"B\", \"C\", \"D\", \"E\"]\n",
    "# Curiosity: pd.Int32Dtype() is just np.int32 in the end.\n",
    "my_series = pd.Series(my_data, index=my_index, dtype=pd.Int32Dtype()) \n",
    "my_series"
   ]
  },
  {
   "cell_type": "code",
   "execution_count": 37,
   "metadata": {},
   "outputs": [
    {
     "data": {
      "text/plain": [
       "RAM        30\n",
       "ROM        40\n",
       "CPU        10\n",
       "GPU        70\n",
       "Display    10\n",
       "dtype: int64"
      ]
     },
     "execution_count": 37,
     "metadata": {},
     "output_type": "execute_result"
    }
   ],
   "source": [
    "my_data = {\n",
    "    \"RAM\":30,\n",
    "    \"ROM\":40,\n",
    "    \"CPU\":10,\n",
    "    \"GPU\":70,\n",
    "    \"Display\":10,\n",
    "}\n",
    "my_series = pd.Series(my_data)\n",
    "my_series"
   ]
  },
  {
   "cell_type": "markdown",
   "metadata": {},
   "source": [
    "## DataFrame"
   ]
  },
  {
   "cell_type": "code",
   "execution_count": 43,
   "metadata": {},
   "outputs": [
    {
     "data": {
      "text/html": [
       "<div>\n",
       "<style scoped>\n",
       "    .dataframe tbody tr th:only-of-type {\n",
       "        vertical-align: middle;\n",
       "    }\n",
       "\n",
       "    .dataframe tbody tr th {\n",
       "        vertical-align: top;\n",
       "    }\n",
       "\n",
       "    .dataframe thead th {\n",
       "        text-align: right;\n",
       "    }\n",
       "</style>\n",
       "<table border=\"1\" class=\"dataframe\">\n",
       "  <thead>\n",
       "    <tr style=\"text-align: right;\">\n",
       "      <th></th>\n",
       "      <th>Sunday</th>\n",
       "      <th>Monday</th>\n",
       "      <th>Tuesday</th>\n",
       "      <th>Carole</th>\n",
       "      <th>Thursday</th>\n",
       "    </tr>\n",
       "  </thead>\n",
       "  <tbody>\n",
       "    <tr>\n",
       "      <th>A</th>\n",
       "      <td>0.316005</td>\n",
       "      <td>1.167977</td>\n",
       "      <td>0.520013</td>\n",
       "      <td>-0.053995</td>\n",
       "      <td>-0.401608</td>\n",
       "    </tr>\n",
       "    <tr>\n",
       "      <th>B</th>\n",
       "      <td>0.142067</td>\n",
       "      <td>-0.301901</td>\n",
       "      <td>-0.080475</td>\n",
       "      <td>1.156787</td>\n",
       "      <td>-1.769222</td>\n",
       "    </tr>\n",
       "    <tr>\n",
       "      <th>C</th>\n",
       "      <td>-1.341404</td>\n",
       "      <td>0.581369</td>\n",
       "      <td>-1.702217</td>\n",
       "      <td>-1.616045</td>\n",
       "      <td>-1.365488</td>\n",
       "    </tr>\n",
       "    <tr>\n",
       "      <th>D</th>\n",
       "      <td>0.563651</td>\n",
       "      <td>-0.072833</td>\n",
       "      <td>0.022623</td>\n",
       "      <td>0.064911</td>\n",
       "      <td>-1.180190</td>\n",
       "    </tr>\n",
       "  </tbody>\n",
       "</table>\n",
       "</div>"
      ],
      "text/plain": [
       "     Sunday    Monday   Tuesday    Carole  Thursday\n",
       "A  0.316005  1.167977  0.520013 -0.053995 -0.401608\n",
       "B  0.142067 -0.301901 -0.080475  1.156787 -1.769222\n",
       "C -1.341404  0.581369 -1.702217 -1.616045 -1.365488\n",
       "D  0.563651 -0.072833  0.022623  0.064911 -1.180190"
      ]
     },
     "execution_count": 43,
     "metadata": {},
     "output_type": "execute_result"
    }
   ],
   "source": [
    "data = np.random.randn(4, 5)\n",
    "index = [\"A\",\"B\",\"C\",\"D\"]\n",
    "header = [\"Sunday\",\"Monday\", \"Tuesday\", \"Carole\",\"Thursday\"]\n",
    "df = pd.DataFrame(data=data, index=index, columns=header)\n",
    "df"
   ]
  },
  {
   "cell_type": "code",
   "execution_count": 44,
   "metadata": {},
   "outputs": [
    {
     "data": {
      "text/html": [
       "<div>\n",
       "<style scoped>\n",
       "    .dataframe tbody tr th:only-of-type {\n",
       "        vertical-align: middle;\n",
       "    }\n",
       "\n",
       "    .dataframe tbody tr th {\n",
       "        vertical-align: top;\n",
       "    }\n",
       "\n",
       "    .dataframe thead th {\n",
       "        text-align: right;\n",
       "    }\n",
       "</style>\n",
       "<table border=\"1\" class=\"dataframe\">\n",
       "  <thead>\n",
       "    <tr style=\"text-align: right;\">\n",
       "      <th></th>\n",
       "      <th>id</th>\n",
       "      <th>Name</th>\n",
       "      <th>Price</th>\n",
       "    </tr>\n",
       "  </thead>\n",
       "  <tbody>\n",
       "    <tr>\n",
       "      <th>Tier 1</th>\n",
       "      <td>112</td>\n",
       "      <td>CPU</td>\n",
       "      <td>900.9</td>\n",
       "    </tr>\n",
       "    <tr>\n",
       "      <th>Tier 2</th>\n",
       "      <td>732</td>\n",
       "      <td>RAM</td>\n",
       "      <td>50.0</td>\n",
       "    </tr>\n",
       "    <tr>\n",
       "      <th>Tier 3</th>\n",
       "      <td>1384</td>\n",
       "      <td>ROM</td>\n",
       "      <td>298.0</td>\n",
       "    </tr>\n",
       "    <tr>\n",
       "      <th>Tier 4</th>\n",
       "      <td>983</td>\n",
       "      <td>GPU</td>\n",
       "      <td>400.0</td>\n",
       "    </tr>\n",
       "  </tbody>\n",
       "</table>\n",
       "</div>"
      ],
      "text/plain": [
       "          id Name  Price\n",
       "Tier 1   112  CPU  900.9\n",
       "Tier 2   732  RAM   50.0\n",
       "Tier 3  1384  ROM  298.0\n",
       "Tier 4   983  GPU  400.0"
      ]
     },
     "execution_count": 44,
     "metadata": {},
     "output_type": "execute_result"
    }
   ],
   "source": [
    "data = {\n",
    "    \"id\": [112, 732, 1384, 983],\n",
    "    \"Name\": [\"CPU\", \"RAM\", \"ROM\", \"GPU\"],\n",
    "    \"Price\": [900.9, 50.0, 298.0, 400.0],\n",
    "}\n",
    "index = [\"Tier 1\", \"Tier 2\", \"Tier 3\", \"Tier 4\"]\n",
    "df = pd.DataFrame(data, index=index)\n",
    "df"
   ]
  },
  {
   "cell_type": "code",
   "execution_count": 58,
   "metadata": {},
   "outputs": [
    {
     "data": {
      "text/html": [
       "<div>\n",
       "<style scoped>\n",
       "    .dataframe tbody tr th:only-of-type {\n",
       "        vertical-align: middle;\n",
       "    }\n",
       "\n",
       "    .dataframe tbody tr th {\n",
       "        vertical-align: top;\n",
       "    }\n",
       "\n",
       "    .dataframe thead th {\n",
       "        text-align: right;\n",
       "    }\n",
       "</style>\n",
       "<table border=\"1\" class=\"dataframe\">\n",
       "  <thead>\n",
       "    <tr style=\"text-align: right;\">\n",
       "      <th></th>\n",
       "      <th>index</th>\n",
       "      <th>#</th>\n",
       "      <th>Name</th>\n",
       "      <th>Type 1</th>\n",
       "      <th>Type 2</th>\n",
       "      <th>HP</th>\n",
       "      <th>Attack</th>\n",
       "      <th>Defense</th>\n",
       "      <th>Sp. Atk</th>\n",
       "      <th>Sp. Def</th>\n",
       "      <th>Speed</th>\n",
       "      <th>Generation</th>\n",
       "      <th>Legendary</th>\n",
       "    </tr>\n",
       "  </thead>\n",
       "  <tbody>\n",
       "    <tr>\n",
       "      <th>0</th>\n",
       "      <td>0</td>\n",
       "      <td>1</td>\n",
       "      <td>Bulbasaur</td>\n",
       "      <td>Grass</td>\n",
       "      <td>Poison</td>\n",
       "      <td>45</td>\n",
       "      <td>49</td>\n",
       "      <td>49</td>\n",
       "      <td>65</td>\n",
       "      <td>65</td>\n",
       "      <td>45</td>\n",
       "      <td>1</td>\n",
       "      <td>False</td>\n",
       "    </tr>\n",
       "    <tr>\n",
       "      <th>1</th>\n",
       "      <td>37</td>\n",
       "      <td>32</td>\n",
       "      <td>Nidoran (Male)</td>\n",
       "      <td>Poison</td>\n",
       "      <td>NaN</td>\n",
       "      <td>46</td>\n",
       "      <td>57</td>\n",
       "      <td>40</td>\n",
       "      <td>40</td>\n",
       "      <td>40</td>\n",
       "      <td>50</td>\n",
       "      <td>1</td>\n",
       "      <td>False</td>\n",
       "    </tr>\n",
       "  </tbody>\n",
       "</table>\n",
       "</div>"
      ],
      "text/plain": [
       "   index   #            Name  Type 1  Type 2  HP  Attack  Defense  Sp. Atk  \\\n",
       "0      0   1       Bulbasaur   Grass  Poison  45      49       49       65   \n",
       "1     37  32  Nidoran (Male)  Poison     NaN  46      57       40       40   \n",
       "\n",
       "   Sp. Def  Speed  Generation  Legendary  \n",
       "0       65     45           1      False  \n",
       "1       40     50           1      False  "
      ]
     },
     "execution_count": 58,
     "metadata": {},
     "output_type": "execute_result"
    }
   ],
   "source": [
    "df2 = pd.read_csv(\"pokemon_data.csv\")\n",
    "df2.loc[[0, 37]].reset_index()"
   ]
  }
 ],
 "metadata": {
  "kernelspec": {
   "display_name": ".venv",
   "language": "python",
   "name": "python3"
  },
  "language_info": {
   "codemirror_mode": {
    "name": "ipython",
    "version": 3
   },
   "file_extension": ".py",
   "mimetype": "text/x-python",
   "name": "python",
   "nbconvert_exporter": "python",
   "pygments_lexer": "ipython3",
   "version": "3.10.11"
  }
 },
 "nbformat": 4,
 "nbformat_minor": 2
}
