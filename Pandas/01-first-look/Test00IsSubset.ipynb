{
 "cells": [
  {
   "cell_type": "code",
   "execution_count": 2,
   "metadata": {},
   "outputs": [
    {
     "name": "stdout",
     "output_type": "stream",
     "text": [
      "All required columns present: False\n"
     ]
    }
   ],
   "source": [
    "import pandas as pd\n",
    "\n",
    "# Sample DataFrame\n",
    "data = {\n",
    "    \"Name\": [\"Bulbasaur\", \"Charmander\", \"Squirtle\", \"Pikachu\", \"Blaziken\"],\n",
    "    \"Generation\": [1, 1, 1, 2, 6],\n",
    "    \"Attack\": [49, 52, 48, 55, 120],\n",
    "    \"HP\": [45, 39, 44, 35, 80],\n",
    "    \"Defense\": [49, 43, 65, 40, 70],\n",
    "    \"Sp. Atk\": [65, 60, 50, 50, 110],\n",
    "    \"Sp. Def\": [65, 50, 64, 50, 70],\n",
    "    \"Speed\": [45, 65, 43, 90, 80],\n",
    "}\n",
    "df = pd.DataFrame(data)\n",
    "\n",
    "# required_columns = [\"HP\", \"Attack\", \"Defense\", \"Sp. Atk\", \"Sp. Def\", \"Speed\"]\n",
    "required_columns = [\"HP\", \"Attack\", \"Defense\", \"Sp. Atk\", \"Sp. Def\", \"Speed\", \"NULL\"]\n",
    "\n",
    "# Check if all required columns are present\n",
    "columns_present = set(required_columns).issubset(df.columns)\n",
    "\n",
    "print(\"All required columns present:\", columns_present)"
   ]
  }
 ],
 "metadata": {
  "kernelspec": {
   "display_name": ".venv",
   "language": "python",
   "name": "python3"
  },
  "language_info": {
   "codemirror_mode": {
    "name": "ipython",
    "version": 3
   },
   "file_extension": ".py",
   "mimetype": "text/x-python",
   "name": "python",
   "nbconvert_exporter": "python",
   "pygments_lexer": "ipython3",
   "version": "3.10.11"
  }
 },
 "nbformat": 4,
 "nbformat_minor": 2
}
