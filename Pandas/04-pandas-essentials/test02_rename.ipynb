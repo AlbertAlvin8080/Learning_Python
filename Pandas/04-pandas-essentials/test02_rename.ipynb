{
 "cells": [
  {
   "cell_type": "code",
   "execution_count": null,
   "metadata": {},
   "outputs": [],
   "source": [
    "import numpy as np\n",
    "import pandas as pd\n",
    "\n",
    "data = {\n",
    "    \"Employee\": \n",
    "        [\"Klaus Poppe\", \"Franz Bonaparta\", np.nan, \"Jakub Farobek\", \"Emil Šébe\", \"Helmuth Voss\", \"Josef Bäumler\", \"Klaus Poppe\", \"Franz Bonaparta\", \"Jakub Farobek\", \"Emil Šébe\", \"Helmuth Voss\", \"Josef Bäumler\"],\n",
    "    \"Salary\": \n",
    "        [1000, None, 320, 450, 420, np.nan, np.nan, 1000, None, 450, 420, np.nan, np.nan],\n",
    "    \"Performance%\": \n",
    "        [98, None, 50, 10, 43, 2, 67, 98, None, 10, np.nan, np.nan, 13],\n",
    "    \"Year\": \n",
    "        [2023, 2023, 2023, 2023, 2023, 2023, 2023, 2024, 2024, 2024, 2024, 2024, 2024]\n",
    "}\n",
    "\n",
    "df = pd.DataFrame(data=data)\n",
    "# df[\"Employee\"] = df[\"Employee\"].dropna(axis=0, inplace=False) # Doesn't work \n",
    "df.dropna(subset=[\"Employee\"], axis=0, inplace=True) # But this does\n",
    "\n",
    "df.fillna({'Salary': 0.0, 'Performance%': 0.0}, inplace=True)\n",
    "df = df.astype({'Salary': 'float32', 'Performance%': 'int32'})\n",
    "\n",
    "df.head()"
   ]
  },
  {
   "cell_type": "code",
   "execution_count": null,
   "metadata": {},
   "outputs": [],
   "source": [
    "copy = df.rename(columns={\"Employee\":\"Employee Name\"}, inplace=False)\n",
    "copy"
   ]
  }
 ],
 "metadata": {
  "language_info": {
   "name": "python"
  }
 },
 "nbformat": 4,
 "nbformat_minor": 2
}
